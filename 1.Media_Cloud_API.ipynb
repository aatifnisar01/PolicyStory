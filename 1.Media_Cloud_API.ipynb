{
 "cells": [
  {
   "cell_type": "markdown",
   "metadata": {
    "id": "dTMHHq2OMOhi"
   },
   "source": [
    "# Necessary Steps"
   ]
  },
  {
   "cell_type": "code",
   "execution_count": 2,
   "metadata": {
    "colab": {
     "base_uri": "https://localhost:8080/"
    },
    "executionInfo": {
     "elapsed": 101291,
     "status": "ok",
     "timestamp": 1743614134161,
     "user": {
      "displayName": "ICTD IITD",
      "userId": "11419946949516230456"
     },
     "user_tz": -330
    },
    "id": "xXowmzpDWb6F",
    "outputId": "8ff477d6-c2ec-4831-f380-341d26592f36"
   },
   "outputs": [
    {
     "name": "stdout",
     "output_type": "stream",
     "text": [
      "Mounted at /content/drive\n"
     ]
    }
   ],
   "source": [
    "from google.colab import drive\n",
    "drive.mount('/content/drive')"
   ]
  },
  {
   "cell_type": "code",
   "execution_count": 3,
   "metadata": {
    "colab": {
     "base_uri": "https://localhost:8080/"
    },
    "executionInfo": {
     "elapsed": 2264,
     "status": "ok",
     "timestamp": 1743614136421,
     "user": {
      "displayName": "ICTD IITD",
      "userId": "11419946949516230456"
     },
     "user_tz": -330
    },
    "id": "DIlZmaL4VivO",
    "outputId": "3de380a9-27ef-464d-fa30-3654d7a634ae"
   },
   "outputs": [
    {
     "name": "stdout",
     "output_type": "stream",
     "text": [
      "Collecting mediacloud>=4.1.0\n",
      "  Downloading mediacloud-4.3.0-py3-none-any.whl.metadata (4.3 kB)\n",
      "Requirement already satisfied: requests==2.* in /usr/local/lib/python3.11/dist-packages (from mediacloud>=4.1.0) (2.32.3)\n",
      "Requirement already satisfied: charset-normalizer<4,>=2 in /usr/local/lib/python3.11/dist-packages (from requests==2.*->mediacloud>=4.1.0) (3.4.1)\n",
      "Requirement already satisfied: idna<4,>=2.5 in /usr/local/lib/python3.11/dist-packages (from requests==2.*->mediacloud>=4.1.0) (3.10)\n",
      "Requirement already satisfied: urllib3<3,>=1.21.1 in /usr/local/lib/python3.11/dist-packages (from requests==2.*->mediacloud>=4.1.0) (2.3.0)\n",
      "Requirement already satisfied: certifi>=2017.4.17 in /usr/local/lib/python3.11/dist-packages (from requests==2.*->mediacloud>=4.1.0) (2025.1.31)\n",
      "Downloading mediacloud-4.3.0-py3-none-any.whl (19 kB)\n",
      "Installing collected packages: mediacloud\n",
      "Successfully installed mediacloud-4.3.0\n"
     ]
    }
   ],
   "source": [
    "!pip install \"mediacloud>=4.1.0\""
   ]
  },
  {
   "cell_type": "code",
   "execution_count": 4,
   "metadata": {
    "executionInfo": {
     "elapsed": 426,
     "status": "ok",
     "timestamp": 1743614136854,
     "user": {
      "displayName": "ICTD IITD",
      "userId": "11419946949516230456"
     },
     "user_tz": -330
    },
    "id": "P-jhksrBVr81"
   },
   "outputs": [],
   "source": [
    "import sys\n",
    "import mediacloud.api\n",
    "from importlib.metadata import version\n",
    "import datetime as dt\n",
    "from IPython.display import JSON\n",
    "import bokeh.io\n",
    "import os\n",
    "import csv\n",
    "#from dotenv import load_dotenv"
   ]
  },
  {
   "cell_type": "code",
   "execution_count": 5,
   "metadata": {
    "colab": {
     "base_uri": "https://localhost:8080/"
    },
    "executionInfo": {
     "elapsed": 17,
     "status": "ok",
     "timestamp": 1743614136877,
     "user": {
      "displayName": "ICTD IITD",
      "userId": "11419946949516230456"
     },
     "user_tz": -330
    },
    "id": "IWtlUgcfWtdR",
    "outputId": "4095c1a5-c8f0-4c28-cb15-3282f33ae620"
   },
   "outputs": [
    {
     "name": "stdout",
     "output_type": "stream",
     "text": [
      "/content/drive/MyDrive/MediaCloud\n"
     ]
    }
   ],
   "source": [
    "cd /content/drive/MyDrive/MediaCloud"
   ]
  },
  {
   "cell_type": "code",
   "execution_count": 6,
   "metadata": {
    "colab": {
     "base_uri": "https://localhost:8080/",
     "height": 0
    },
    "executionInfo": {
     "elapsed": 15,
     "status": "ok",
     "timestamp": 1743614136895,
     "user": {
      "displayName": "ICTD IITD",
      "userId": "11419946949516230456"
     },
     "user_tz": -330
    },
    "id": "VBZmL-OPXFnA",
    "outputId": "effb17e2-adb0-4fe3-ba32-d4d5bf6f1ad2"
   },
   "outputs": [
    {
     "data": {
      "application/vnd.google.colaboratory.intrinsic+json": {
       "type": "string"
      },
      "text/plain": [
       "'/content/drive/MyDrive/MediaCloud'"
      ]
     },
     "execution_count": 6,
     "metadata": {},
     "output_type": "execute_result"
    }
   ],
   "source": [
    "pwd = os.getcwd()\n",
    "pwd"
   ]
  },
  {
   "cell_type": "markdown",
   "metadata": {
    "id": "d9p-zrVwWt48"
   },
   "source": [
    "#  **1. SETUP**"
   ]
  },
  {
   "cell_type": "code",
   "execution_count": null,
   "metadata": {
    "executionInfo": {
     "elapsed": 25,
     "status": "aborted",
     "timestamp": 1743614022574,
     "user": {
      "displayName": "ICTD IITD",
      "userId": "11419946949516230456"
     },
     "user_tz": -330
    },
    "id": "x2rQDDc0VvKg"
   },
   "outputs": [],
   "source": [
    "# Set your personal API KEY\n",
    "MC_API_KEY = 'ENTER KEY HERE'\n",
    "search_api = mediacloud.api.SearchApi(MC_API_KEY)\n",
    "f'Using Media Cloud python client v{version(\"mediacloud\")}'"
   ]
  },
  {
   "cell_type": "code",
   "execution_count": null,
   "metadata": {
    "executionInfo": {
     "elapsed": 122109,
     "status": "aborted",
     "timestamp": 1743614022578,
     "user": {
      "displayName": "ICTD IITD",
      "userId": "11419946949516230456"
     },
     "user_tz": -330
    },
    "id": "yLGn0p8MXPi9"
   },
   "outputs": [],
   "source": [
    "# make sure your connection and API key work by asking for the total count of in 2023\n",
    "results = search_api.story_count('*', dt.date(2023,11,1), dt.date(2023,12,31))\n",
    "results"
   ]
  },
  {
   "cell_type": "markdown",
   "metadata": {
    "id": "vUrkdU2DYJYq"
   },
   "source": [
    "# **2. ATTENTION**"
   ]
  },
  {
   "cell_type": "code",
   "execution_count": null,
   "metadata": {
    "id": "8oQhrZJZYMBk"
   },
   "outputs": [],
   "source": [
    "bokeh.io.reset_output()\n",
    "bokeh.io.output_notebook()"
   ]
  },
  {
   "cell_type": "code",
   "execution_count": null,
   "metadata": {
    "colab": {
     "base_uri": "https://localhost:8080/",
     "height": 35
    },
    "executionInfo": {
     "elapsed": 587,
     "status": "ok",
     "timestamp": 1743489909154,
     "user": {
      "displayName": "ICTD IITD",
      "userId": "11419946949516230456"
     },
     "user_tz": -330
    },
    "id": "J64Azg7TblMz",
    "outputId": "888c60ce-23b3-47d9-adf5-0c05810e9158"
   },
   "outputs": [
    {
     "data": {
      "application/vnd.google.colaboratory.intrinsic+json": {
       "type": "string"
      },
      "text/plain": [
       "'Using Media Cloud python client v4.3.0'"
      ]
     },
     "execution_count": 11,
     "metadata": {},
     "output_type": "execute_result"
    }
   ],
   "source": [
    "# Set your personal API KEY\n",
    "MC_API_KEY = 'ENTER KEY HERE'\n",
    "search_api = mediacloud.api.SearchApi(MC_API_KEY)\n",
    "f'Using Media Cloud python client v{version(\"mediacloud\")}'"
   ]
  },
  {
   "cell_type": "markdown",
   "metadata": {
    "id": "itdq8Keob6LQ"
   },
   "source": [
    "#### Attention from a Single Media Source"
   ]
  },
  {
   "cell_type": "code",
   "execution_count": null,
   "metadata": {
    "colab": {
     "base_uri": "https://localhost:8080/"
    },
    "executionInfo": {
     "elapsed": 535,
     "status": "ok",
     "timestamp": 1726132730291,
     "user": {
      "displayName": "ICTD IITD",
      "userId": "11419946949516230456"
     },
     "user_tz": -330
    },
    "id": "rkbWfEwbbo-E",
    "outputId": "6a5db2c0-3f74-4297-8426-5ad5f1a2bb52"
   },
   "outputs": [
    {
     "data": {
      "text/plain": [
       "{'relevant': 1561, 'total': 85152}"
      ]
     },
     "execution_count": 10,
     "metadata": {},
     "output_type": "execute_result"
    }
   ],
   "source": [
    "# check how many stories include the phrase \"climate change\" in the Washington Post (media id #2)\n",
    "my_query = ' \"budget\" AND (\"finance minister\" OR \"union budget\" OR \"fiscal policy\" OR \"tax reforms\" OR \"Nirmala\" OR \"budget speech\" OR \"budget allocation\" OR \"fiscal deficit\") '\n",
    "start_date = dt.date(2023, 1, 1)\n",
    "end_date = dt.date(2023, 3,1)\n",
    "sources = [39784]    # Media ID of Times of India = #39784\n",
    "search_api.story_count(my_query, start_date, end_date, source_ids=sources)"
   ]
  },
  {
   "cell_type": "code",
   "execution_count": null,
   "metadata": {
    "id": "W3Wt4uhKcsWb"
   },
   "outputs": [],
   "source": [
    "# you can see this count by day as well\n",
    "results = search_api.story_count_over_time(my_query, start_date, end_date, source_ids=sources)\n",
    "#JSON(results)"
   ]
  },
  {
   "cell_type": "code",
   "execution_count": null,
   "metadata": {
    "colab": {
     "base_uri": "https://localhost:8080/"
    },
    "executionInfo": {
     "elapsed": 12,
     "status": "ok",
     "timestamp": 1726132730292,
     "user": {
      "displayName": "ICTD IITD",
      "userId": "11419946949516230456"
     },
     "user_tz": -330
    },
    "id": "uvPKU9mHc_8s",
    "outputId": "557c9320-8edb-4d67-9f16-772e767d377b"
   },
   "outputs": [
    {
     "name": "stdout",
     "output_type": "stream",
     "text": [
      "[{'date': datetime.date(2023, 1, 1), 'total_count': 1014, 'count': 4, 'ratio': 0.0039447731755424065}, {'date': datetime.date(2023, 1, 2), 'total_count': 1329, 'count': 7, 'ratio': 0.005267118133935289}, {'date': datetime.date(2023, 1, 3), 'total_count': 1484, 'count': 10, 'ratio': 0.006738544474393531}, {'date': datetime.date(2023, 1, 4), 'total_count': 1632, 'count': 6, 'ratio': 0.003676470588235294}, {'date': datetime.date(2023, 1, 5), 'total_count': 1627, 'count': 9, 'ratio': 0.005531653349723417}, {'date': datetime.date(2023, 1, 6), 'total_count': 1559, 'count': 10, 'ratio': 0.006414368184733804}, {'date': datetime.date(2023, 1, 7), 'total_count': 1279, 'count': 6, 'ratio': 0.004691164972634871}, {'date': datetime.date(2023, 1, 8), 'total_count': 1160, 'count': 3, 'ratio': 0.002586206896551724}, {'date': datetime.date(2023, 1, 9), 'total_count': 1464, 'count': 11, 'ratio': 0.007513661202185792}, {'date': datetime.date(2023, 1, 10), 'total_count': 1539, 'count': 4, 'ratio': 0.002599090318388564}, {'date': datetime.date(2023, 1, 11), 'total_count': 1627, 'count': 8, 'ratio': 0.004917025199754148}, {'date': datetime.date(2023, 1, 12), 'total_count': 1580, 'count': 10, 'ratio': 0.006329113924050633}, {'date': datetime.date(2023, 1, 13), 'total_count': 1502, 'count': 10, 'ratio': 0.006657789613848202}, {'date': datetime.date(2023, 1, 14), 'total_count': 1177, 'count': 9, 'ratio': 0.0076465590484282074}, {'date': datetime.date(2023, 1, 15), 'total_count': 1124, 'count': 4, 'ratio': 0.0035587188612099642}, {'date': datetime.date(2023, 1, 16), 'total_count': 1357, 'count': 16, 'ratio': 0.011790714812085483}, {'date': datetime.date(2023, 1, 17), 'total_count': 1464, 'count': 15, 'ratio': 0.010245901639344262}, {'date': datetime.date(2023, 1, 18), 'total_count': 1567, 'count': 20, 'ratio': 0.012763241863433313}, {'date': datetime.date(2023, 1, 19), 'total_count': 1469, 'count': 18, 'ratio': 0.012253233492171545}, {'date': datetime.date(2023, 1, 20), 'total_count': 1515, 'count': 13, 'ratio': 0.008580858085808581}, {'date': datetime.date(2023, 1, 21), 'total_count': 1183, 'count': 5, 'ratio': 0.00422654268808115}, {'date': datetime.date(2023, 1, 22), 'total_count': 1203, 'count': 5, 'ratio': 0.004156275976724855}, {'date': datetime.date(2023, 1, 23), 'total_count': 1438, 'count': 12, 'ratio': 0.008344923504867872}, {'date': datetime.date(2023, 1, 24), 'total_count': 1488, 'count': 13, 'ratio': 0.008736559139784945}, {'date': datetime.date(2023, 1, 25), 'total_count': 1539, 'count': 18, 'ratio': 0.011695906432748537}, {'date': datetime.date(2023, 1, 26), 'total_count': 1264, 'count': 20, 'ratio': 0.015822784810126583}, {'date': datetime.date(2023, 1, 27), 'total_count': 940, 'count': 17, 'ratio': 0.018085106382978722}, {'date': datetime.date(2023, 1, 28), 'total_count': 1168, 'count': 17, 'ratio': 0.014554794520547944}, {'date': datetime.date(2023, 1, 29), 'total_count': 1134, 'count': 34, 'ratio': 0.029982363315696647}, {'date': datetime.date(2023, 1, 30), 'total_count': 1453, 'count': 32, 'ratio': 0.02202339986235375}, {'date': datetime.date(2023, 1, 31), 'total_count': 1561, 'count': 71, 'ratio': 0.04548366431774504}, {'date': datetime.date(2023, 2, 1), 'total_count': 1628, 'count': 281, 'ratio': 0.1726044226044226}, {'date': datetime.date(2023, 2, 2), 'total_count': 1386, 'count': 244, 'ratio': 0.17604617604617603}, {'date': datetime.date(2023, 2, 3), 'total_count': 1524, 'count': 70, 'ratio': 0.045931758530183726}, {'date': datetime.date(2023, 2, 4), 'total_count': 1302, 'count': 62, 'ratio': 0.047619047619047616}, {'date': datetime.date(2023, 2, 5), 'total_count': 1206, 'count': 41, 'ratio': 0.03399668325041459}, {'date': datetime.date(2023, 2, 6), 'total_count': 1427, 'count': 39, 'ratio': 0.027330063069376315}, {'date': datetime.date(2023, 2, 7), 'total_count': 1628, 'count': 20, 'ratio': 0.012285012285012284}, {'date': datetime.date(2023, 2, 8), 'total_count': 1647, 'count': 19, 'ratio': 0.01153612629022465}, {'date': datetime.date(2023, 2, 9), 'total_count': 1581, 'count': 21, 'ratio': 0.013282732447817837}, {'date': datetime.date(2023, 2, 10), 'total_count': 1534, 'count': 22, 'ratio': 0.014341590612777053}, {'date': datetime.date(2023, 2, 11), 'total_count': 1243, 'count': 29, 'ratio': 0.02333065164923572}, {'date': datetime.date(2023, 2, 12), 'total_count': 1186, 'count': 10, 'ratio': 0.008431703204047217}, {'date': datetime.date(2023, 2, 13), 'total_count': 1401, 'count': 9, 'ratio': 0.006423982869379015}, {'date': datetime.date(2023, 2, 14), 'total_count': 1557, 'count': 11, 'ratio': 0.007064868336544637}, {'date': datetime.date(2023, 2, 15), 'total_count': 1619, 'count': 14, 'ratio': 0.008647313156269302}, {'date': datetime.date(2023, 2, 16), 'total_count': 1611, 'count': 17, 'ratio': 0.010552451893234015}, {'date': datetime.date(2023, 2, 17), 'total_count': 1587, 'count': 19, 'ratio': 0.011972274732199117}, {'date': datetime.date(2023, 2, 18), 'total_count': 1333, 'count': 18, 'ratio': 0.01350337584396099}, {'date': datetime.date(2023, 2, 19), 'total_count': 1194, 'count': 15, 'ratio': 0.01256281407035176}, {'date': datetime.date(2023, 2, 20), 'total_count': 1507, 'count': 11, 'ratio': 0.0072992700729927005}, {'date': datetime.date(2023, 2, 21), 'total_count': 1645, 'count': 14, 'ratio': 0.00851063829787234}, {'date': datetime.date(2023, 2, 22), 'total_count': 1646, 'count': 23, 'ratio': 0.013973268529769137}, {'date': datetime.date(2023, 2, 23), 'total_count': 1616, 'count': 28, 'ratio': 0.017326732673267328}, {'date': datetime.date(2023, 2, 24), 'total_count': 1385, 'count': 12, 'ratio': 0.008664259927797834}, {'date': datetime.date(2023, 2, 25), 'total_count': 1121, 'count': 14, 'ratio': 0.012488849241748439}, {'date': datetime.date(2023, 2, 26), 'total_count': 1137, 'count': 10, 'ratio': 0.008795074758135445}, {'date': datetime.date(2023, 2, 27), 'total_count': 1426, 'count': 13, 'ratio': 0.0091164095371669}, {'date': datetime.date(2023, 2, 28), 'total_count': 1596, 'count': 17, 'ratio': 0.010651629072681704}, {'date': datetime.date(2023, 3, 1), 'total_count': 1639, 'count': 21, 'ratio': 0.012812690665039659}]\n"
     ]
    }
   ],
   "source": [
    "print(results)"
   ]
  },
  {
   "cell_type": "markdown",
   "metadata": {
    "id": "xXJn8wsUGWx9"
   },
   "source": [
    "#### Manually aggregate by month or year"
   ]
  },
  {
   "cell_type": "code",
   "execution_count": null,
   "metadata": {
    "colab": {
     "base_uri": "https://localhost:8080/"
    },
    "executionInfo": {
     "elapsed": 10,
     "status": "ok",
     "timestamp": 1726132730292,
     "user": {
      "displayName": "ICTD IITD",
      "userId": "11419946949516230456"
     },
     "user_tz": -330
    },
    "id": "4n7t0A_JGWhX",
    "outputId": "f0fbc50c-eeee-4f95-fafb-29d746022da9"
   },
   "outputs": [
    {
     "name": "stdout",
     "output_type": "stream",
     "text": [
      "2023-01: 437\n",
      "2023-02: 1103\n",
      "2023-03: 21\n"
     ]
    }
   ],
   "source": [
    "from collections import defaultdict\n",
    "\n",
    "# Aggregating by month\n",
    "monthly_counts = defaultdict(int)\n",
    "\n",
    "# Assuming 'results' is a list of dictionaries with 'date' and 'count' keys\n",
    "for result in results:\n",
    "    # Ensure 'result' is a dictionary with 'date' and 'count'\n",
    "    if isinstance(result, dict) and 'date' in result and 'count' in result:\n",
    "        # Directly use the date object, no need to convert\n",
    "        date = result['date']\n",
    "\n",
    "        # Create a key in the format 'YYYY-MM' for monthly aggregation\n",
    "        month_key = date.strftime('%Y-%m')\n",
    "\n",
    "        # Sum up the counts for each month\n",
    "        monthly_counts[month_key] += result['count']\n",
    "\n",
    "# Print or use the aggregated monthly counts\n",
    "for month, count in monthly_counts.items():\n",
    "    print(f\"{month}: {count}\")\n"
   ]
  },
  {
   "cell_type": "markdown",
   "metadata": {
    "id": "uMAi4RYNQJEK"
   },
   "source": [
    "#### Plot count"
   ]
  },
  {
   "cell_type": "code",
   "execution_count": null,
   "metadata": {
    "colab": {
     "base_uri": "https://localhost:8080/",
     "height": 267
    },
    "executionInfo": {
     "elapsed": 547,
     "status": "ok",
     "timestamp": 1726132730832,
     "user": {
      "displayName": "ICTD IITD",
      "userId": "11419946949516230456"
     },
     "user_tz": -330
    },
    "id": "plLBnyE6dkCl",
    "outputId": "bd02520a-98a5-4775-8051-9dccb239c687"
   },
   "outputs": [
    {
     "data": {
      "application/javascript": "'use strict';\n(function(root) {\n  function now() {\n    return new Date();\n  }\n\n  const force = true;\n\n  if (typeof root._bokeh_onload_callbacks === \"undefined\" || force === true) {\n    root._bokeh_onload_callbacks = [];\n    root._bokeh_is_loading = undefined;\n  }\n\nconst JS_MIME_TYPE = 'application/javascript';\n  const HTML_MIME_TYPE = 'text/html';\n  const EXEC_MIME_TYPE = 'application/vnd.bokehjs_exec.v0+json';\n  const CLASS_NAME = 'output_bokeh rendered_html';\n\n  /**\n   * Render data to the DOM node\n   */\n  function render(props, node) {\n    const script = document.createElement(\"script\");\n    node.appendChild(script);\n  }\n\n  /**\n   * Handle when an output is cleared or removed\n   */\n  function handleClearOutput(event, handle) {\n    function drop(id) {\n      const view = Bokeh.index.get_by_id(id)\n      if (view != null) {\n        view.model.document.clear()\n        Bokeh.index.delete(view)\n      }\n    }\n\n    const cell = handle.cell;\n\n    const id = cell.output_area._bokeh_element_id;\n    const server_id = cell.output_area._bokeh_server_id;\n\n    // Clean up Bokeh references\n    if (id != null) {\n      drop(id)\n    }\n\n    if (server_id !== undefined) {\n      // Clean up Bokeh references\n      const cmd_clean = \"from bokeh.io.state import curstate; print(curstate().uuid_to_server['\" + server_id + \"'].get_sessions()[0].document.roots[0]._id)\";\n      cell.notebook.kernel.execute(cmd_clean, {\n        iopub: {\n          output: function(msg) {\n            const id = msg.content.text.trim()\n            drop(id)\n          }\n        }\n      });\n      // Destroy server and session\n      const cmd_destroy = \"import bokeh.io.notebook as ion; ion.destroy_server('\" + server_id + \"')\";\n      cell.notebook.kernel.execute(cmd_destroy);\n    }\n  }\n\n  /**\n   * Handle when a new output is added\n   */\n  function handleAddOutput(event, handle) {\n    const output_area = handle.output_area;\n    const output = handle.output;\n\n    // limit handleAddOutput to display_data with EXEC_MIME_TYPE content only\n    if ((output.output_type != \"display_data\") || (!Object.prototype.hasOwnProperty.call(output.data, EXEC_MIME_TYPE))) {\n      return\n    }\n\n    const toinsert = output_area.element.find(\".\" + CLASS_NAME.split(' ')[0]);\n\n    if (output.metadata[EXEC_MIME_TYPE][\"id\"] !== undefined) {\n      toinsert[toinsert.length - 1].firstChild.textContent = output.data[JS_MIME_TYPE];\n      // store reference to embed id on output_area\n      output_area._bokeh_element_id = output.metadata[EXEC_MIME_TYPE][\"id\"];\n    }\n    if (output.metadata[EXEC_MIME_TYPE][\"server_id\"] !== undefined) {\n      const bk_div = document.createElement(\"div\");\n      bk_div.innerHTML = output.data[HTML_MIME_TYPE];\n      const script_attrs = bk_div.children[0].attributes;\n      for (let i = 0; i < script_attrs.length; i++) {\n        toinsert[toinsert.length - 1].firstChild.setAttribute(script_attrs[i].name, script_attrs[i].value);\n        toinsert[toinsert.length - 1].firstChild.textContent = bk_div.children[0].textContent\n      }\n      // store reference to server id on output_area\n      output_area._bokeh_server_id = output.metadata[EXEC_MIME_TYPE][\"server_id\"];\n    }\n  }\n\n  function register_renderer(events, OutputArea) {\n\n    function append_mime(data, metadata, element) {\n      // create a DOM node to render to\n      const toinsert = this.create_output_subarea(\n        metadata,\n        CLASS_NAME,\n        EXEC_MIME_TYPE\n      );\n      this.keyboard_manager.register_events(toinsert);\n      // Render to node\n      const props = {data: data, metadata: metadata[EXEC_MIME_TYPE]};\n      render(props, toinsert[toinsert.length - 1]);\n      element.append(toinsert);\n      return toinsert\n    }\n\n    /* Handle when an output is cleared or removed */\n    events.on('clear_output.CodeCell', handleClearOutput);\n    events.on('delete.Cell', handleClearOutput);\n\n    /* Handle when a new output is added */\n    events.on('output_added.OutputArea', handleAddOutput);\n\n    /**\n     * Register the mime type and append_mime function with output_area\n     */\n    OutputArea.prototype.register_mime_type(EXEC_MIME_TYPE, append_mime, {\n      /* Is output safe? */\n      safe: true,\n      /* Index of renderer in `output_area.display_order` */\n      index: 0\n    });\n  }\n\n  // register the mime type if in Jupyter Notebook environment and previously unregistered\n  if (root.Jupyter !== undefined) {\n    const events = require('base/js/events');\n    const OutputArea = require('notebook/js/outputarea').OutputArea;\n\n    if (OutputArea.prototype.mime_types().indexOf(EXEC_MIME_TYPE) == -1) {\n      register_renderer(events, OutputArea);\n    }\n  }\n  if (typeof (root._bokeh_timeout) === \"undefined\" || force === true) {\n    root._bokeh_timeout = Date.now() + 5000;\n    root._bokeh_failed_load = false;\n  }\n\n  const NB_LOAD_WARNING = {'data': {'text/html':\n     \"<div style='background-color: #fdd'>\\n\"+\n     \"<p>\\n\"+\n     \"BokehJS does not appear to have successfully loaded. If loading BokehJS from CDN, this \\n\"+\n     \"may be due to a slow or bad network connection. Possible fixes:\\n\"+\n     \"</p>\\n\"+\n     \"<ul>\\n\"+\n     \"<li>re-rerun `output_notebook()` to attempt to load from CDN again, or</li>\\n\"+\n     \"<li>use INLINE resources instead, as so:</li>\\n\"+\n     \"</ul>\\n\"+\n     \"<code>\\n\"+\n     \"from bokeh.resources import INLINE\\n\"+\n     \"output_notebook(resources=INLINE)\\n\"+\n     \"</code>\\n\"+\n     \"</div>\"}};\n\n  function display_loaded(error = null) {\n    const el = document.getElementById(null);\n    if (el != null) {\n      const html = (() => {\n        if (typeof root.Bokeh === \"undefined\") {\n          if (error == null) {\n            return \"BokehJS is loading ...\";\n          } else {\n            return \"BokehJS failed to load.\";\n          }\n        } else {\n          const prefix = `BokehJS ${root.Bokeh.version}`;\n          if (error == null) {\n            return `${prefix} successfully loaded.`;\n          } else {\n            return `${prefix} <b>encountered errors</b> while loading and may not function as expected.`;\n          }\n        }\n      })();\n      el.innerHTML = html;\n\n      if (error != null) {\n        const wrapper = document.createElement(\"div\");\n        wrapper.style.overflow = \"auto\";\n        wrapper.style.height = \"5em\";\n        wrapper.style.resize = \"vertical\";\n        const content = document.createElement(\"div\");\n        content.style.fontFamily = \"monospace\";\n        content.style.whiteSpace = \"pre-wrap\";\n        content.style.backgroundColor = \"rgb(255, 221, 221)\";\n        content.textContent = error.stack ?? error.toString();\n        wrapper.append(content);\n        el.append(wrapper);\n      }\n    } else if (Date.now() < root._bokeh_timeout) {\n      setTimeout(() => display_loaded(error), 100);\n    }\n  }\n\n  function run_callbacks() {\n    try {\n      root._bokeh_onload_callbacks.forEach(function(callback) {\n        if (callback != null)\n          callback();\n      });\n    } finally {\n      delete root._bokeh_onload_callbacks\n    }\n    console.debug(\"Bokeh: all callbacks have finished\");\n  }\n\n  function load_libs(css_urls, js_urls, callback) {\n    if (css_urls == null) css_urls = [];\n    if (js_urls == null) js_urls = [];\n\n    root._bokeh_onload_callbacks.push(callback);\n    if (root._bokeh_is_loading > 0) {\n      console.debug(\"Bokeh: BokehJS is being loaded, scheduling callback at\", now());\n      return null;\n    }\n    if (js_urls == null || js_urls.length === 0) {\n      run_callbacks();\n      return null;\n    }\n    console.debug(\"Bokeh: BokehJS not loaded, scheduling load and callback at\", now());\n    root._bokeh_is_loading = css_urls.length + js_urls.length;\n\n    function on_load() {\n      root._bokeh_is_loading--;\n      if (root._bokeh_is_loading === 0) {\n        console.debug(\"Bokeh: all BokehJS libraries/stylesheets loaded\");\n        run_callbacks()\n      }\n    }\n\n    function on_error(url) {\n      console.error(\"failed to load \" + url);\n    }\n\n    for (let i = 0; i < css_urls.length; i++) {\n      const url = css_urls[i];\n      const element = document.createElement(\"link\");\n      element.onload = on_load;\n      element.onerror = on_error.bind(null, url);\n      element.rel = \"stylesheet\";\n      element.type = \"text/css\";\n      element.href = url;\n      console.debug(\"Bokeh: injecting link tag for BokehJS stylesheet: \", url);\n      document.body.appendChild(element);\n    }\n\n    for (let i = 0; i < js_urls.length; i++) {\n      const url = js_urls[i];\n      const element = document.createElement('script');\n      element.onload = on_load;\n      element.onerror = on_error.bind(null, url);\n      element.async = false;\n      element.src = url;\n      console.debug(\"Bokeh: injecting script tag for BokehJS library: \", url);\n      document.head.appendChild(element);\n    }\n  };\n\n  function inject_raw_css(css) {\n    const element = document.createElement(\"style\");\n    element.appendChild(document.createTextNode(css));\n    document.body.appendChild(element);\n  }\n\n  const js_urls = [\"https://cdn.bokeh.org/bokeh/release/bokeh-3.4.3.min.js\", \"https://cdn.bokeh.org/bokeh/release/bokeh-gl-3.4.3.min.js\", \"https://cdn.bokeh.org/bokeh/release/bokeh-widgets-3.4.3.min.js\", \"https://cdn.bokeh.org/bokeh/release/bokeh-tables-3.4.3.min.js\", \"https://cdn.bokeh.org/bokeh/release/bokeh-mathjax-3.4.3.min.js\"];\n  const css_urls = [];\n\n  const inline_js = [    function(Bokeh) {\n      Bokeh.set_log_level(\"info\");\n    },\nfunction(Bokeh) {\n    }\n  ];\n\n  function run_inline_js() {\n    if (root.Bokeh !== undefined || force === true) {\n      try {\n            for (let i = 0; i < inline_js.length; i++) {\n      inline_js[i].call(root, root.Bokeh);\n    }\n\n      } catch (error) {throw error;\n      }} else if (Date.now() < root._bokeh_timeout) {\n      setTimeout(run_inline_js, 100);\n    } else if (!root._bokeh_failed_load) {\n      console.log(\"Bokeh: BokehJS failed to load within specified timeout.\");\n      root._bokeh_failed_load = true;\n    } else if (force !== true) {\n      const cell = $(document.getElementById(null)).parents('.cell').data().cell;\n      cell.output_area.append_execute_result(NB_LOAD_WARNING)\n    }\n  }\n\n  if (root._bokeh_is_loading === 0) {\n    console.debug(\"Bokeh: BokehJS loaded, going straight to plotting\");\n    run_inline_js();\n  } else {\n    load_libs(css_urls, js_urls, function() {\n      console.debug(\"Bokeh: BokehJS plotting callback run at\", now());\n      run_inline_js();\n    });\n  }\n}(window));",
      "application/vnd.bokehjs_load.v0+json": ""
     },
     "metadata": {},
     "output_type": "display_data"
    },
    {
     "data": {
      "text/html": [
       "\n",
       "  <div id=\"d0045bd7-7d6c-48e4-8ea7-f421fc76a598\" data-root-id=\"p1004\" style=\"display: contents;\"></div>\n"
      ]
     },
     "metadata": {},
     "output_type": "display_data"
    },
    {
     "data": {
      "application/javascript": "(function(root) {\n  function embed_document(root) {\n  const docs_json = {\"8441981d-4c82-48a8-ac07-690b748a71d1\":{\"version\":\"3.4.3\",\"title\":\"Bokeh Application\",\"roots\":[{\"type\":\"object\",\"name\":\"Figure\",\"id\":\"p1004\",\"attributes\":{\"width\":900,\"height\":250,\"x_range\":{\"type\":\"object\",\"name\":\"DataRange1d\",\"id\":\"p1005\"},\"y_range\":{\"type\":\"object\",\"name\":\"DataRange1d\",\"id\":\"p1006\"},\"x_scale\":{\"type\":\"object\",\"name\":\"LinearScale\",\"id\":\"p1013\"},\"y_scale\":{\"type\":\"object\",\"name\":\"LinearScale\",\"id\":\"p1014\"},\"title\":{\"type\":\"object\",\"name\":\"Title\",\"id\":\"p1011\"},\"renderers\":[{\"type\":\"object\",\"name\":\"GlyphRenderer\",\"id\":\"p1054\",\"attributes\":{\"data_source\":{\"type\":\"object\",\"name\":\"ColumnDataSource\",\"id\":\"p1001\",\"attributes\":{\"selected\":{\"type\":\"object\",\"name\":\"Selection\",\"id\":\"p1002\",\"attributes\":{\"indices\":[],\"line_indices\":[]}},\"selection_policy\":{\"type\":\"object\",\"name\":\"UnionRenderers\",\"id\":\"p1003\"},\"data\":{\"type\":\"map\",\"entries\":[[\"index\",{\"type\":\"ndarray\",\"array\":{\"type\":\"bytes\",\"data\":\"AAAAAAEAAAACAAAAAwAAAAQAAAAFAAAABgAAAAcAAAAIAAAACQAAAAoAAAALAAAADAAAAA0AAAAOAAAADwAAABAAAAARAAAAEgAAABMAAAAUAAAAFQAAABYAAAAXAAAAGAAAABkAAAAaAAAAGwAAABwAAAAdAAAAHgAAAB8AAAAgAAAAIQAAACIAAAAjAAAAJAAAACUAAAAmAAAAJwAAACgAAAApAAAAKgAAACsAAAAsAAAALQAAAC4AAAAvAAAAMAAAADEAAAAyAAAAMwAAADQAAAA1AAAANgAAADcAAAA4AAAAOQAAADoAAAA7AAAA\"},\"shape\":[60],\"dtype\":\"int32\",\"order\":\"little\"}],[\"date\",{\"type\":\"ndarray\",\"array\":{\"type\":\"bytes\",\"data\":\"AACADKpWeEIAAEBy/FZ4QgAAANhOV3hCAADAPaFXeEIAAICj81d4QgAAQAlGWHhCAAAAb5hYeEIAAMDU6lh4QgAAgDo9WXhCAABAoI9ZeEIAAAAG4ll4QgAAwGs0WnhCAACA0YZaeEIAAEA32Vp4QgAAAJ0rW3hCAADAAn5beEIAAIBo0Ft4QgAAQM4iXHhCAAAANHVceEIAAMCZx1x4QgAAgP8ZXXhCAABAZWxdeEIAAADLvl14QgAAwDARXnhCAACAlmNeeEIAAED8tV54QgAAAGIIX3hCAADAx1pfeEIAAIAtrV94QgAAQJP/X3hCAAAA+VFgeEIAAMBepGB4QgAAgMT2YHhCAABAKklheEIAAACQm2F4QgAAwPXtYXhCAACAW0BieEIAAEDBkmJ4QgAAACflYnhCAADAjDdjeEIAAIDyiWN4QgAAQFjcY3hCAAAAvi5keEIAAMAjgWR4QgAAgInTZHhCAABA7yVleEIAAABVeGV4QgAAwLrKZXhCAACAIB1meEIAAECGb2Z4QgAAAOzBZnhCAADAURRneEIAAIC3Zmd4QgAAQB25Z3hCAAAAgwtoeEIAAMDoXWh4QgAAgE6waHhCAABAtAJpeEIAAAAaVWl4QgAAwH+naXhC\"},\"shape\":[60],\"dtype\":\"float64\",\"order\":\"little\"}],[\"total_count\",{\"type\":\"ndarray\",\"array\":{\"type\":\"bytes\",\"data\":\"9gMAADEFAADMBQAAYAYAAFsGAAAXBgAA/wQAAIgEAAC4BQAAAwYAAFsGAAAsBgAA3gUAAJkEAABkBAAATQUAALgFAAAfBgAAvQUAAOsFAACfBAAAswQAAJ4FAADQBQAAAwYAAPAEAACsAwAAkAQAAG4EAACtBQAAGQYAAFwGAABqBQAA9AUAABYFAAC2BAAAkwUAAFwGAABvBgAALQYAAP4FAADbBAAAogQAAHkFAAAVBgAAUwYAAEsGAAAzBgAANQUAAKoEAADjBQAAbQYAAG4GAABQBgAAaQUAAGEEAABxBAAAkgUAADwGAABnBgAA\"},\"shape\":[60],\"dtype\":\"int32\",\"order\":\"little\"}],[\"count\",{\"type\":\"ndarray\",\"array\":{\"type\":\"bytes\",\"data\":\"BAAAAAcAAAAKAAAABgAAAAkAAAAKAAAABgAAAAMAAAALAAAABAAAAAgAAAAKAAAACgAAAAkAAAAEAAAAEAAAAA8AAAAUAAAAEgAAAA0AAAAFAAAABQAAAAwAAAANAAAAEgAAABQAAAARAAAAEQAAACIAAAAgAAAARwAAABkBAAD0AAAARgAAAD4AAAApAAAAJwAAABQAAAATAAAAFQAAABYAAAAdAAAACgAAAAkAAAALAAAADgAAABEAAAATAAAAEgAAAA8AAAALAAAADgAAABcAAAAcAAAADAAAAA4AAAAKAAAADQAAABEAAAAVAAAA\"},\"shape\":[60],\"dtype\":\"int32\",\"order\":\"little\"}],[\"ratio\",{\"type\":\"ndarray\",\"array\":{\"type\":\"bytes\",\"data\":\"6Sl3/GQocD9aGxJC+ZJ1PzkaPkLgmXs/Hh4eHh4ebj8jja3jW6h2P1M4P9nzRXo/7qMzAgs3cz+0+lJBqy9lPxaQLxKlxn4/AKpW/a9KZT8fKNPm3yN0P9kzEJWO7Hk/7GV7yjJFez/Fj6OQ/1F/Pxpb/KMsJ20//G0d9LoliD/JEKyjzfuEP+SyJ1OdI4o/uvnzKDkYiT9RI81G15KBP8Nj7enZT3E/AHtK1isGcT8fB1SsJBeBP+SRRx555IE/QH8B/QX0hz9oICod2TOQP7Ca1vHmhJI/7ty5c+fOjT+QQJdXsrOeP/JFn1hNjZY/KXF+haJJpz8KkB3X5hfGP7kiWlyuiMY/4UV4EV6Epz8YhmEYhmGoP/5Ld2UDaKE/1YVSfGn8mz+l7/Vv4iiJP1zBHKlAoIc/NBu4K/oziz94aTy1H1+NPza0T4f945c/1XIWDKREgT/IQVjFCFB6PwvMSycN8Hw/NbWiua61gT/mQjEehpyFP5Pad4PrhIg/PFEVbainiz+BhJ9ciLqJP4qG+OPW5X0/eXNCiQZugT8VJNRaBJ6MP7x+tlgZvpE/uX9FSJG+gT9JwHb4wJOJPznVnfMmA4I/2HaNxp+rgj8IXSF0hdCFPwV3CjuKPYo/\"},\"shape\":[60],\"dtype\":\"float64\",\"order\":\"little\"}]]}}},\"view\":{\"type\":\"object\",\"name\":\"CDSView\",\"id\":\"p1055\",\"attributes\":{\"filter\":{\"type\":\"object\",\"name\":\"AllIndices\",\"id\":\"p1056\"}}},\"glyph\":{\"type\":\"object\",\"name\":\"Line\",\"id\":\"p1051\",\"attributes\":{\"x\":{\"type\":\"field\",\"field\":\"date\"},\"y\":{\"type\":\"field\",\"field\":\"count\"},\"line_color\":\"#1f77b4\",\"line_width\":2}},\"nonselection_glyph\":{\"type\":\"object\",\"name\":\"Line\",\"id\":\"p1052\",\"attributes\":{\"x\":{\"type\":\"field\",\"field\":\"date\"},\"y\":{\"type\":\"field\",\"field\":\"count\"},\"line_color\":\"#1f77b4\",\"line_alpha\":0.1,\"line_width\":2}},\"muted_glyph\":{\"type\":\"object\",\"name\":\"Line\",\"id\":\"p1053\",\"attributes\":{\"x\":{\"type\":\"field\",\"field\":\"date\"},\"y\":{\"type\":\"field\",\"field\":\"count\"},\"line_color\":\"#1f77b4\",\"line_alpha\":0.2,\"line_width\":2}}}}],\"toolbar\":{\"type\":\"object\",\"name\":\"Toolbar\",\"id\":\"p1012\",\"attributes\":{\"tools\":[{\"type\":\"object\",\"name\":\"PanTool\",\"id\":\"p1037\"},{\"type\":\"object\",\"name\":\"WheelZoomTool\",\"id\":\"p1038\",\"attributes\":{\"renderers\":\"auto\"}},{\"type\":\"object\",\"name\":\"BoxZoomTool\",\"id\":\"p1039\",\"attributes\":{\"overlay\":{\"type\":\"object\",\"name\":\"BoxAnnotation\",\"id\":\"p1040\",\"attributes\":{\"syncable\":false,\"level\":\"overlay\",\"visible\":false,\"left\":{\"type\":\"number\",\"value\":\"nan\"},\"right\":{\"type\":\"number\",\"value\":\"nan\"},\"top\":{\"type\":\"number\",\"value\":\"nan\"},\"bottom\":{\"type\":\"number\",\"value\":\"nan\"},\"left_units\":\"canvas\",\"right_units\":\"canvas\",\"top_units\":\"canvas\",\"bottom_units\":\"canvas\",\"line_color\":\"black\",\"line_alpha\":1.0,\"line_width\":2,\"line_dash\":[4,4],\"fill_color\":\"lightgrey\",\"fill_alpha\":0.5}}}},{\"type\":\"object\",\"name\":\"SaveTool\",\"id\":\"p1045\"},{\"type\":\"object\",\"name\":\"ResetTool\",\"id\":\"p1046\"},{\"type\":\"object\",\"name\":\"HelpTool\",\"id\":\"p1047\"}]}},\"left\":[{\"type\":\"object\",\"name\":\"LinearAxis\",\"id\":\"p1032\",\"attributes\":{\"ticker\":{\"type\":\"object\",\"name\":\"BasicTicker\",\"id\":\"p1033\",\"attributes\":{\"mantissas\":[1,2,5]}},\"formatter\":{\"type\":\"object\",\"name\":\"BasicTickFormatter\",\"id\":\"p1034\"},\"major_label_policy\":{\"type\":\"object\",\"name\":\"AllLabels\",\"id\":\"p1035\"}}}],\"below\":[{\"type\":\"object\",\"name\":\"DatetimeAxis\",\"id\":\"p1015\",\"attributes\":{\"ticker\":{\"type\":\"object\",\"name\":\"DatetimeTicker\",\"id\":\"p1016\",\"attributes\":{\"num_minor_ticks\":5,\"tickers\":[{\"type\":\"object\",\"name\":\"AdaptiveTicker\",\"id\":\"p1017\",\"attributes\":{\"num_minor_ticks\":0,\"mantissas\":[1,2,5],\"max_interval\":500.0}},{\"type\":\"object\",\"name\":\"AdaptiveTicker\",\"id\":\"p1018\",\"attributes\":{\"num_minor_ticks\":0,\"base\":60,\"mantissas\":[1,2,5,10,15,20,30],\"min_interval\":1000.0,\"max_interval\":1800000.0}},{\"type\":\"object\",\"name\":\"AdaptiveTicker\",\"id\":\"p1019\",\"attributes\":{\"num_minor_ticks\":0,\"base\":24,\"mantissas\":[1,2,4,6,8,12],\"min_interval\":3600000.0,\"max_interval\":43200000.0}},{\"type\":\"object\",\"name\":\"DaysTicker\",\"id\":\"p1020\",\"attributes\":{\"days\":[1,2,3,4,5,6,7,8,9,10,11,12,13,14,15,16,17,18,19,20,21,22,23,24,25,26,27,28,29,30,31]}},{\"type\":\"object\",\"name\":\"DaysTicker\",\"id\":\"p1021\",\"attributes\":{\"days\":[1,4,7,10,13,16,19,22,25,28]}},{\"type\":\"object\",\"name\":\"DaysTicker\",\"id\":\"p1022\",\"attributes\":{\"days\":[1,8,15,22]}},{\"type\":\"object\",\"name\":\"DaysTicker\",\"id\":\"p1023\",\"attributes\":{\"days\":[1,15]}},{\"type\":\"object\",\"name\":\"MonthsTicker\",\"id\":\"p1024\",\"attributes\":{\"months\":[0,1,2,3,4,5,6,7,8,9,10,11]}},{\"type\":\"object\",\"name\":\"MonthsTicker\",\"id\":\"p1025\",\"attributes\":{\"months\":[0,2,4,6,8,10]}},{\"type\":\"object\",\"name\":\"MonthsTicker\",\"id\":\"p1026\",\"attributes\":{\"months\":[0,4,8]}},{\"type\":\"object\",\"name\":\"MonthsTicker\",\"id\":\"p1027\",\"attributes\":{\"months\":[0,6]}},{\"type\":\"object\",\"name\":\"YearsTicker\",\"id\":\"p1028\"}]}},\"formatter\":{\"type\":\"object\",\"name\":\"DatetimeTickFormatter\",\"id\":\"p1029\"},\"major_label_policy\":{\"type\":\"object\",\"name\":\"AllLabels\",\"id\":\"p1030\"}}}],\"center\":[{\"type\":\"object\",\"name\":\"Grid\",\"id\":\"p1031\",\"attributes\":{\"axis\":{\"id\":\"p1015\"}}},{\"type\":\"object\",\"name\":\"Grid\",\"id\":\"p1036\",\"attributes\":{\"dimension\":1,\"axis\":{\"id\":\"p1032\"}}}]}}]}};\n  const render_items = [{\"docid\":\"8441981d-4c82-48a8-ac07-690b748a71d1\",\"roots\":{\"p1004\":\"d0045bd7-7d6c-48e4-8ea7-f421fc76a598\"},\"root_ids\":[\"p1004\"]}];\n  void root.Bokeh.embed.embed_items_notebook(docs_json, render_items);\n  }\n  if (root.Bokeh !== undefined) {\n    embed_document(root);\n  } else {\n    let attempts = 0;\n    const timer = setInterval(function(root) {\n      if (root.Bokeh !== undefined) {\n        clearInterval(timer);\n        embed_document(root);\n      } else {\n        attempts++;\n        if (attempts > 100) {\n          clearInterval(timer);\n          console.log(\"Bokeh: ERROR: Unable to run BokehJS code because BokehJS library is missing\");\n        }\n      }\n    }, 10, root)\n  }\n})(window);",
      "application/vnd.bokehjs_exec.v0+json": ""
     },
     "metadata": {
      "application/vnd.bokehjs_exec.v0+json": {
       "id": "p1004"
      }
     },
     "output_type": "display_data"
    }
   ],
   "source": [
    "# and you can chart attention over time with some simple notebook work (using Bokeh here)\n",
    "import pandas as pd\n",
    "from bokeh.plotting import figure, show\n",
    "from bokeh.models import ColumnDataSource\n",
    "df = pd.DataFrame.from_dict(results)\n",
    "df['date']= pd.to_datetime(df['date'])\n",
    "source = ColumnDataSource(df)\n",
    "p = figure(x_axis_type=\"datetime\", width=900, height=250)\n",
    "p.line(x='date', y='count', line_width=2, source=source)  # your could use `ratio` instead of `count` to see normalized attention\n",
    "show(p)"
   ]
  },
  {
   "cell_type": "markdown",
   "metadata": {
    "id": "rUtmNPBwe8p5"
   },
   "source": [
    "### Normalizing within a Source"
   ]
  },
  {
   "cell_type": "code",
   "execution_count": null,
   "metadata": {
    "colab": {
     "base_uri": "https://localhost:8080/",
     "height": 35
    },
    "executionInfo": {
     "elapsed": 1931,
     "status": "ok",
     "timestamp": 1726132737690,
     "user": {
      "displayName": "ICTD IITD",
      "userId": "11419946949516230456"
     },
     "user_tz": -330
    },
    "id": "-o_PR-8PdwV_",
    "outputId": "f0e14f3c-c101-47a3-e51b-87c664cdf1fe"
   },
   "outputs": [
    {
     "data": {
      "application/vnd.google.colaboratory.intrinsic+json": {
       "type": "string"
      },
      "text/plain": [
       "'0.12% of the TOI stories were about \"Annual Budget\" between the start_data to end_data'"
      ]
     },
     "execution_count": 15,
     "metadata": {},
     "output_type": "execute_result"
    }
   ],
   "source": [
    "results = search_api.story_count(my_query, start_date, end_date, collection_ids=sources)\n",
    "source_ratio = results['relevant'] / results['total']\n",
    "'{:.2%} of the TOI stories were about \"Annual Budget\" between the start_data to end_data'.format(source_ratio)"
   ]
  },
  {
   "cell_type": "markdown",
   "metadata": {
    "id": "6wTp7LlEr8EV"
   },
   "source": [
    "## Research Within a Country - using collections"
   ]
  },
  {
   "cell_type": "code",
   "execution_count": null,
   "metadata": {
    "colab": {
     "base_uri": "https://localhost:8080/",
     "height": 35
    },
    "executionInfo": {
     "elapsed": 20259,
     "status": "ok",
     "timestamp": 1743488971737,
     "user": {
      "displayName": "ICTD IITD",
      "userId": "11419946949516230456"
     },
     "user_tz": -330
    },
    "id": "YW2aIU-irqyE",
    "outputId": "60ac2c8b-5c91-4a98-d243-d1386ed2a5c3"
   },
   "outputs": [
    {
     "data": {
      "application/vnd.google.colaboratory.intrinsic+json": {
       "type": "string"
      },
      "text/plain": [
       "'1.58% of stories from national-level India media sources mentioneded \"budget\"'"
      ]
     },
     "execution_count": 12,
     "metadata": {},
     "output_type": "execute_result"
    }
   ],
   "source": [
    "# check in our collection of country-level India National media sources\n",
    "my_query = ' \"budget\" AND (\"finance minister\" OR \"union budget\" OR \"fiscal policy\" OR \"tax reforms\" OR \"Nirmala\" OR \"budget speech\" OR \"budget allocation\" OR \"fiscal deficit\") '\n",
    "start_date = dt.date(2023, 1, 1)\n",
    "end_date = dt.date(2023, 3,1)\n",
    "India_NATIONAL_COLLECTION = 34412118\n",
    "results = search_api.story_count(my_query, start_date, end_date, collection_ids=[India_NATIONAL_COLLECTION])\n",
    "india_country_ratio = results['relevant'] / results['total']\n",
    "'{:.2%} of stories from national-level India media sources mentioneded \"budget\"'.format(india_country_ratio)"
   ]
  },
  {
   "cell_type": "code",
   "execution_count": null,
   "metadata": {
    "colab": {
     "base_uri": "https://localhost:8080/"
    },
    "executionInfo": {
     "elapsed": 44,
     "status": "ok",
     "timestamp": 1743488977770,
     "user": {
      "displayName": "ICTD IITD",
      "userId": "11419946949516230456"
     },
     "user_tz": -330
    },
    "id": "gGRofPPQCioS",
    "outputId": "56cbf55e-0d88-45b0-f1fa-fddaa14e6157"
   },
   "outputs": [
    {
     "data": {
      "text/plain": [
       "{'relevant': 14339, 'total': 910248}"
      ]
     },
     "execution_count": 14,
     "metadata": {},
     "output_type": "execute_result"
    }
   ],
   "source": [
    "results"
   ]
  },
  {
   "cell_type": "code",
   "execution_count": null,
   "metadata": {
    "id": "awjKgS7_mEar"
   },
   "outputs": [],
   "source": [
    "# now we can compare this to the source-level coverage\n",
    "coverage_ratio = 1 / (source_ratio / india_country_ratio)\n",
    "'\"budget\" received {:.2} times less coverage in TOI than you might expect based on other India national papers'.format(coverage_ratio)"
   ]
  },
  {
   "cell_type": "code",
   "execution_count": null,
   "metadata": {
    "colab": {
     "base_uri": "https://localhost:8080/",
     "height": 35
    },
    "executionInfo": {
     "elapsed": 565,
     "status": "ok",
     "timestamp": 1726133657091,
     "user": {
      "displayName": "ICTD IITD",
      "userId": "11419946949516230456"
     },
     "user_tz": -330
    },
    "id": "a1r-dg1QuWSV",
    "outputId": "21927fbd-a3f4-46a9-9c11-f7526ce02da0"
   },
   "outputs": [
    {
     "data": {
      "application/vnd.google.colaboratory.intrinsic+json": {
       "type": "string"
      },
      "text/plain": [
       "'0.06% of stories from national-level Indian media sources in 2019 mentioned \"climate change\"'"
      ]
     },
     "execution_count": 10,
     "metadata": {},
     "output_type": "execute_result"
    }
   ],
   "source": [
    "# or compare to another country (India in this case)\n",
    "my_query = ' \"budget\" AND (\"finance minister\" OR \"union budget\" OR \"fiscal policy\" OR \"tax reforms\" OR \"Nirmala\" OR \"budget speech\" OR \"budget allocation\" OR \"fiscal deficit\") '\n",
    "start_date = dt.date(2023, 1, 1)\n",
    "end_date = dt.date(2023, 3,1)\n",
    "US_NATIONAL_COLLECTION = 34412234\n",
    "results = search_api.story_count(my_query, start_date, end_date, collection_ids=[US_NATIONAL_COLLECTION])\n",
    "us_country_ratio = results['relevant'] / results['total']\n",
    "'{:.2%} of stories from national-level US media sources mentioned \"budget\"'.format(us_country_ratio)"
   ]
  },
  {
   "cell_type": "code",
   "execution_count": null,
   "metadata": {
    "colab": {
     "base_uri": "https://localhost:8080/"
    },
    "executionInfo": {
     "elapsed": 614,
     "status": "ok",
     "timestamp": 1726133740211,
     "user": {
      "displayName": "ICTD IITD",
      "userId": "11419946949516230456"
     },
     "user_tz": -330
    },
    "id": "oZfKL7-2u0g9",
    "outputId": "e57f720e-a4bc-4a0f-9d1c-8c0efa288484"
   },
   "outputs": [
    {
     "name": "stdout",
     "output_type": "stream",
     "text": [
      "At the national level, \"budget\" is covered 0.03 times more in India than in the US.\n"
     ]
    }
   ],
   "source": [
    "coverage_ratio =  1 / (india_country_ratio / us_country_ratio)\n",
    "'at the national level \"climate change\" is covered {:.2} times less in India than the US'.format(coverage_ratio)"
   ]
  },
  {
   "cell_type": "markdown",
   "metadata": {
    "id": "ivvn4-j_wTMv"
   },
   "source": [
    "## Listing Stories"
   ]
  },
  {
   "cell_type": "code",
   "execution_count": null,
   "metadata": {
    "id": "F6J9YzTTmvc9"
   },
   "outputs": [],
   "source": [
    "#my_query = ' \"budget\" AND (\"finance minister\" OR \"union budget\" OR \"fiscal policy\" OR \"tax reforms\" OR \"Nirmala\" OR \"budget speech\" OR \"budget allocation\" OR \"fiscal deficit\") '\n",
    "my_query = ' \"farmers\" AND (\"protest\" OR \"agitation\" OR \"demonstration\" OR \"farm laws\" OR \"MSP\" OR \"police crackdown\" OR \"march to Delhi\") '\n",
    "\n",
    "start_date = dt.date(2020, 1, 1)\n",
    "end_date = dt.date(2025, 3,31)\n",
    "India_NATIONAL_COLLECTION = 34412118"
   ]
  },
  {
   "cell_type": "code",
   "execution_count": null,
   "metadata": {
    "colab": {
     "base_uri": "https://localhost:8080/",
     "height": 339
    },
    "executionInfo": {
     "elapsed": 99,
     "status": "error",
     "timestamp": 1743489194366,
     "user": {
      "displayName": "ICTD IITD",
      "userId": "11419946949516230456"
     },
     "user_tz": -330
    },
    "id": "ghGfy70evko0",
    "outputId": "817abb8a-8a26-4b9a-bef3-76d38a341303"
   },
   "outputs": [
    {
     "ename": "RuntimeError",
     "evalue": "API Server Error 403. Params: {'start': '2020-01-01', 'end': '2025-03-31', 'q': ' \"farmers\" AND (\"protest\" OR \"agitation\" OR \"demonstration\" OR \"farm laws\" OR \"MSP\" OR \"police crackdown\" OR \"march to Delhi\") ', 'platform': 'onlinenews-mediacloud', 'cs': ('34412118',)}",
     "output_type": "error",
     "traceback": [
      "\u001b[0;31m---------------------------------------------------------------------------\u001b[0m",
      "\u001b[0;31mRuntimeError\u001b[0m                              Traceback (most recent call last)",
      "\u001b[0;32m<ipython-input-23-375d3120555c>\u001b[0m in \u001b[0;36m<cell line: 0>\u001b[0;34m()\u001b[0m\n\u001b[1;32m      1\u001b[0m \u001b[0;31m# grab the most recent stories about this issue\u001b[0m\u001b[0;34m\u001b[0m\u001b[0;34m\u001b[0m\u001b[0m\n\u001b[0;32m----> 2\u001b[0;31m \u001b[0mstories\u001b[0m\u001b[0;34m,\u001b[0m \u001b[0m_\u001b[0m \u001b[0;34m=\u001b[0m \u001b[0msearch_api\u001b[0m\u001b[0;34m.\u001b[0m\u001b[0mstory_list\u001b[0m\u001b[0;34m(\u001b[0m\u001b[0mmy_query\u001b[0m\u001b[0;34m,\u001b[0m \u001b[0mstart_date\u001b[0m\u001b[0;34m,\u001b[0m \u001b[0mend_date\u001b[0m\u001b[0;34m,\u001b[0m \u001b[0mcollection_ids\u001b[0m\u001b[0;34m=\u001b[0m\u001b[0;34m[\u001b[0m\u001b[0mIndia_NATIONAL_COLLECTION\u001b[0m\u001b[0;34m]\u001b[0m\u001b[0;34m)\u001b[0m\u001b[0;34m\u001b[0m\u001b[0;34m\u001b[0m\u001b[0m\n\u001b[0m\u001b[1;32m      3\u001b[0m \u001b[0mstories\u001b[0m\u001b[0;34m[\u001b[0m\u001b[0;34m:\u001b[0m\u001b[0;36m3\u001b[0m\u001b[0;34m]\u001b[0m\u001b[0;34m\u001b[0m\u001b[0;34m\u001b[0m\u001b[0m\n",
      "\u001b[0;32m/usr/local/lib/python3.11/dist-packages/mediacloud/api.py\u001b[0m in \u001b[0;36mstory_list\u001b[0;34m(self, query, start_date, end_date, collection_ids, source_ids, platform, expanded, pagination_token, sort_order, page_size)\u001b[0m\n\u001b[1;32m    164\u001b[0m         \u001b[0;32mif\u001b[0m \u001b[0mpage_size\u001b[0m\u001b[0;34m:\u001b[0m\u001b[0;34m\u001b[0m\u001b[0;34m\u001b[0m\u001b[0m\n\u001b[1;32m    165\u001b[0m             \u001b[0mparams\u001b[0m\u001b[0;34m[\u001b[0m\u001b[0;34m'page_size'\u001b[0m\u001b[0;34m]\u001b[0m \u001b[0;34m=\u001b[0m \u001b[0mpage_size\u001b[0m\u001b[0;34m\u001b[0m\u001b[0;34m\u001b[0m\u001b[0m\n\u001b[0;32m--> 166\u001b[0;31m         \u001b[0mresults\u001b[0m \u001b[0;34m=\u001b[0m \u001b[0mself\u001b[0m\u001b[0;34m.\u001b[0m\u001b[0m_query\u001b[0m\u001b[0;34m(\u001b[0m\u001b[0;34m'search/story-list'\u001b[0m\u001b[0;34m,\u001b[0m \u001b[0mparams\u001b[0m\u001b[0;34m)\u001b[0m\u001b[0;34m\u001b[0m\u001b[0;34m\u001b[0m\u001b[0m\n\u001b[0m\u001b[1;32m    167\u001b[0m         \u001b[0;32mfor\u001b[0m \u001b[0ms\u001b[0m \u001b[0;32min\u001b[0m \u001b[0mresults\u001b[0m\u001b[0;34m[\u001b[0m\u001b[0;34m'stories'\u001b[0m\u001b[0;34m]\u001b[0m\u001b[0;34m:\u001b[0m\u001b[0;34m\u001b[0m\u001b[0;34m\u001b[0m\u001b[0m\n\u001b[1;32m    168\u001b[0m             \u001b[0ms\u001b[0m\u001b[0;34m[\u001b[0m\u001b[0;34m'publish_date'\u001b[0m\u001b[0;34m]\u001b[0m \u001b[0;34m=\u001b[0m \u001b[0mdt\u001b[0m\u001b[0;34m.\u001b[0m\u001b[0mdate\u001b[0m\u001b[0;34m.\u001b[0m\u001b[0mfromisoformat\u001b[0m\u001b[0;34m(\u001b[0m\u001b[0ms\u001b[0m\u001b[0;34m[\u001b[0m\u001b[0;34m'publish_date'\u001b[0m\u001b[0;34m]\u001b[0m\u001b[0;34m[\u001b[0m\u001b[0;34m:\u001b[0m\u001b[0;36m10\u001b[0m\u001b[0;34m]\u001b[0m\u001b[0;34m)\u001b[0m \u001b[0;32mif\u001b[0m \u001b[0ms\u001b[0m\u001b[0;34m[\u001b[0m\u001b[0;34m'publish_date'\u001b[0m\u001b[0;34m]\u001b[0m \u001b[0;32melse\u001b[0m \u001b[0;32mNone\u001b[0m\u001b[0;34m\u001b[0m\u001b[0;34m\u001b[0m\u001b[0m\n",
      "\u001b[0;32m/usr/local/lib/python3.11/dist-packages/mediacloud/api.py\u001b[0m in \u001b[0;36m_query\u001b[0;34m(self, endpoint, params, method)\u001b[0m\n\u001b[1;32m     53\u001b[0m             \u001b[0;32mraise\u001b[0m \u001b[0mRuntimeError\u001b[0m\u001b[0;34m(\u001b[0m\u001b[0;34mf\"Unsupported method of '{method}'\"\u001b[0m\u001b[0;34m)\u001b[0m\u001b[0;34m\u001b[0m\u001b[0;34m\u001b[0m\u001b[0m\n\u001b[1;32m     54\u001b[0m         \u001b[0;32mif\u001b[0m \u001b[0mr\u001b[0m\u001b[0;34m.\u001b[0m\u001b[0mstatus_code\u001b[0m \u001b[0;34m!=\u001b[0m \u001b[0;36m200\u001b[0m\u001b[0;34m:\u001b[0m\u001b[0;34m\u001b[0m\u001b[0;34m\u001b[0m\u001b[0m\n\u001b[0;32m---> 55\u001b[0;31m             \u001b[0;32mraise\u001b[0m \u001b[0mRuntimeError\u001b[0m\u001b[0;34m(\u001b[0m\u001b[0;34mf\"API Server Error {r.status_code}. Params: {params}\"\u001b[0m\u001b[0;34m)\u001b[0m\u001b[0;34m\u001b[0m\u001b[0;34m\u001b[0m\u001b[0m\n\u001b[0m\u001b[1;32m     56\u001b[0m         \u001b[0;32mreturn\u001b[0m \u001b[0mr\u001b[0m\u001b[0;34m.\u001b[0m\u001b[0mjson\u001b[0m\u001b[0;34m(\u001b[0m\u001b[0;34m)\u001b[0m\u001b[0;34m\u001b[0m\u001b[0;34m\u001b[0m\u001b[0m\n\u001b[1;32m     57\u001b[0m \u001b[0;34m\u001b[0m\u001b[0m\n",
      "\u001b[0;31mRuntimeError\u001b[0m: API Server Error 403. Params: {'start': '2020-01-01', 'end': '2025-03-31', 'q': ' \"farmers\" AND (\"protest\" OR \"agitation\" OR \"demonstration\" OR \"farm laws\" OR \"MSP\" OR \"police crackdown\" OR \"march to Delhi\") ', 'platform': 'onlinenews-mediacloud', 'cs': ('34412118',)}"
     ]
    }
   ],
   "source": [
    "# grab the most recent stories about this issue\n",
    "stories, _ = search_api.story_list(my_query, start_date, end_date, collection_ids=[India_NATIONAL_COLLECTION])\n",
    "stories[:3]"
   ]
  },
  {
   "cell_type": "code",
   "execution_count": null,
   "metadata": {
    "colab": {
     "base_uri": "https://localhost:8080/"
    },
    "executionInfo": {
     "elapsed": 13,
     "status": "ok",
     "timestamp": 1743489025841,
     "user": {
      "displayName": "ICTD IITD",
      "userId": "11419946949516230456"
     },
     "user_tz": -330
    },
    "id": "PBODP0_EHKbS",
    "outputId": "6ce593d9-50c7-457c-fd2a-6fba486d65b9"
   },
   "outputs": [
    {
     "data": {
      "text/plain": [
       "1000"
      ]
     },
     "execution_count": 17,
     "metadata": {},
     "output_type": "execute_result"
    }
   ],
   "source": [
    "len(stories)"
   ]
  },
  {
   "cell_type": "markdown",
   "metadata": {
    "id": "lXtj3OGiDvAF"
   },
   "source": [
    "# Download"
   ]
  },
  {
   "cell_type": "code",
   "execution_count": null,
   "metadata": {
    "id": "F8aSfAQVDt_q"
   },
   "outputs": [],
   "source": [
    "#my_query = ' \"budget\" AND (\"finance minister\" OR \"union budget\" OR \"fiscal policy\" OR \"tax reforms\" OR \"Nirmala\" OR \"budget speech\" OR \"budget allocation\" OR \"fiscal deficit\") '\n",
    "my_query = ' \"farmers\" AND (\"protest\" OR \"agitation\" OR \"farm laws\" OR \"MSP\" OR \"march to Delhi\") '\n",
    "\n",
    "start_date = dt.date(2022, 6, 1)\n",
    "end_date = dt.date(2022, 9,30)\n",
    "India_NATIONAL_COLLECTION = 34412118"
   ]
  },
  {
   "cell_type": "code",
   "execution_count": null,
   "metadata": {
    "colab": {
     "base_uri": "https://localhost:8080/"
    },
    "executionInfo": {
     "elapsed": 5632,
     "status": "ok",
     "timestamp": 1743490248394,
     "user": {
      "displayName": "ICTD IITD",
      "userId": "11419946949516230456"
     },
     "user_tz": -330
    },
    "id": "xj8uopE4xFvK",
    "outputId": "7c1f6ab1-3d2e-4652-e4d2-530d77f0b70e"
   },
   "outputs": [
    {
     "name": "stdout",
     "output_type": "stream",
     "text": [
      "Fetched 1000 stories, Pagination Token: MTcxNTA0NjY3OTYwOQEzNzE4NjMy\n",
      "Fetched 1000 stories, Pagination Token: MTcxNDc4MjkxNjY4OAEzMjYzNjM5\n",
      "Error occurred: API Server Error 403. Params: {'start': '2022-06-01', 'end': '2022-09-30', 'q': ' \"farmers\" AND (\"protest\" OR \"agitation\" OR \"farm laws\" OR \"MSP\" OR \"march to Delhi\") ', 'platform': 'onlinenews-mediacloud', 'cs': ('34412118',), 'pagination_token': 'MTcxNDc4MjkxNjY4OAEzMjYzNjM5'}\n",
      "Total stories fetched: 2000\n"
     ]
    }
   ],
   "source": [
    "import time\n",
    "\n",
    "all_stories = []\n",
    "more_stories = True\n",
    "pagination_token = None\n",
    "\n",
    "try:\n",
    "    while more_stories:\n",
    "        page, pagination_token = search_api.story_list(\n",
    "            my_query, start_date, end_date,\n",
    "            collection_ids=[India_NATIONAL_COLLECTION],\n",
    "            pagination_token=pagination_token\n",
    "        )\n",
    "        all_stories += page\n",
    "        more_stories = pagination_token is not None\n",
    "        print(f\"Fetched {len(page)} stories, Pagination Token: {pagination_token}\")\n",
    "\n",
    "        # Adding a small delay to prevent rate limiting\n",
    "        time.sleep(1)\n",
    "\n",
    "except RuntimeError as e:\n",
    "    print(f\"Error occurred: {e}\")\n",
    "except Exception as ex:\n",
    "    print(f\"Unexpected error: {ex}\")\n",
    "\n",
    "print(f\"Total stories fetched: {len(all_stories)}\")\n"
   ]
  },
  {
   "cell_type": "markdown",
   "metadata": {
    "id": "aid1-0hBxvOI"
   },
   "source": [
    "## Writing a CSV of Story Data"
   ]
  },
  {
   "cell_type": "code",
   "execution_count": null,
   "metadata": {
    "colab": {
     "base_uri": "https://localhost:8080/",
     "height": 35
    },
    "executionInfo": {
     "elapsed": 75,
     "status": "ok",
     "timestamp": 1743490248471,
     "user": {
      "displayName": "ICTD IITD",
      "userId": "11419946949516230456"
     },
     "user_tz": -330
    },
    "id": "IEvsSOFq39gP",
    "outputId": "c1e37623-ec6c-4817-b439-720bbf5b5830"
   },
   "outputs": [
    {
     "data": {
      "application/vnd.google.colaboratory.intrinsic+json": {
       "type": "string"
      },
      "text/plain": [
       "'/content/drive/MyDrive/MediaCloud'"
      ]
     },
     "execution_count": 58,
     "metadata": {},
     "output_type": "execute_result"
    }
   ],
   "source": [
    "pwd"
   ]
  },
  {
   "cell_type": "code",
   "execution_count": null,
   "metadata": {
    "id": "M7JpCRW8xZxC"
   },
   "outputs": [],
   "source": [
    "fieldnames = ['id', 'publish_date', 'title', 'url', 'language', 'media_name', 'media_url', 'indexed_date']\n",
    "with open('Farmers_Protest/Farmers_Protest_Indian_National_2022B.csv', 'w', newline='') as csvfile:\n",
    "    writer = csv.DictWriter(csvfile, fieldnames=fieldnames, extrasaction='ignore')\n",
    "    writer.writeheader()\n",
    "    for s in all_stories:\n",
    "        writer.writerow(s)"
   ]
  },
  {
   "cell_type": "markdown",
   "metadata": {
    "id": "YA905_ZwyFpv"
   },
   "source": [
    "## Top Media Sources"
   ]
  },
  {
   "cell_type": "code",
   "execution_count": null,
   "metadata": {
    "colab": {
     "base_uri": "https://localhost:8080/"
    },
    "executionInfo": {
     "elapsed": 562,
     "status": "ok",
     "timestamp": 1726135429694,
     "user": {
      "displayName": "ICTD IITD",
      "userId": "11419946949516230456"
     },
     "user_tz": -330
    },
    "id": "VS2uLmAGxxoD",
    "outputId": "034235cd-3daf-4fcb-9b97-9d73f208b529"
   },
   "outputs": [
    {
     "name": "stdout",
     "output_type": "stream",
     "text": [
      "[{'source': 'indiatimes.com', 'count': 14955}, {'source': 'financialexpress.com', 'count': 5429}, {'source': 'business-standard.com', 'count': 5261}, {'source': 'thehindu.com', 'count': 4242}, {'source': 'news18.com', 'count': 3599}, {'source': 'indianexpress.com', 'count': 3254}, {'source': 'newindianexpress.com', 'count': 3170}, {'source': 'thehindubusinessline.com', 'count': 2732}, {'source': 'livemint.com', 'count': 2298}, {'source': 'india.com', 'count': 2149}, {'source': 'freepressjournal.in', 'count': 1935}, {'source': 'hindustantimes.com', 'count': 1774}, {'source': 'ndtv.com', 'count': 1664}, {'source': 'moneycontrol.com', 'count': 1589}, {'source': 'tribuneindia.com', 'count': 1311}, {'source': 'businessworld.in', 'count': 1280}, {'source': 'firstpost.com', 'count': 1008}, {'source': 'rediff.com', 'count': 984}, {'source': 'indiasnews.net', 'count': 938}, {'source': 'sify.com', 'count': 653}, {'source': 'oneindia.com', 'count': 616}, {'source': 'swarajyamag.com', 'count': 597}, {'source': 'jagran.com', 'count': 589}, {'source': 'dnaindia.com', 'count': 498}, {'source': 'newsclick.in', 'count': 431}, {'source': 'thequint.com', 'count': 381}, {'source': 'scroll.in', 'count': 367}, {'source': 'mid-day.com', 'count': 365}, {'source': 'thewire.in', 'count': 352}, {'source': 'deccanchronicle.com', 'count': 286}, {'source': 'ipanewspack.com', 'count': 276}, {'source': 'newsonair.com', 'count': 238}, {'source': 'amarujala.com', 'count': 231}, {'source': 'theweek.in', 'count': 216}, {'source': 'ibtimes.co.in', 'count': 157}, {'source': 'thelogicalindian.com', 'count': 130}, {'source': 'newsx.com', 'count': 124}, {'source': 'opindia.com', 'count': 119}, {'source': 'assamtribune.com', 'count': 106}, {'source': 'bhaskar.com', 'count': 98}, {'source': 'patrika.com', 'count': 95}, {'source': 'asianage.com', 'count': 79}, {'source': 'countercurrents.org', 'count': 79}, {'source': 'medianama.com', 'count': 77}, {'source': 'northeasttoday.in', 'count': 61}, {'source': 'livehindustan.com', 'count': 52}, {'source': 'boomlive.in', 'count': 48}, {'source': 'indiantelevision.com', 'count': 42}, {'source': 'indiaspend.com', 'count': 38}, {'source': 'forbesindia.com', 'count': 37}, {'source': 'newslaundry.com', 'count': 35}, {'source': 'afaqs.com', 'count': 33}, {'source': 'deccanherald.com', 'count': 33}, {'source': 'youthkiawaaz.com', 'count': 31}, {'source': 'manoramaonline.com', 'count': 28}, {'source': 'republicworld.com', 'count': 26}, {'source': 'mxmindia.com', 'count': 23}, {'source': 'feminisminindia.com', 'count': 22}, {'source': 'outlookindia.com', 'count': 22}, {'source': 'idronline.org', 'count': 21}, {'source': 'swaminomics.org', 'count': 19}, {'source': 'dinakaran.com', 'count': 15}, {'source': 'factchecker.in', 'count': 15}, {'source': 'inkhabar.com', 'count': 10}, {'source': 'socialsamosa.com', 'count': 10}, {'source': 'abclive.in', 'count': 8}, {'source': 'ruralindiaonline.org', 'count': 5}, {'source': 'thebetterindia.com', 'count': 5}, {'source': 'kractivist.org', 'count': 4}, {'source': 'pinkvilla.com', 'count': 4}, {'source': 'thenewsminute.com', 'count': 4}, {'source': 'homegrown.co.in', 'count': 3}, {'source': 'telegraphindia.com', 'count': 3}, {'source': 'epw.in', 'count': 2}, {'source': 'exchange4media.com', 'count': 2}, {'source': 'onlineindiannews.com', 'count': 2}, {'source': 'idrw.org', 'count': 1}, {'source': 'onemint.com', 'count': 1}]\n"
     ]
    }
   ],
   "source": [
    "# List media producing the most stories matching the search\n",
    "results = search_api.sources(my_query, start_date, end_date, collection_ids=sources)\n",
    "print(results)"
   ]
  },
  {
   "cell_type": "markdown",
   "metadata": {
    "id": "WlKIY-bd0Nv-"
   },
   "source": [
    "# **3. LANGUAGE**"
   ]
  },
  {
   "cell_type": "code",
   "execution_count": null,
   "metadata": {
    "id": "KlpJ2Nup1ADh"
   },
   "outputs": [],
   "source": [
    "bokeh.io.reset_output()\n",
    "bokeh.io.output_notebook()"
   ]
  },
  {
   "cell_type": "code",
   "execution_count": null,
   "metadata": {
    "colab": {
     "base_uri": "https://localhost:8080/",
     "height": 35
    },
    "executionInfo": {
     "elapsed": 4,
     "status": "ok",
     "timestamp": 1725718336925,
     "user": {
      "displayName": "ICTD IITD",
      "userId": "11419946949516230456"
     },
     "user_tz": -330
    },
    "id": "liijP1B01ADj",
    "outputId": "acdfe5e9-c1be-413a-f1f4-c778a73fc604"
   },
   "outputs": [
    {
     "data": {
      "application/vnd.google.colaboratory.intrinsic+json": {
       "type": "string"
      },
      "text/plain": [
       "'Using Media Cloud python client v4.1.4'"
      ]
     },
     "execution_count": 50,
     "metadata": {},
     "output_type": "execute_result"
    }
   ],
   "source": [
    "# Set your personal API KEY\n",
    "MC_API_KEY = 'ENTER KEY HERE'\n",
    "search_api = mediacloud.api.SearchApi(MC_API_KEY)\n",
    "f'Using Media Cloud python client v{version(\"mediacloud\")}'"
   ]
  },
  {
   "cell_type": "markdown",
   "metadata": {
    "id": "NaQaP5LG1Enz"
   },
   "source": [
    "## Simple Word Counts"
   ]
  },
  {
   "cell_type": "markdown",
   "metadata": {
    "id": "UAoo_NJQ34bE"
   },
   "source": [
    "Stemming: Words are stemmed by Elasticsearch before being counted. The term returned is the most used version of the stem in the sample."
   ]
  },
  {
   "cell_type": "code",
   "execution_count": null,
   "metadata": {
    "id": "KKU8k4fX1BCo"
   },
   "outputs": [],
   "source": [
    "# check how many stories include the phrase \"climate change\" in the Washington Post (media id #2)\n",
    "my_query = '\"climate change\"' # note the double quotes used to indicate use of the whole phrase\n",
    "start_date = dt.date(2022, 11, 1)\n",
    "end_date = dt.date(2023, 12,1)\n",
    "sources = [2]\n",
    "results = search_api.words(my_query, start_date, end_date, source_ids=sources)\n",
    "#JSON(results)"
   ]
  },
  {
   "cell_type": "code",
   "execution_count": null,
   "metadata": {
    "colab": {
     "base_uri": "https://localhost:8080/"
    },
    "executionInfo": {
     "elapsed": 538,
     "status": "ok",
     "timestamp": 1725718516309,
     "user": {
      "displayName": "ICTD IITD",
      "userId": "11419946949516230456"
     },
     "user_tz": -330
    },
    "id": "qpE2uFTY1JdK",
    "outputId": "eb197190-583b-4fa8-dafe-a98db0159bca"
   },
   "outputs": [
    {
     "name": "stdout",
     "output_type": "stream",
     "text": [
      "[{'term': 'climate', 'count': 395, 'ratio': 0.395}, {'term': 'change', 'count': 99, 'ratio': 0.099}, {'term': 'biden', 'count': 67, 'ratio': 0.067}, {'term': 'new', 'count': 62, 'ratio': 0.062}, {'term': 'heat', 'count': 54, 'ratio': 0.054}, {'term': 'u.s', 'count': 44, 'ratio': 0.044}, {'term': 'world', 'count': 12, 'ratio': 0.012}, {'term': 'china', 'count': 10, 'ratio': 0.01}, {'term': 'gop', 'count': 10, 'ratio': 0.01}, {'term': 'house', 'count': 10, 'ratio': 0.01}]\n"
     ]
    }
   ],
   "source": [
    "print(results)"
   ]
  },
  {
   "cell_type": "markdown",
   "metadata": {
    "id": "yPgLwY3o39Vm"
   },
   "source": [
    "## Languages Used"
   ]
  },
  {
   "cell_type": "code",
   "execution_count": null,
   "metadata": {
    "id": "DUqDKkRP1SIX"
   },
   "outputs": [],
   "source": [
    "# See top languages used in articles\n",
    "INDIA_NATIONAL = 34412118\n",
    "results = search_api.languages('*', start_date, end_date, collection_ids=[INDIA_NATIONAL])\n",
    "#JSON(results)"
   ]
  },
  {
   "cell_type": "code",
   "execution_count": null,
   "metadata": {
    "colab": {
     "base_uri": "https://localhost:8080/"
    },
    "executionInfo": {
     "elapsed": 473,
     "status": "ok",
     "timestamp": 1725719256836,
     "user": {
      "displayName": "ICTD IITD",
      "userId": "11419946949516230456"
     },
     "user_tz": -330
    },
    "id": "tQJbHFz-4ejH",
    "outputId": "5d4f5b06-fcf8-450b-a100-5b0b0c693ac5"
   },
   "outputs": [
    {
     "name": "stdout",
     "output_type": "stream",
     "text": [
      "[{'language': 'hi', 'value': 2817514, 'ratio': 0.47510960770559035}, {'language': 'en', 'value': 2680508, 'ratio': 0.4520066641484999}, {'language': 'ta', 'value': 286194, 'ratio': 0.04826010414418303}, {'language': 'mr', 'value': 47240, 'ratio': 0.007965950787826461}, {'language': 'ml', 'value': 29468, 'ratio': 0.0049691074897474635}, {'language': 'kn', 'value': 18845, 'ratio': 0.0031777803259227283}, {'language': 'te', 'value': 15472, 'ratio': 0.002609000647528599}, {'language': 'or', 'value': 10610, 'ratio': 0.0017891350097129289}, {'language': 'gu', 'value': 7102, 'ratio': 0.0011975906540038852}, {'language': 'pa', 'value': 6391, 'ratio': 0.0010776966868120009}]\n"
     ]
    }
   ],
   "source": [
    "print(results)"
   ]
  },
  {
   "cell_type": "code",
   "execution_count": null,
   "metadata": {
    "colab": {
     "base_uri": "https://localhost:8080/"
    },
    "executionInfo": {
     "elapsed": 10817,
     "status": "ok",
     "timestamp": 1725719297630,
     "user": {
      "displayName": "ICTD IITD",
      "userId": "11419946949516230456"
     },
     "user_tz": -330
    },
    "id": "hIY9VUSJ4heh",
    "outputId": "302f08d2-e865-47f1-920e-b0ffc528676a"
   },
   "outputs": [
    {
     "data": {
      "text/plain": [
       "[{'id': '54e361bc026775b5c4ed0106abee41d15e72a99793bedb5ef7ecda0df8e9bbc4',\n",
       "  'media_name': 'amarujala.com',\n",
       "  'media_url': 'amarujala.com',\n",
       "  'title': 'आज के दिन भारत के पूर्व राष्ट्रपति ज्ञानी जैल सिंह का जन्म हुआ था, सुनिए 5 मई का इतिहास',\n",
       "  'publish_date': datetime.date(2023, 5, 5),\n",
       "  'url': 'https://www.amarujala.com/specials/5th-may-history-in-hindi?utm_source=rssfeed&utm_medium=Referral&utm_campaign=rssfeed',\n",
       "  'language': 'hi',\n",
       "  'indexed_date': datetime.datetime(2024, 8, 3, 17, 43, 58, 477319)},\n",
       " {'id': 'f190767f39b7aa0d8e9fc7d52853c3bb15323c8829e9ce544723f50d00e3d340',\n",
       "  'media_name': 'indiatimes.com',\n",
       "  'media_url': 'indiatimes.com',\n",
       "  'title': 'भारत Vs साउथ अफ्रीका स्कोरकार्ड',\n",
       "  'publish_date': datetime.date(2022, 11, 1),\n",
       "  'url': 'https://navbharattimes.indiatimes.com/sports/cricket/live-score/sa-vs-ind/1-11-2022/scoreboard/matchid-sain01112022205362.cms',\n",
       "  'language': 'hi',\n",
       "  'indexed_date': datetime.datetime(2024, 8, 2, 2, 52, 2, 674871)},\n",
       " {'id': '8dd1c6518fc628a0a915eca15c07aafc84dbf5bbd2c4a40d15469b21a31f5651',\n",
       "  'media_name': 'amarujala.com',\n",
       "  'media_url': 'amarujala.com',\n",
       "  'title': 'Bhanuka Rajapaksa Profile: Height, Age, Affairs, Biography',\n",
       "  'publish_date': datetime.date(2023, 3, 30),\n",
       "  'url': 'https://www.amarujala.com/wiki/bhanuka-rajapaksa-52307?utm_source=rssfeed&utm_medium=Referral&utm_campaign=rssfeed',\n",
       "  'language': 'hi',\n",
       "  'indexed_date': datetime.datetime(2024, 7, 25, 13, 58, 5, 4535)}]"
      ]
     },
     "execution_count": 59,
     "metadata": {},
     "output_type": "execute_result"
    }
   ],
   "source": [
    "# Retrieve latest stories in Hindi\n",
    "page, _ = search_api.story_list('* and language:hi', start_date, end_date, collection_ids=[INDIA_NATIONAL])\n",
    "page[:3]"
   ]
  },
  {
   "cell_type": "markdown",
   "metadata": {
    "id": "Luhszlz54v_f"
   },
   "source": [
    "# **4. DIRECTORY**"
   ]
  },
  {
   "cell_type": "code",
   "execution_count": null,
   "metadata": {
    "id": "2mOrxxjs8lsS"
   },
   "outputs": [],
   "source": [
    "bokeh.io.reset_output()\n",
    "bokeh.io.output_notebook()"
   ]
  },
  {
   "cell_type": "code",
   "execution_count": null,
   "metadata": {
    "colab": {
     "base_uri": "https://localhost:8080/",
     "height": 35
    },
    "executionInfo": {
     "elapsed": 9,
     "status": "ok",
     "timestamp": 1725720475028,
     "user": {
      "displayName": "ICTD IITD",
      "userId": "11419946949516230456"
     },
     "user_tz": -330
    },
    "id": "L_R2mSLQ8lsX",
    "outputId": "e33afda9-c41d-4616-8cd7-eae5b41932ea"
   },
   "outputs": [
    {
     "data": {
      "application/vnd.google.colaboratory.intrinsic+json": {
       "type": "string"
      },
      "text/plain": [
       "'Using Media Cloud python client v4.1.4'"
      ]
     },
     "execution_count": 64,
     "metadata": {},
     "output_type": "execute_result"
    }
   ],
   "source": [
    "# Set your personal API KEY\n",
    "MC_API_KEY = 'ENTER KEY HERE'\n",
    "directory_api = mediacloud.api.DirectoryApi(MC_API_KEY)\n",
    "f'Using Media Cloud python client v{version(\"mediacloud\")}'"
   ]
  },
  {
   "cell_type": "markdown",
   "metadata": {
    "id": "BziYeIWe8q9n"
   },
   "source": [
    "## Searching for Media Sources"
   ]
  },
  {
   "cell_type": "code",
   "execution_count": null,
   "metadata": {
    "colab": {
     "base_uri": "https://localhost:8080/",
     "height": 34
    },
    "executionInfo": {
     "elapsed": 2336,
     "status": "ok",
     "timestamp": 1725720477987,
     "user": {
      "displayName": "ICTD IITD",
      "userId": "11419946949516230456"
     },
     "user_tz": -330
    },
    "id": "v4eMNBpf8ml8",
    "outputId": "ee6fe83a-84e0-4375-d81c-f7cb7d90e2b3"
   },
   "outputs": [
    {
     "data": {
      "application/json": {
       "collection_count": 16,
       "created_at": "2022-12-23T17:43:28.547804Z",
       "first_story": null,
       "homepage": "http://www.hindustantimes.com",
       "id": 20258,
       "label": "hindustantimes.com",
       "media_type": null,
       "modified_at": "2024-08-31T13:46:06.821126Z",
       "name": "hindustantimes.com",
       "notes": null,
       "platform": "online_news",
       "primary_language": null,
       "pub_country": null,
       "pub_state": null,
       "stories_per_week": 4097,
       "url_search_string": null
      },
      "text/plain": [
       "<IPython.core.display.JSON object>"
      ]
     },
     "execution_count": 65,
     "metadata": {
      "application/json": {
       "expanded": false,
       "root": "root"
      }
     },
     "output_type": "execute_result"
    }
   ],
   "source": [
    "# try to find a media source based on its URL\n",
    "matching_sources = directory_api.source_list(name='hindustantimes')\n",
    "#JSON(matching_sources['results'][0])"
   ]
  },
  {
   "cell_type": "code",
   "execution_count": null,
   "metadata": {
    "colab": {
     "base_uri": "https://localhost:8080/"
    },
    "executionInfo": {
     "elapsed": 466,
     "status": "ok",
     "timestamp": 1725720697071,
     "user": {
      "displayName": "ICTD IITD",
      "userId": "11419946949516230456"
     },
     "user_tz": -330
    },
    "id": "T964n0RI8u6j",
    "outputId": "25fbbc98-242c-4cde-af95-23cb0fe2528c"
   },
   "outputs": [
    {
     "data": {
      "text/plain": [
       "{'id': 20258,\n",
       " 'name': 'hindustantimes.com',\n",
       " 'url_search_string': None,\n",
       " 'label': 'hindustantimes.com',\n",
       " 'homepage': 'http://www.hindustantimes.com',\n",
       " 'notes': None,\n",
       " 'platform': 'online_news',\n",
       " 'stories_per_week': 4097,\n",
       " 'first_story': None,\n",
       " 'created_at': '2022-12-23T17:43:28.547804Z',\n",
       " 'modified_at': '2024-08-31T13:46:06.821126Z',\n",
       " 'pub_country': None,\n",
       " 'pub_state': None,\n",
       " 'primary_language': None,\n",
       " 'media_type': None,\n",
       " 'collection_count': 16}"
      ]
     },
     "execution_count": 70,
     "metadata": {},
     "output_type": "execute_result"
    }
   ],
   "source": [
    "matching_sources['results'][0]"
   ]
  },
  {
   "cell_type": "markdown",
   "metadata": {
    "id": "Cyq015wf9bCM"
   },
   "source": [
    "## Media Source Feeds"
   ]
  },
  {
   "cell_type": "code",
   "execution_count": null,
   "metadata": {
    "colab": {
     "base_uri": "https://localhost:8080/"
    },
    "executionInfo": {
     "elapsed": 2788,
     "status": "ok",
     "timestamp": 1725720611018,
     "user": {
      "displayName": "ICTD IITD",
      "userId": "11419946949516230456"
     },
     "user_tz": -330
    },
    "id": "bh8zX4I99PFP",
    "outputId": "bc4ad07e-cb38-4ffd-b8c0-1a7e69e93a91"
   },
   "outputs": [
    {
     "data": {
      "text/plain": [
       "{'count': 118,\n",
       " 'next': 'https://search.mediacloud.org/api/sources/feeds/?limit=100&offset=100&source_id=20258',\n",
       " 'previous': None,\n",
       " 'results': [{'id': 422363,\n",
       "   'url': 'http://www.hindustantimes.com/rss/topnews/rssfeed.xml',\n",
       "   'admin_rss_enabled': True,\n",
       "   'source': 20258,\n",
       "   'name': 'HindustanTimes- Top news',\n",
       "   'created_at': '2023-02-09T22:55:40.496987Z',\n",
       "   'modified_at': '2023-02-09T22:55:40.496987Z'},\n",
       "  {'id': 422364,\n",
       "   'url': 'http://www.hindustantimes.com/rss/india/rssfeed.xml',\n",
       "   'admin_rss_enabled': True,\n",
       "   'source': 20258,\n",
       "   'name': 'HindustanTimes- India',\n",
       "   'created_at': '2023-02-09T22:55:40.496987Z',\n",
       "   'modified_at': '2023-02-09T22:55:40.496987Z'},\n",
       "  {'id': 422368,\n",
       "   'url': 'http://www.hindustantimes.com/rss/cities/bhopal/rssfeed.xml',\n",
       "   'admin_rss_enabled': True,\n",
       "   'source': 20258,\n",
       "   'name': 'Hindustan Times - bhopal',\n",
       "   'created_at': '2023-02-09T22:55:40.496987Z',\n",
       "   'modified_at': '2023-02-09T22:55:40.496987Z'},\n",
       "  {'id': 422369,\n",
       "   'url': 'http://www.hindustantimes.com/rss/business/rssfeed.xml',\n",
       "   'admin_rss_enabled': True,\n",
       "   'source': 20258,\n",
       "   'name': 'Hindustan Times - business',\n",
       "   'created_at': '2023-02-09T22:55:40.496987Z',\n",
       "   'modified_at': '2023-02-09T22:55:40.496987Z'},\n",
       "  {'id': 422370,\n",
       "   'url': 'http://www.hindustantimes.com/rss/cities/chandigarh/rssfeed.xml',\n",
       "   'admin_rss_enabled': True,\n",
       "   'source': 20258,\n",
       "   'name': 'Hindustan Times - chandigarh',\n",
       "   'created_at': '2023-02-09T22:55:40.496987Z',\n",
       "   'modified_at': '2023-02-09T22:55:40.496987Z'},\n",
       "  {'id': 422371,\n",
       "   'url': 'http://www.hindustantimes.com/rss/cities/dehradun/rssfeed.xml',\n",
       "   'admin_rss_enabled': True,\n",
       "   'source': 20258,\n",
       "   'name': 'Hindustan Times - dehradun',\n",
       "   'created_at': '2023-02-09T22:55:40.496987Z',\n",
       "   'modified_at': '2023-02-09T22:55:40.496987Z'},\n",
       "  {'id': 422372,\n",
       "   'url': 'http://www.hindustantimes.com/rss/cities/delhi/rssfeed.xml',\n",
       "   'admin_rss_enabled': True,\n",
       "   'source': 20258,\n",
       "   'name': 'Hindustan Times - delhi',\n",
       "   'created_at': '2023-02-09T22:55:40.496987Z',\n",
       "   'modified_at': '2023-02-09T22:55:40.496987Z'},\n",
       "  {'id': 422373,\n",
       "   'url': 'http://www.hindustantimes.com/rss/education/rssfeed.xml',\n",
       "   'admin_rss_enabled': True,\n",
       "   'source': 20258,\n",
       "   'name': 'Hindustan Times - education',\n",
       "   'created_at': '2023-02-09T22:55:40.496987Z',\n",
       "   'modified_at': '2023-02-09T22:55:40.496987Z'},\n",
       "  {'id': 422374,\n",
       "   'url': 'http://www.hindustantimes.com/rss/entertainment/rssfeed.xml',\n",
       "   'admin_rss_enabled': True,\n",
       "   'source': 20258,\n",
       "   'name': 'Hindustan Times - entertainment',\n",
       "   'created_at': '2023-02-09T22:55:40.496987Z',\n",
       "   'modified_at': '2023-02-09T22:55:40.496987Z'},\n",
       "  {'id': 422375,\n",
       "   'url': 'http://www.hindustantimes.com/rss/cities/gurgaon/rssfeed.xml',\n",
       "   'admin_rss_enabled': True,\n",
       "   'source': 20258,\n",
       "   'name': 'Hindustan Times - gurgaon',\n",
       "   'created_at': '2023-02-09T22:55:40.496987Z',\n",
       "   'modified_at': '2023-02-09T22:55:40.496987Z'},\n",
       "  {'id': 422378,\n",
       "   'url': 'http://www.hindustantimes.com/rss/cities/jaipur/rssfeed.xml',\n",
       "   'admin_rss_enabled': True,\n",
       "   'source': 20258,\n",
       "   'name': 'Hindustan Times - jaipur',\n",
       "   'created_at': '2023-02-09T22:55:40.496987Z',\n",
       "   'modified_at': '2023-02-09T22:55:40.496987Z'},\n",
       "  {'id': 422379,\n",
       "   'url': 'http://www.hindustantimes.com/rss/cities/kolkata/rssfeed.xml',\n",
       "   'admin_rss_enabled': True,\n",
       "   'source': 20258,\n",
       "   'name': 'Hindustan Times - kolkata',\n",
       "   'created_at': '2023-02-09T22:55:40.496987Z',\n",
       "   'modified_at': '2023-02-09T22:55:40.496987Z'},\n",
       "  {'id': 422380,\n",
       "   'url': 'http://www.hindustantimes.com/rss/lifestyle/rssfeed.xml',\n",
       "   'admin_rss_enabled': True,\n",
       "   'source': 20258,\n",
       "   'name': 'Hindustan Times - lifestyle',\n",
       "   'created_at': '2023-02-09T22:55:40.496987Z',\n",
       "   'modified_at': '2023-02-09T22:55:40.496987Z'},\n",
       "  {'id': 422381,\n",
       "   'url': 'http://www.hindustantimes.com/rss/cities/lucknow/rssfeed.xml',\n",
       "   'admin_rss_enabled': True,\n",
       "   'source': 20258,\n",
       "   'name': 'Hindustan Times - lucknow',\n",
       "   'created_at': '2023-02-09T22:55:40.496987Z',\n",
       "   'modified_at': '2023-02-09T22:55:40.496987Z'},\n",
       "  {'id': 422382,\n",
       "   'url': 'http://www.hindustantimes.com/rss/cities/mumbai/rssfeed.xml',\n",
       "   'admin_rss_enabled': True,\n",
       "   'source': 20258,\n",
       "   'name': 'Hindustan Times - mumbai',\n",
       "   'created_at': '2023-02-09T22:55:40.496987Z',\n",
       "   'modified_at': '2023-02-09T22:55:40.496987Z'},\n",
       "  {'id': 422383,\n",
       "   'url': 'http://www.hindustantimes.com/rss/cities/noida/rssfeed.xml',\n",
       "   'admin_rss_enabled': True,\n",
       "   'source': 20258,\n",
       "   'name': 'Hindustan Times - noida',\n",
       "   'created_at': '2023-02-09T22:55:40.496987Z',\n",
       "   'modified_at': '2023-02-09T22:55:40.496987Z'},\n",
       "  {'id': 422384,\n",
       "   'url': 'http://www.hindustantimes.com/rss/opinion/rssfeed.xml',\n",
       "   'admin_rss_enabled': True,\n",
       "   'source': 20258,\n",
       "   'name': 'Hindustan Times - opinion',\n",
       "   'created_at': '2023-02-09T22:55:40.496987Z',\n",
       "   'modified_at': '2023-02-09T22:55:40.496987Z'},\n",
       "  {'id': 422385,\n",
       "   'url': 'http://www.hindustantimes.com/rss/cities/patna/rssfeed.xml',\n",
       "   'admin_rss_enabled': True,\n",
       "   'source': 20258,\n",
       "   'name': 'Hindustan Times - patna',\n",
       "   'created_at': '2023-02-09T22:55:40.496987Z',\n",
       "   'modified_at': '2023-02-09T22:55:40.496987Z'},\n",
       "  {'id': 422386,\n",
       "   'url': 'http://www.hindustantimes.com/rss/cities/ranchi/rssfeed.xml',\n",
       "   'admin_rss_enabled': True,\n",
       "   'source': 20258,\n",
       "   'name': 'Hindustan Times - ranchi',\n",
       "   'created_at': '2023-02-09T22:55:40.496987Z',\n",
       "   'modified_at': '2023-02-09T22:55:40.496987Z'},\n",
       "  {'id': 422387,\n",
       "   'url': 'http://www.hindustantimes.com/rss/sports/rssfeed.xml',\n",
       "   'admin_rss_enabled': True,\n",
       "   'source': 20258,\n",
       "   'name': 'Hindustan Times - sports',\n",
       "   'created_at': '2023-02-09T22:55:40.496987Z',\n",
       "   'modified_at': '2023-02-09T22:55:40.496987Z'},\n",
       "  {'id': 422389,\n",
       "   'url': 'http://www.hindustantimes.com/rss/world/rssfeed.xml',\n",
       "   'admin_rss_enabled': True,\n",
       "   'source': 20258,\n",
       "   'name': 'Hindustan Times - world',\n",
       "   'created_at': '2023-02-09T22:55:40.496987Z',\n",
       "   'modified_at': '2023-02-09T22:55:40.496987Z'},\n",
       "  {'id': 2406502,\n",
       "   'url': 'https://www.hindustantimes.com/feeds/rss/advertorial/rssfeed.xml',\n",
       "   'admin_rss_enabled': True,\n",
       "   'source': 20258,\n",
       "   'name': 'Advertorial, Latest Advertorial News, Advertorial Features, Advertorial Analysis & Views | Hindustan Times',\n",
       "   'created_at': '2022-12-23T17:44:04.736466Z',\n",
       "   'modified_at': '2022-12-23T17:44:04.736466Z'},\n",
       "  {'id': 2406503,\n",
       "   'url': 'https://www.hindustantimes.com/feeds/rss/astrology/gemstones/rssfeed.xml',\n",
       "   'admin_rss_enabled': True,\n",
       "   'source': 20258,\n",
       "   'name': 'Gemstones: get the list of gemstone and their benefits as per astrology | Hindustan Times',\n",
       "   'created_at': '2022-12-23T17:44:04.736466Z',\n",
       "   'modified_at': '2022-12-23T17:44:04.736466Z'},\n",
       "  {'id': 2406504,\n",
       "   'url': 'https://www.hindustantimes.com/feeds/rss/astrology/horoscope/rssfeed.xml',\n",
       "   'admin_rss_enabled': True,\n",
       "   'source': 20258,\n",
       "   'name': 'Horoscope Today: Get Astrology Predictions, Latest News, Zodiac Sign Updates | Hindustan Times',\n",
       "   'created_at': '2022-12-23T17:44:04.736466Z',\n",
       "   'modified_at': '2022-12-23T17:44:04.736466Z'},\n",
       "  {'id': 2406505,\n",
       "   'url': 'https://www.hindustantimes.com/feeds/rss/astrology/money-finance-horoscope/rssfeed.xml',\n",
       "   'admin_rss_enabled': True,\n",
       "   'source': 20258,\n",
       "   'name': 'Money Horoscope Today: Get daily astrological prediction for Money and Finance | Hindustan Times',\n",
       "   'created_at': '2022-12-23T17:44:04.736466Z',\n",
       "   'modified_at': '2022-12-23T17:44:04.736466Z'},\n",
       "  {'id': 2406506,\n",
       "   'url': 'https://www.hindustantimes.com/feeds/rss/astrology/rssfeed.xml',\n",
       "   'admin_rss_enabled': True,\n",
       "   'source': 20258,\n",
       "   'name': 'Astrology Today: Get Astrology Predictions and Horoscopes Online | Hindustan Times',\n",
       "   'created_at': '2022-12-23T17:44:04.736466Z',\n",
       "   'modified_at': '2022-12-23T17:44:04.736466Z'},\n",
       "  {'id': 2406507,\n",
       "   'url': 'https://www.hindustantimes.com/feeds/rss/astrology/today-panchang/rssfeed.xml',\n",
       "   'admin_rss_enabled': True,\n",
       "   'source': 20258,\n",
       "   'name': 'Weekly Panchang: know about auspicious and inauspicious timings for the week | Hindustan Times',\n",
       "   'created_at': '2022-12-23T17:44:04.736466Z',\n",
       "   'modified_at': '2022-12-23T17:44:04.736466Z'},\n",
       "  {'id': 2406508,\n",
       "   'url': 'https://www.hindustantimes.com/feeds/rss/brand-post/rssfeed.xml',\n",
       "   'admin_rss_enabled': True,\n",
       "   'source': 20258,\n",
       "   'name': 'Brand Post Press Release Wire | Hindustan Times',\n",
       "   'created_at': '2022-12-23T17:44:04.736466Z',\n",
       "   'modified_at': '2022-12-23T17:44:04.736466Z'},\n",
       "  {'id': 2406509,\n",
       "   'url': 'https://www.hindustantimes.com/feeds/rss/brand-stories/rssfeed.xml',\n",
       "   'admin_rss_enabled': True,\n",
       "   'source': 20258,\n",
       "   'name': 'HT Brand Stories | Hindustan Times',\n",
       "   'created_at': '2022-12-23T17:44:04.736466Z',\n",
       "   'modified_at': '2022-12-23T17:44:04.736466Z'},\n",
       "  {'id': 2406510,\n",
       "   'url': 'https://www.hindustantimes.com/feeds/rss/budget/rssfeed.xml',\n",
       "   'admin_rss_enabled': True,\n",
       "   'source': 20258,\n",
       "   'name': 'Budget 2022: Read the latest news and updates on Union Budget of India and participate in quiz | Hindustan Times',\n",
       "   'created_at': '2022-12-23T17:44:04.736466Z',\n",
       "   'modified_at': '2022-12-23T17:44:04.736466Z'},\n",
       "  {'id': 2406511,\n",
       "   'url': 'https://www.hindustantimes.com/feeds/rss/cities/bengaluru-news/rssfeed.xml',\n",
       "   'admin_rss_enabled': True,\n",
       "   'source': 20258,\n",
       "   'name': 'Bangalore News:Bangalore Latest News,Bangalore Breaking News,Local Bangalore News Headlines | Hindustan Times',\n",
       "   'created_at': '2022-12-23T17:44:04.736466Z',\n",
       "   'modified_at': '2022-12-23T17:44:04.736466Z'},\n",
       "  {'id': 2406512,\n",
       "   'url': 'https://www.hindustantimes.com/feeds/rss/cities/bhopal-news/rssfeed.xml',\n",
       "   'admin_rss_enabled': True,\n",
       "   'source': 20258,\n",
       "   'name': 'Bhopal News, Latest Bhopal News, Bhopal News Today and Headlines | Hindustan Times',\n",
       "   'created_at': '2022-12-23T17:44:04.736466Z',\n",
       "   'modified_at': '2022-12-23T17:44:04.736466Z'},\n",
       "  {'id': 2406513,\n",
       "   'url': 'https://www.hindustantimes.com/feeds/rss/cities/dehradun-news/rssfeed.xml',\n",
       "   'admin_rss_enabled': True,\n",
       "   'source': 20258,\n",
       "   'name': 'Dehradun News, Latest Dehradun News, Dehradun News Today and Headlines | Hindustan Times',\n",
       "   'created_at': '2022-12-23T17:44:04.736466Z',\n",
       "   'modified_at': '2022-12-23T17:44:04.736466Z'},\n",
       "  {'id': 2406514,\n",
       "   'url': 'https://www.hindustantimes.com/feeds/rss/cities/gurugram-news/rssfeed.xml',\n",
       "   'admin_rss_enabled': True,\n",
       "   'source': 20258,\n",
       "   'name': 'Gurugram News, Latest Gurugram News, Gurugram News Today and Headlines | Hindustan Times',\n",
       "   'created_at': '2022-12-23T17:44:04.736466Z',\n",
       "   'modified_at': '2022-12-23T17:44:04.736466Z'},\n",
       "  {'id': 2406515,\n",
       "   'url': 'https://www.hindustantimes.com/feeds/rss/cities/indore-news/rssfeed.xml',\n",
       "   'admin_rss_enabled': True,\n",
       "   'source': 20258,\n",
       "   'name': 'Indore News:Indore Latest News,Indore Breaking News,Local Indore News Headlines | Hindustan Times',\n",
       "   'created_at': '2022-12-23T17:44:04.736466Z',\n",
       "   'modified_at': '2022-12-23T17:44:04.736466Z'},\n",
       "  {'id': 2406516,\n",
       "   'url': 'https://www.hindustantimes.com/feeds/rss/cities/jaipur-news/rssfeed.xml',\n",
       "   'admin_rss_enabled': True,\n",
       "   'source': 20258,\n",
       "   'name': 'Jaipur News, Latest Jaipur News, Jaipur News Today and Headlines | Hindustan Times',\n",
       "   'created_at': '2022-12-23T17:44:04.736466Z',\n",
       "   'modified_at': '2022-12-23T17:44:04.736466Z'},\n",
       "  {'id': 2406517,\n",
       "   'url': 'https://www.hindustantimes.com/feeds/rss/cities/lucknow-news/rssfeed.xml',\n",
       "   'admin_rss_enabled': True,\n",
       "   'source': 20258,\n",
       "   'name': 'Lucknow News, Latest Lucknow News, Lucknow News Today and Headlines | Hindustan Times',\n",
       "   'created_at': '2022-12-23T17:44:04.736466Z',\n",
       "   'modified_at': '2022-12-23T17:44:04.736466Z'},\n",
       "  {'id': 2406518,\n",
       "   'url': 'https://www.hindustantimes.com/feeds/rss/cities/mumbai-news/rssfeed.xml',\n",
       "   'admin_rss_enabled': True,\n",
       "   'source': 20258,\n",
       "   'name': 'Mumbai News, Latest Mumbai News, Mumbai News Today and Headlines | Hindustan Times',\n",
       "   'created_at': '2022-12-23T17:44:04.736466Z',\n",
       "   'modified_at': '2022-12-23T17:44:04.736466Z'},\n",
       "  {'id': 2406519,\n",
       "   'url': 'https://www.hindustantimes.com/feeds/rss/cities/others/rssfeed.xml',\n",
       "   'admin_rss_enabled': True,\n",
       "   'source': 20258,\n",
       "   'name': 'Other City News: City Latest News, Indian Cities News Today and Headlin | Hindustan Times',\n",
       "   'created_at': '2022-12-23T17:44:04.736466Z',\n",
       "   'modified_at': '2022-12-23T17:44:04.736466Z'},\n",
       "  {'id': 2406520,\n",
       "   'url': 'https://www.hindustantimes.com/feeds/rss/cities/patna-news/rssfeed.xml',\n",
       "   'admin_rss_enabled': True,\n",
       "   'source': 20258,\n",
       "   'name': 'Patna News, Latest Patna News, Patna News Today and Headlines | Hindustan Times',\n",
       "   'created_at': '2022-12-23T17:44:04.736466Z',\n",
       "   'modified_at': '2022-12-23T17:44:04.736466Z'},\n",
       "  {'id': 2406521,\n",
       "   'url': 'https://www.hindustantimes.com/feeds/rss/cities/pune-news/rssfeed.xml',\n",
       "   'admin_rss_enabled': True,\n",
       "   'source': 20258,\n",
       "   'name': 'Pune News, Latest Pune News, Pune News Today and Headlines | Hindustan Times',\n",
       "   'created_at': '2022-12-23T17:44:04.736466Z',\n",
       "   'modified_at': '2022-12-23T17:44:04.736466Z'},\n",
       "  {'id': 2406522,\n",
       "   'url': 'https://www.hindustantimes.com/feeds/rss/cities/ranchi-news/rssfeed.xml',\n",
       "   'admin_rss_enabled': True,\n",
       "   'source': 20258,\n",
       "   'name': 'Ranchi News, Latest Ranchi News, Ranchi News Today and Headlines | Hindustan Times',\n",
       "   'created_at': '2022-12-23T17:44:04.736466Z',\n",
       "   'modified_at': '2022-12-23T17:44:04.736466Z'},\n",
       "  {'id': 2406523,\n",
       "   'url': 'https://www.hindustantimes.com/feeds/rss/cities/rssfeed.xml',\n",
       "   'admin_rss_enabled': True,\n",
       "   'source': 20258,\n",
       "   'name': 'City News: City Latest News, Metro City News Today and Headlines | Hindustan Times',\n",
       "   'created_at': '2022-12-23T17:44:04.736466Z',\n",
       "   'modified_at': '2022-12-23T17:44:04.736466Z'},\n",
       "  {'id': 2406524,\n",
       "   'url': 'https://www.hindustantimes.com/feeds/rss/cricket/ipl/rssfeed.xml',\n",
       "   'admin_rss_enabled': True,\n",
       "   'source': 20258,\n",
       "   'name': 'IPL 2022: Read IPL news that includes live score update, points table, team results and match schedule | Hindustan Times',\n",
       "   'created_at': '2022-12-23T17:44:04.736466Z',\n",
       "   'modified_at': '2022-12-23T17:44:04.736466Z'},\n",
       "  {'id': 2406525,\n",
       "   'url': 'https://www.hindustantimes.com/feeds/rss/editorials/rssfeed.xml',\n",
       "   'admin_rss_enabled': True,\n",
       "   'source': 20258,\n",
       "   'name': 'Editorials News, Articles and Analysis | Hindustan Times',\n",
       "   'created_at': '2022-12-23T17:44:04.736466Z',\n",
       "   'modified_at': '2022-12-23T17:44:04.736466Z'},\n",
       "  {'id': 2406526,\n",
       "   'url': 'https://www.hindustantimes.com/feeds/rss/education/admissions/rssfeed.xml',\n",
       "   'admin_rss_enabled': True,\n",
       "   'source': 20258,\n",
       "   'name': 'Admission News: Latest Admission Alerts, Announcements, Notifications Online 2022 | Hindustan Times',\n",
       "   'created_at': '2022-12-23T17:44:04.736466Z',\n",
       "   'modified_at': '2022-12-23T17:44:04.736466Z'},\n",
       "  {'id': 2406527,\n",
       "   'url': 'https://www.hindustantimes.com/feeds/rss/education/employment-news/rssfeed.xml',\n",
       "   'admin_rss_enabled': True,\n",
       "   'source': 20258,\n",
       "   'name': 'Employment News: Latest Updates on Employment News Today, Govt Jobs Alert | Hindustan Times',\n",
       "   'created_at': '2022-12-23T17:44:04.736466Z',\n",
       "   'modified_at': '2022-12-23T17:44:04.736466Z'},\n",
       "  {'id': 2406528,\n",
       "   'url': 'https://www.hindustantimes.com/feeds/rss/education/news/rssfeed.xml',\n",
       "   'admin_rss_enabled': True,\n",
       "   'source': 20258,\n",
       "   'name': 'Education News: Get latest education updates along with board exams, competitive exam, school and universities news | Hindustan Times',\n",
       "   'created_at': '2022-12-23T17:44:04.736466Z',\n",
       "   'modified_at': '2022-12-23T17:44:04.736466Z'},\n",
       "  {'id': 2406529,\n",
       "   'url': 'https://www.hindustantimes.com/feeds/rss/education/rssfeed.xml',\n",
       "   'admin_rss_enabled': True,\n",
       "   'source': 20258,\n",
       "   'name': 'Education News 2022: Latest Exam Results, Board Exam, Admit Card Notifications | Hindustan Times',\n",
       "   'created_at': '2022-12-23T17:44:04.736466Z',\n",
       "   'modified_at': '2022-12-23T17:44:04.736466Z'},\n",
       "  {'id': 2406530,\n",
       "   'url': 'https://www.hindustantimes.com/feeds/rss/elections/assam-assembly-election/rssfeed.xml',\n",
       "   'admin_rss_enabled': True,\n",
       "   'source': 20258,\n",
       "   'name': 'Assam Election 2021: Read latest news updates on Assam Assembly Election 2021 | Hindustan Times',\n",
       "   'created_at': '2022-12-23T17:44:04.736466Z',\n",
       "   'modified_at': '2022-12-23T17:44:04.736466Z'},\n",
       "  {'id': 2406531,\n",
       "   'url': 'https://www.hindustantimes.com/feeds/rss/elections/delhi-assembly-election-2020/rssfeed.xml',\n",
       "   'admin_rss_enabled': True,\n",
       "   'source': 20258,\n",
       "   'name': 'Delhi Election 2020 Schedule: Assembly Elections Dates, Exit Polls and Results | Hindustan Times',\n",
       "   'created_at': '2022-12-23T17:44:04.736466Z',\n",
       "   'modified_at': '2022-12-23T17:44:04.736466Z'},\n",
       "  {'id': 2406532,\n",
       "   'url': 'https://www.hindustantimes.com/feeds/rss/elections/goa-assembly-election-2017/rssfeed.xml',\n",
       "   'admin_rss_enabled': True,\n",
       "   'source': 20258,\n",
       "   'name': 'Goa election results, live updates, exit polls and news | Hindustan Times',\n",
       "   'created_at': '2022-12-23T17:44:04.736466Z',\n",
       "   'modified_at': '2022-12-23T17:44:04.736466Z'},\n",
       "  {'id': 2406533,\n",
       "   'url': 'https://www.hindustantimes.com/feeds/rss/elections/goa-assembly-election/rssfeed.xml',\n",
       "   'admin_rss_enabled': True,\n",
       "   'source': 20258,\n",
       "   'name': 'Goa Election 2022 Result Live: Get the Full Coverage on Goa Assembly Election constituencies-wise Result Updates | Hindustan Times',\n",
       "   'created_at': '2022-12-23T17:44:04.736466Z',\n",
       "   'modified_at': '2022-12-23T17:44:04.736466Z'},\n",
       "  {'id': 2406534,\n",
       "   'url': 'https://www.hindustantimes.com/feeds/rss/elections/gujarat-assembly-election-2017/rssfeed.xml',\n",
       "   'admin_rss_enabled': True,\n",
       "   'source': 20258,\n",
       "   'name': 'Gujarat election results, live updates, exit polls and news | Hindustan Times',\n",
       "   'created_at': '2022-12-23T17:44:04.736466Z',\n",
       "   'modified_at': '2022-12-23T17:44:04.736466Z'},\n",
       "  {'id': 2406535,\n",
       "   'url': 'https://www.hindustantimes.com/feeds/rss/elections/gujarat-assembly-election/rssfeed.xml',\n",
       "   'admin_rss_enabled': True,\n",
       "   'source': 20258,\n",
       "   'name': '| Hindustan Times',\n",
       "   'created_at': '2022-12-23T17:44:04.736466Z',\n",
       "   'modified_at': '2022-12-23T17:44:04.736466Z'},\n",
       "  {'id': 2406536,\n",
       "   'url': 'https://www.hindustantimes.com/feeds/rss/elections/himachal-pradesh-assembly-election-2017/rssfeed.xml',\n",
       "   'admin_rss_enabled': True,\n",
       "   'source': 20258,\n",
       "   'name': 'Himachal election results, live updates, exit polls and news | Hindustan Times',\n",
       "   'created_at': '2022-12-23T17:44:04.736466Z',\n",
       "   'modified_at': '2022-12-23T17:44:04.736466Z'},\n",
       "  {'id': 2406537,\n",
       "   'url': 'https://www.hindustantimes.com/feeds/rss/elections/himachal-pradesh-assembly-election/rssfeed.xml',\n",
       "   'admin_rss_enabled': True,\n",
       "   'source': 20258,\n",
       "   'name': '| Hindustan Times',\n",
       "   'created_at': '2022-12-23T17:44:04.736466Z',\n",
       "   'modified_at': '2022-12-23T17:44:04.736466Z'},\n",
       "  {'id': 2406538,\n",
       "   'url': 'https://www.hindustantimes.com/feeds/rss/elections/lok-sabha-election/rssfeed.xml',\n",
       "   'admin_rss_enabled': True,\n",
       "   'source': 20258,\n",
       "   'name': 'Lok Sabha Election: Read Latest General Election News along with Lok Sabha Polling Schedule, Results, and other updates | Hindustan Times',\n",
       "   'created_at': '2022-12-23T17:44:04.736466Z',\n",
       "   'modified_at': '2022-12-23T17:44:04.736466Z'},\n",
       "  {'id': 2406539,\n",
       "   'url': 'https://www.hindustantimes.com/feeds/rss/elections/madhya-pradesh-assembly-election-2018/rssfeed.xml',\n",
       "   'admin_rss_enabled': True,\n",
       "   'source': 20258,\n",
       "   'name': 'Madhya Pradesh election results, live updates, exit polls and news | Hindustan Times',\n",
       "   'created_at': '2022-12-23T17:44:04.736466Z',\n",
       "   'modified_at': '2022-12-23T17:44:04.736466Z'},\n",
       "  {'id': 2406540,\n",
       "   'url': 'https://www.hindustantimes.com/feeds/rss/elections/manipur-assembly-election/rssfeed.xml',\n",
       "   'admin_rss_enabled': True,\n",
       "   'source': 20258,\n",
       "   'name': 'Manipur Assembly Election 2022 Result Live: Get the Full Coverage on Manipur Assembly Election constituencies-wise Result Updates | Hindustan Times',\n",
       "   'created_at': '2022-12-23T17:44:04.736466Z',\n",
       "   'modified_at': '2022-12-23T17:44:04.736466Z'},\n",
       "  {'id': 2406541,\n",
       "   'url': 'https://www.hindustantimes.com/feeds/rss/elections/mizoram-assembly-election-2018/rssfeed.xml',\n",
       "   'admin_rss_enabled': True,\n",
       "   'source': 20258,\n",
       "   'name': 'Mizoram Election Results 2018: Latest News & Updates on Mizoram Assembly Election Results | Hindustan Times',\n",
       "   'created_at': '2022-12-23T17:44:04.736466Z',\n",
       "   'modified_at': '2022-12-23T17:44:04.736466Z'},\n",
       "  {'id': 2406542,\n",
       "   'url': 'https://www.hindustantimes.com/feeds/rss/elections/puducherry-assembly-election-2016/rssfeed.xml',\n",
       "   'admin_rss_enabled': True,\n",
       "   'source': 20258,\n",
       "   'name': \"Puducherry Assembly Elections - Live updates, news, analysis at Hindustan Times, India's most trusted news brand | Hindustan Times\",\n",
       "   'created_at': '2022-12-23T17:44:04.736466Z',\n",
       "   'modified_at': '2022-12-23T17:44:04.736466Z'},\n",
       "  {'id': 2406543,\n",
       "   'url': 'https://www.hindustantimes.com/feeds/rss/elections/puducherry-assembly-election/rssfeed.xml',\n",
       "   'admin_rss_enabled': True,\n",
       "   'source': 20258,\n",
       "   'name': 'Puducherry Election 2021: Get latest updates on Puducherry Assembly Election 2021 news, polling schedule and result dates | Hindustan Times',\n",
       "   'created_at': '2022-12-23T17:44:04.736466Z',\n",
       "   'modified_at': '2022-12-23T17:44:04.736466Z'},\n",
       "  {'id': 2406544,\n",
       "   'url': 'https://www.hindustantimes.com/feeds/rss/elections/punjab-assembly-election/rssfeed.xml',\n",
       "   'admin_rss_enabled': True,\n",
       "   'source': 20258,\n",
       "   'name': 'Punjab Election 2022 Result Live: Get the Full Coverage on Punjab Assembly Election constituencies-wise Result Updates | Hindustan Times',\n",
       "   'created_at': '2022-12-23T17:44:04.736466Z',\n",
       "   'modified_at': '2022-12-23T17:44:04.736466Z'},\n",
       "  {'id': 2406545,\n",
       "   'url': 'https://www.hindustantimes.com/feeds/rss/elections/rssfeed.xml',\n",
       "   'admin_rss_enabled': True,\n",
       "   'source': 20258,\n",
       "   'name': 'Election 2022 Result: Get Live Updates on Assembly Elections in UP, Punjab, Uttarakhand, Goa and Manipur | Hindustan Times',\n",
       "   'created_at': '2022-12-23T17:44:04.736466Z',\n",
       "   'modified_at': '2022-12-23T17:44:04.736466Z'},\n",
       "  {'id': 2406546,\n",
       "   'url': 'https://www.hindustantimes.com/feeds/rss/elections/tamil-nadu-assembly-election-2016/rssfeed.xml',\n",
       "   'admin_rss_enabled': True,\n",
       "   'source': 20258,\n",
       "   'name': \"Tamil Nadu Assembly Elections - Live updates, news, analysis at Hindustan Times, India's most trusted news brand | Hindustan Times\",\n",
       "   'created_at': '2022-12-23T17:44:04.736466Z',\n",
       "   'modified_at': '2022-12-23T17:44:04.736466Z'},\n",
       "  {'id': 2406547,\n",
       "   'url': 'https://www.hindustantimes.com/feeds/rss/elections/tamil-nadu-assembly-election/rssfeed.xml',\n",
       "   'admin_rss_enabled': True,\n",
       "   'source': 20258,\n",
       "   'name': 'Tamil Nadu Election 2021: Get latest news on Tamil Nadu Assembly Election 2021 along with updates on schedule and result date | Hindustan Times',\n",
       "   'created_at': '2022-12-23T17:44:04.736466Z',\n",
       "   'modified_at': '2022-12-23T17:44:04.736466Z'},\n",
       "  {'id': 2406548,\n",
       "   'url': 'https://www.hindustantimes.com/feeds/rss/elections/uttarakhand-assembly-election-2017/rssfeed.xml',\n",
       "   'admin_rss_enabled': True,\n",
       "   'source': 20258,\n",
       "   'name': 'Uttarakhand assembly elections results 2017: Live updates, news, party position | Hindustan Times',\n",
       "   'created_at': '2022-12-23T17:44:04.736466Z',\n",
       "   'modified_at': '2022-12-23T17:44:04.736466Z'},\n",
       "  {'id': 2406549,\n",
       "   'url': 'https://www.hindustantimes.com/feeds/rss/elections/west-bengal-assembly-election-2016/rssfeed.xml',\n",
       "   'admin_rss_enabled': True,\n",
       "   'source': 20258,\n",
       "   'name': \"West Bengal Assembly Elections - Live updates, news, analysis at Hindustan Times, India's most trusted news brand | Hindustan Times\",\n",
       "   'created_at': '2022-12-23T17:44:04.736466Z',\n",
       "   'modified_at': '2022-12-23T17:44:04.736466Z'},\n",
       "  {'id': 2406550,\n",
       "   'url': 'https://www.hindustantimes.com/feeds/rss/elections/west-bengal-assembly-election/rssfeed.xml',\n",
       "   'admin_rss_enabled': True,\n",
       "   'source': 20258,\n",
       "   'name': 'West Bengal Election 2021: Get latest news update on West Bengal Assembly Election 2021 | Hindustan Times',\n",
       "   'created_at': '2022-12-23T17:44:04.736466Z',\n",
       "   'modified_at': '2022-12-23T17:44:04.736466Z'},\n",
       "  {'id': 2406551,\n",
       "   'url': 'https://www.hindustantimes.com/feeds/rss/entertainment/bollywood/rssfeed.xml',\n",
       "   'admin_rss_enabled': True,\n",
       "   'source': 20258,\n",
       "   'name': 'Bollywood News, Latest Bollywood News and Celebrity Gossips Today | Hindustan Times',\n",
       "   'created_at': '2022-12-23T17:44:04.736466Z',\n",
       "   'modified_at': '2022-12-23T17:44:04.736466Z'},\n",
       "  {'id': 2406552,\n",
       "   'url': 'https://www.hindustantimes.com/feeds/rss/entertainment/hollywood/rssfeed.xml',\n",
       "   'admin_rss_enabled': True,\n",
       "   'source': 20258,\n",
       "   'name': 'Hollywood News, Latest Hollywood News and Celebrity Gossips Today | Hindustan Times',\n",
       "   'created_at': '2022-12-23T17:44:04.736466Z',\n",
       "   'modified_at': '2022-12-23T17:44:04.736466Z'},\n",
       "  {'id': 2406553,\n",
       "   'url': 'https://www.hindustantimes.com/feeds/rss/entertainment/tamil-cinema/rssfeed.xml',\n",
       "   'admin_rss_enabled': True,\n",
       "   'source': 20258,\n",
       "   'name': 'Tamil Cinema News: Latest Kollywood News, Tamil Movie Reviews and Celebrity News | Hindustan Times',\n",
       "   'created_at': '2022-12-23T17:44:04.736466Z',\n",
       "   'modified_at': '2022-12-23T17:44:04.736466Z'},\n",
       "  {'id': 2406554,\n",
       "   'url': 'https://www.hindustantimes.com/feeds/rss/entertainment/telugu-cinema/rssfeed.xml',\n",
       "   'admin_rss_enabled': True,\n",
       "   'source': 20258,\n",
       "   'name': 'Telugu Cinema News: Get Latest Tollywood Movies, Films, Celebrity Photos, Videos Online | Hindustan Times',\n",
       "   'created_at': '2022-12-23T17:44:04.736466Z',\n",
       "   'modified_at': '2022-12-23T17:44:04.736466Z'},\n",
       "  {'id': 2406555,\n",
       "   'url': 'https://www.hindustantimes.com/feeds/rss/entertainment/tv/rssfeed.xml',\n",
       "   'admin_rss_enabled': True,\n",
       "   'source': 20258,\n",
       "   'name': 'TV Cinema News, Latest Television News, TV Episodes and Highlights | Hindustan Times',\n",
       "   'created_at': '2022-12-23T17:44:04.736466Z',\n",
       "   'modified_at': '2022-12-23T17:44:04.736466Z'},\n",
       "  {'id': 2406556,\n",
       "   'url': 'https://www.hindustantimes.com/feeds/rss/entertainment/web-series/rssfeed.xml',\n",
       "   'admin_rss_enabled': True,\n",
       "   'source': 20258,\n",
       "   'name': 'Latest Web Series| Best Web Series in India 2022 | Web Series Hindi | Hindustan Times',\n",
       "   'created_at': '2022-12-23T17:44:04.736466Z',\n",
       "   'modified_at': '2022-12-23T17:44:04.736466Z'},\n",
       "  {'id': 2406557,\n",
       "   'url': 'https://www.hindustantimes.com/feeds/rss/health/rssfeed.xml',\n",
       "   'admin_rss_enabled': True,\n",
       "   'source': 20258,\n",
       "   'name': '| Hindustan Times',\n",
       "   'created_at': '2022-12-23T17:44:04.736466Z',\n",
       "   'modified_at': '2022-12-23T17:44:04.736466Z'},\n",
       "  {'id': 2406558,\n",
       "   'url': 'https://www.hindustantimes.com/feeds/rss/ht-insight/climate-change/rssfeed.xml',\n",
       "   'admin_rss_enabled': True,\n",
       "   'source': 20258,\n",
       "   'name': 'Climate Change in India: Read opinion articles and academic research from the experts on issues related to climate change | Hindustan Times',\n",
       "   'created_at': '2022-12-23T17:44:04.736466Z',\n",
       "   'modified_at': '2022-12-23T17:44:04.736466Z'},\n",
       "  {'id': 2406559,\n",
       "   'url': 'https://www.hindustantimes.com/feeds/rss/ht-insight/education-in-india/rssfeed.xml',\n",
       "   'admin_rss_enabled': True,\n",
       "   'source': 20258,\n",
       "   'name': 'Education System in India: Read experts opinion and academic research on matters related to education policy in India | Hindustan Times',\n",
       "   'created_at': '2022-12-23T17:44:04.736466Z',\n",
       "   'modified_at': '2022-12-23T17:44:04.736466Z'},\n",
       "  {'id': 2406560,\n",
       "   'url': 'https://www.hindustantimes.com/feeds/rss/ht-insight/international-affairs/rssfeed.xml',\n",
       "   'admin_rss_enabled': True,\n",
       "   'source': 20258,\n",
       "   'name': 'International Affairs: Read experts opinion and academic research on matters related to external affairs | Hindustan Times',\n",
       "   'created_at': '2022-12-23T17:44:04.736466Z',\n",
       "   'modified_at': '2022-12-23T17:44:04.736466Z'},\n",
       "  {'id': 2406561,\n",
       "   'url': 'https://www.hindustantimes.com/feeds/rss/htls/hindustan-times-leadership-summit-2015/rssfeed.xml',\n",
       "   'admin_rss_enabled': True,\n",
       "   'source': 20258,\n",
       "   'name': 'HTLS 2015: Hindustan Times 13th leadership summit. Get all the details about HTLS 2015 like speakers, venue, and guest list. | Hindustan Times',\n",
       "   'created_at': '2022-12-23T17:44:04.736466Z',\n",
       "   'modified_at': '2022-12-23T17:44:04.736466Z'},\n",
       "  {'id': 2406562,\n",
       "   'url': 'https://www.hindustantimes.com/feeds/rss/htls/hindustan-times-leadership-summit-2018/rssfeed.xml',\n",
       "   'admin_rss_enabled': True,\n",
       "   'source': 20258,\n",
       "   'name': 'HTLS 2018: Hindustan Times 16th leadership summit. Get all the details about HTLS 2018 like speakers, venue, and guest list. | Hindustan Times | Hindustan Times',\n",
       "   'created_at': '2022-12-23T17:44:04.736466Z',\n",
       "   'modified_at': '2022-12-23T17:44:04.736466Z'},\n",
       "  {'id': 2406563,\n",
       "   'url': 'https://www.hindustantimes.com/feeds/rss/htls/ht-leadership-summit-2021/rssfeed.xml',\n",
       "   'admin_rss_enabled': True,\n",
       "   'source': 20258,\n",
       "   'name': 'HTLS 2021: Get all the details about 19th HT Leadership Summit 2021 | Hindustan Times',\n",
       "   'created_at': '2022-12-23T17:44:04.736466Z',\n",
       "   'modified_at': '2022-12-23T17:44:04.736466Z'},\n",
       "  {'id': 2406564,\n",
       "   'url': 'https://www.hindustantimes.com/feeds/rss/htls/rssfeed.xml',\n",
       "   'admin_rss_enabled': True,\n",
       "   'source': 20258,\n",
       "   'name': 'HTLS: Hindustan Times leadership summit. Get all the details about HTLS like speakers, venue, and guest list. | Hindustan Times',\n",
       "   'created_at': '2022-12-23T17:44:04.736466Z',\n",
       "   'modified_at': '2022-12-23T17:44:04.736466Z'},\n",
       "  {'id': 2406565,\n",
       "   'url': 'https://www.hindustantimes.com/feeds/rss/latest/rssfeed.xml',\n",
       "   'admin_rss_enabled': True,\n",
       "   'source': 20258,\n",
       "   'name': \"Latest News, Today's Breaking News, Live News, Current News | Hindustan Times\",\n",
       "   'created_at': '2022-12-23T17:44:04.736466Z',\n",
       "   'modified_at': '2022-12-23T17:44:04.736466Z'},\n",
       "  {'id': 2406566,\n",
       "   'url': 'https://www.hindustantimes.com/feeds/rss/lifestyle/festivals/rssfeed.xml',\n",
       "   'admin_rss_enabled': True,\n",
       "   'source': 20258,\n",
       "   'name': 'Festivals – Get to know about Indian Festivals along with most popular festivals celebrated across the world | Hindustan Times',\n",
       "   'created_at': '2022-12-23T17:44:04.736466Z',\n",
       "   'modified_at': '2022-12-23T17:44:04.736466Z'},\n",
       "  {'id': 2406567,\n",
       "   'url': 'https://www.hindustantimes.com/feeds/rss/lifestyle/health/rssfeed.xml',\n",
       "   'admin_rss_enabled': True,\n",
       "   'source': 20258,\n",
       "   'name': 'Health: Latest Health News, Tips, Nutrition, Diet and Fitness. | Hindustan Times',\n",
       "   'created_at': '2022-12-23T17:44:04.736466Z',\n",
       "   'modified_at': '2022-12-23T17:44:04.736466Z'},\n",
       "  {'id': 2406568,\n",
       "   'url': 'https://www.hindustantimes.com/feeds/rss/lifestyle/pet/rssfeed.xml',\n",
       "   'admin_rss_enabled': True,\n",
       "   'source': 20258,\n",
       "   'name': 'Pet: Find the complete health, wellness, and fitness guide for your pet along with animal care tips and advice | Hindustan Times',\n",
       "   'created_at': '2022-12-23T17:44:04.736466Z',\n",
       "   'modified_at': '2022-12-23T17:44:04.736466Z'},\n",
       "  {'id': 2406569,\n",
       "   'url': 'https://www.hindustantimes.com/feeds/rss/lifestyle/relationships/rssfeed.xml',\n",
       "   'admin_rss_enabled': True,\n",
       "   'source': 20258,\n",
       "   'name': 'Sex and Relationship Advice, Education, Issues, Tips and Articles | Hindustan Times',\n",
       "   'created_at': '2022-12-23T17:44:04.736466Z',\n",
       "   'modified_at': '2022-12-23T17:44:04.736466Z'},\n",
       "  {'id': 2406570,\n",
       "   'url': 'https://www.hindustantimes.com/feeds/rss/lifestyle/rssfeed.xml',\n",
       "   'admin_rss_enabled': True,\n",
       "   'source': 20258,\n",
       "   'name': 'Lifestyle News, Fashion Trends, Beauty and Relationships Tips | Hindustan Times',\n",
       "   'created_at': '2022-12-23T17:44:04.736466Z',\n",
       "   'modified_at': '2022-12-23T17:44:04.736466Z'},\n",
       "  {'id': 2406571,\n",
       "   'url': 'https://www.hindustantimes.com/feeds/rss/nri-news/rssfeed.xml',\n",
       "   'admin_rss_enabled': True,\n",
       "   'source': 20258,\n",
       "   'name': 'NRI News: Latest NRI News, Non Resident Indians, Indians Abroad News and Updates | Hindustan Times | Hindustan Times',\n",
       "   'created_at': '2022-12-23T17:44:04.736466Z',\n",
       "   'modified_at': '2022-12-23T17:44:04.736466Z'},\n",
       "  {'id': 2406572,\n",
       "   'url': 'https://www.hindustantimes.com/feeds/rss/photos/art-culture/rssfeed.xml',\n",
       "   'admin_rss_enabled': True,\n",
       "   'source': 20258,\n",
       "   'name': 'Arts and Culture Photos: Explore the Indian Culture and Heritage Images, Dance Culture and Programs Galleries | Hindustan Times',\n",
       "   'created_at': '2022-12-23T17:44:04.736466Z',\n",
       "   'modified_at': '2022-12-23T17:44:04.736466Z'},\n",
       "  {'id': 2406573,\n",
       "   'url': 'https://www.hindustantimes.com/feeds/rss/photos/brunch/rssfeed.xml',\n",
       "   'admin_rss_enabled': True,\n",
       "   'source': 20258,\n",
       "   'name': 'Brunch Photo Gallery, Brunch Latest Pictures and Images | Hindustan Times',\n",
       "   'created_at': '2022-12-23T17:44:04.736466Z',\n",
       "   'modified_at': '2022-12-23T17:44:04.736466Z'},\n",
       "  {'id': 2406574,\n",
       "   'url': 'https://www.hindustantimes.com/feeds/rss/photos/entertainment/rssfeed.xml',\n",
       "   'admin_rss_enabled': True,\n",
       "   'source': 20258,\n",
       "   'name': 'Entertainment Pictures: Actor and Actress Photo Galleries, Celebrities PhotoShoot | Hindustan Times',\n",
       "   'created_at': '2022-12-23T17:44:04.736466Z',\n",
       "   'modified_at': '2022-12-23T17:44:04.736466Z'},\n",
       "  {'id': 2406575,\n",
       "   'url': 'https://www.hindustantimes.com/feeds/rss/photos/ht-weekend/rssfeed.xml',\n",
       "   'admin_rss_enabled': True,\n",
       "   'source': 20258,\n",
       "   'name': 'HT Weekend Photos: Explore the latest unique and Trending Imagegallery | Hindustan Times',\n",
       "   'created_at': '2022-12-23T17:44:04.736466Z',\n",
       "   'modified_at': '2022-12-23T17:44:04.736466Z'},\n",
       "  {'id': 2406576,\n",
       "   'url': 'https://www.hindustantimes.com/feeds/rss/photos/news/rssfeed.xml',\n",
       "   'admin_rss_enabled': True,\n",
       "   'source': 20258,\n",
       "   'name': 'News Photos, Latest News Photos and Galleries | Hindustan Times',\n",
       "   'created_at': '2022-12-23T17:44:04.736466Z',\n",
       "   'modified_at': '2022-12-23T17:44:04.736466Z'},\n",
       "  {'id': 2406577,\n",
       "   'url': 'https://www.hindustantimes.com/feeds/rss/photos/real-estate/rssfeed.xml',\n",
       "   'admin_rss_enabled': True,\n",
       "   'source': 20258,\n",
       "   'name': 'HT Real Estate Photos - Explore Property Photos, Residential and Commercial Property Imagegallery | Hindustan Times',\n",
       "   'created_at': '2022-12-23T17:44:04.736466Z',\n",
       "   'modified_at': '2022-12-23T17:44:04.736466Z'},\n",
       "  {'id': 2406578,\n",
       "   'url': 'https://www.hindustantimes.com/feeds/rss/photos/singapore-summit/rssfeed.xml',\n",
       "   'admin_rss_enabled': True,\n",
       "   'source': 20258,\n",
       "   'name': 'Singapore Summit Photos: Diverse ideas converge at the HT-Mint-Asia Leadership Summit | Hindustan Times',\n",
       "   'created_at': '2022-12-23T17:44:04.736466Z',\n",
       "   'modified_at': '2022-12-23T17:44:04.736466Z'},\n",
       "  {'id': 2406579,\n",
       "   'url': 'https://www.hindustantimes.com/feeds/rss/photos/sponsoredcontent/rssfeed.xml',\n",
       "   'admin_rss_enabled': True,\n",
       "   'source': 20258,\n",
       "   'name': 'Sponsored Content Photos | Hindustan Times',\n",
       "   'created_at': '2022-12-23T17:44:04.736466Z',\n",
       "   'modified_at': '2022-12-23T17:44:04.736466Z'},\n",
       "  {'id': 2406580,\n",
       "   'url': 'https://www.hindustantimes.com/feeds/rss/photos/tokyo-olympics/rssfeed.xml',\n",
       "   'admin_rss_enabled': True,\n",
       "   'source': 20258,\n",
       "   'name': 'Tokyo Olympics 2020 Photos: View 2020 Olympic Games latest photos | Hindustan Times',\n",
       "   'created_at': '2022-12-23T17:44:04.736466Z',\n",
       "   'modified_at': '2022-12-23T17:44:04.736466Z'}]}"
      ]
     },
     "execution_count": 68,
     "metadata": {},
     "output_type": "execute_result"
    }
   ],
   "source": [
    "# learn about the first result from above, which is our canonical one for the Hindustan Times\n",
    "matching_sources = directory_api.source_list(name='hindustantimes')\n",
    "hindustan_times = matching_sources['results'][0]\n",
    "\n",
    "# list all the feeds associated with this media source\n",
    "hindistan_times_feeds = directory_api.feed_list(hindustan_times['id'])\n",
    "hindistan_times_feeds"
   ]
  },
  {
   "cell_type": "markdown",
   "metadata": {
    "id": "AE-5aOUZ-Ezt"
   },
   "source": [
    "## Collections"
   ]
  },
  {
   "cell_type": "code",
   "execution_count": null,
   "metadata": {
    "colab": {
     "base_uri": "https://localhost:8080/"
    },
    "executionInfo": {
     "elapsed": 466,
     "status": "ok",
     "timestamp": 1725720755913,
     "user": {
      "displayName": "ICTD IITD",
      "userId": "11419946949516230456"
     },
     "user_tz": -330
    },
    "id": "-0tAAxQa9aFC",
    "outputId": "1afa4d16-f388-4534-c793-c7946b92b649"
   },
   "outputs": [
    {
     "data": {
      "text/plain": [
       "['Nigeria - National',\n",
       " 'nigeria abyz 20160725',\n",
       " 'Nigeria',\n",
       " 'nigeria hausa 20161007',\n",
       " 'nigeria mitpolisci 20160321',\n",
       " 'nigeria additional 20160812',\n",
       " 'gates nigeria 20160203',\n",
       " 'nigeria egghead 20141017',\n",
       " 'nigeria']"
      ]
     },
     "execution_count": 73,
     "metadata": {},
     "output_type": "execute_result"
    }
   ],
   "source": [
    "# search for a collection by name\n",
    "nigerian_collections = directory_api.collection_list(name='nigeria')\n",
    "[c['name'] for c in nigerian_collections['results']]"
   ]
  },
  {
   "cell_type": "code",
   "execution_count": null,
   "metadata": {
    "colab": {
     "base_uri": "https://localhost:8080/",
     "height": 35
    },
    "executionInfo": {
     "elapsed": 958,
     "status": "ok",
     "timestamp": 1725720778919,
     "user": {
      "displayName": "ICTD IITD",
      "userId": "11419946949516230456"
     },
     "user_tz": -330
    },
    "id": "lTvNc1e8-LWf",
    "outputId": "f91799fb-363f-47d5-8b32-4a6e8412e051"
   },
   "outputs": [
    {
     "data": {
      "application/vnd.google.colaboratory.intrinsic+json": {
       "type": "string"
      },
      "text/plain": [
       "'Found 436 media sources in Nigeria National collection geographic collections'"
      ]
     },
     "execution_count": 74,
     "metadata": {},
     "output_type": "execute_result"
    }
   ],
   "source": [
    "# page through a list of all the sources in the \"Nigeria - National\" collection\n",
    "NIGERIA_NATIONAL = 38376341\n",
    "sources = []\n",
    "limit = 100\n",
    "offset = 0\n",
    "while True:\n",
    "    response = directory_api.source_list(collection_id=NIGERIA_NATIONAL, limit=limit, offset=offset)\n",
    "    sources += response['results']\n",
    "    if response['next'] is None:\n",
    "        break\n",
    "    offset += limit\n",
    "f\"Found {len(sources)} media sources in Nigeria National collection geographic collections\""
   ]
  },
  {
   "cell_type": "code",
   "execution_count": null,
   "metadata": {
    "colab": {
     "base_uri": "https://localhost:8080/"
    },
    "executionInfo": {
     "elapsed": 578,
     "status": "ok",
     "timestamp": 1725720827323,
     "user": {
      "displayName": "ICTD IITD",
      "userId": "11419946949516230456"
     },
     "user_tz": -330
    },
    "id": "bbGRzd3K-VIK",
    "outputId": "81ea12ae-97ac-440d-accd-f475594c6244"
   },
   "outputs": [
    {
     "name": "stdout",
     "output_type": "stream",
     "text": [
      "[{'id': 18029, 'name': 'vanguardngr.com', 'url_search_string': None, 'label': 'Vanguard', 'homepage': 'http://www.vanguardngr.com/', 'notes': None, 'platform': 'online_news', 'stories_per_week': 1064, 'first_story': None, 'created_at': '2022-12-23T17:43:28.547804Z', 'modified_at': '2024-08-31T13:45:47.063328Z', 'pub_country': None, 'pub_state': None, 'primary_language': 'en', 'media_type': None, 'collection_count': 12}, {'id': 18027, 'name': 'sunnewsonline.com', 'url_search_string': None, 'label': 'The Sun', 'homepage': 'http://www.sunnewsonline.com/', 'notes': None, 'platform': 'online_news', 'stories_per_week': 614, 'first_story': None, 'created_at': '2022-12-23T17:43:28.547804Z', 'modified_at': '2024-06-12T20:34:40.777523Z', 'pub_country': 'USA', 'pub_state': 'US-PA', 'primary_language': 'en', 'media_type': 'print_native', 'collection_count': 11}, {'id': 18024, 'name': 'saharareporters.com', 'url_search_string': None, 'label': 'Sahara Reporters', 'homepage': 'http://www.saharareporters.com/', 'notes': None, 'platform': 'online_news', 'stories_per_week': 31, 'first_story': None, 'created_at': '2022-12-23T17:43:28.547804Z', 'modified_at': '2024-08-31T13:45:46.833300Z', 'pub_country': None, 'pub_state': None, 'primary_language': 'en', 'media_type': None, 'collection_count': 10}, {'id': 42118, 'name': 'itv.com', 'url_search_string': None, 'label': 'itv.com', 'homepage': 'https://www.itv.com/news/topic/nigeria', 'notes': None, 'platform': 'online_news', 'stories_per_week': None, 'first_story': None, 'created_at': '2022-12-23T17:43:28.547804Z', 'modified_at': '2023-12-30T22:15:10.417454Z', 'pub_country': 'GBR', 'pub_state': None, 'primary_language': 'en', 'media_type': None, 'collection_count': 10}, {'id': 61750, 'name': 'bellanaija.com', 'url_search_string': None, 'label': 'bellanaija.com', 'homepage': 'http://bellanaija.com/', 'notes': None, 'platform': 'online_news', 'stories_per_week': 92, 'first_story': None, 'created_at': '2022-12-23T17:43:28.547804Z', 'modified_at': '2024-08-31T13:49:16.253870Z', 'pub_country': 'NGA', 'pub_state': None, 'primary_language': 'en', 'media_type': 'digital_native', 'collection_count': 10}, {'id': 18023, 'name': 'punchng.com', 'url_search_string': None, 'label': 'Punch', 'homepage': 'http://www.punchng.com/', 'notes': None, 'platform': 'online_news', 'stories_per_week': 1007, 'first_story': None, 'created_at': '2022-12-23T17:43:28.547804Z', 'modified_at': '2024-08-31T13:45:46.800481Z', 'pub_country': 'NGA', 'pub_state': None, 'primary_language': 'en', 'media_type': 'print_native', 'collection_count': 10}, {'id': 41605, 'name': 'thisdaylive.com', 'url_search_string': None, 'label': 'thisdayonline', 'homepage': 'http://www.thisdaylive.com/', 'notes': None, 'platform': 'online_news', 'stories_per_week': 597, 'first_story': None, 'created_at': '2022-12-23T17:43:28.547804Z', 'modified_at': '2023-08-26T15:08:15.628827Z', 'pub_country': 'NGA', 'pub_state': None, 'primary_language': 'en', 'media_type': 'print_native', 'collection_count': 9}, {'id': 18025, 'name': 'ngrguardiannews.com', 'url_search_string': None, 'label': 'The Guardian (Nigeria)', 'homepage': 'http://www.ngrguardiannews.com/', 'notes': None, 'platform': 'online_news', 'stories_per_week': 663, 'first_story': None, 'created_at': '2022-12-23T17:43:28.547804Z', 'modified_at': '2024-08-31T13:45:46.926292Z', 'pub_country': 'NGA', 'pub_state': None, 'primary_language': 'en', 'media_type': 'print_native', 'collection_count': 9}, {'id': 18001, 'name': 'channelstv.com', 'url_search_string': None, 'label': 'Channels Television', 'homepage': 'http://www.channelstv.com/global/', 'notes': None, 'platform': 'online_news', 'stories_per_week': 296, 'first_story': None, 'created_at': '2022-12-23T17:43:28.547804Z', 'modified_at': '2024-08-31T13:45:46.425690Z', 'pub_country': None, 'pub_state': None, 'primary_language': 'en', 'media_type': None, 'collection_count': 8}, {'id': 18021, 'name': 'pmnewsnigeria.com', 'url_search_string': None, 'label': 'PM News', 'homepage': 'http://pmnewsnigeria.com/', 'notes': None, 'platform': 'online_news', 'stories_per_week': 331, 'first_story': None, 'created_at': '2022-12-23T17:43:28.547804Z', 'modified_at': '2024-08-31T13:45:46.677506Z', 'pub_country': 'NGA', 'pub_state': None, 'primary_language': 'en', 'media_type': 'print_native', 'collection_count': 8}, {'id': 339427, 'name': 'tribuneonlineng.com', 'url_search_string': None, 'label': 'tribuneonlineng.com', 'homepage': 'http://tribuneonlineng.com/', 'notes': None, 'platform': 'online_news', 'stories_per_week': 653, 'first_story': None, 'created_at': '2022-12-23T17:43:28.547804Z', 'modified_at': '2024-08-31T13:50:27.591279Z', 'pub_country': None, 'pub_state': None, 'primary_language': None, 'media_type': None, 'collection_count': 8}, {'id': 144205, 'name': 'dailytrust.com.ng', 'url_search_string': None, 'label': 'dailytrust.com.ng', 'homepage': 'http://dailytrust.com.ng/', 'notes': None, 'platform': 'online_news', 'stories_per_week': None, 'first_story': None, 'created_at': '2022-12-23T17:43:28.547804Z', 'modified_at': '2022-12-23T17:43:28.547804Z', 'pub_country': 'NGA', 'pub_state': None, 'primary_language': 'en', 'media_type': 'print_native', 'collection_count': 8}, {'id': 18022, 'name': 'pointblanknews.com', 'url_search_string': None, 'label': 'Pointblanknews', 'homepage': 'http://www.pointblanknews.com/', 'notes': None, 'platform': 'online_news', 'stories_per_week': 52, 'first_story': None, 'created_at': '2022-12-23T17:43:28.547804Z', 'modified_at': '2024-08-31T13:45:46.715244Z', 'pub_country': None, 'pub_state': None, 'primary_language': 'en', 'media_type': None, 'collection_count': 8}, {'id': 143543, 'name': 'onlinenigeria.com', 'url_search_string': None, 'label': 'onlinenigeria.com', 'homepage': 'http://onlinenigeria.com/', 'notes': None, 'platform': 'online_news', 'stories_per_week': 457, 'first_story': None, 'created_at': '2022-12-23T17:43:28.547804Z', 'modified_at': '2023-10-16T23:57:03.865804Z', 'pub_country': None, 'pub_state': None, 'primary_language': None, 'media_type': None, 'collection_count': 8}, {'id': 114907, 'name': 'premiumtimesng.com', 'url_search_string': None, 'label': 'premiumtimesng.com', 'homepage': 'https://premiumtimesng.com/', 'notes': None, 'platform': 'online_news', 'stories_per_week': 309, 'first_story': None, 'created_at': '2022-12-23T17:43:28.547804Z', 'modified_at': '2024-08-31T13:52:21.598157Z', 'pub_country': 'NGA', 'pub_state': None, 'primary_language': 'en', 'media_type': 'digital_native', 'collection_count': 7}, {'id': 130930, 'name': 'dailypost.ng', 'url_search_string': None, 'label': 'dailypost.ng', 'homepage': 'https://dailypost.ng/entertainment/', 'notes': None, 'platform': 'online_news', 'stories_per_week': 1029, 'first_story': None, 'created_at': '2022-12-23T17:43:28.547804Z', 'modified_at': '2024-08-31T13:53:50.427292Z', 'pub_country': 'NGA', 'pub_state': None, 'primary_language': 'en', 'media_type': 'digital_native', 'collection_count': 7}, {'id': 119713, 'name': 'thenigerianvoice.com', 'url_search_string': None, 'label': 'thenigerianvoice.com', 'homepage': 'http://thenigerianvoice.com/', 'notes': None, 'platform': 'online_news', 'stories_per_week': None, 'first_story': None, 'created_at': '2022-12-23T17:43:28.547804Z', 'modified_at': '2022-12-23T17:43:28.547804Z', 'pub_country': 'NGA', 'pub_state': None, 'primary_language': 'en', 'media_type': 'digital_native', 'collection_count': 7}, {'id': 143546, 'name': 'pulse.ng', 'url_search_string': None, 'label': 'pulse.ng', 'homepage': 'http://pulse.ng/', 'notes': None, 'platform': 'online_news', 'stories_per_week': 472, 'first_story': None, 'created_at': '2022-12-23T17:43:28.547804Z', 'modified_at': '2024-08-31T13:45:23.973772Z', 'pub_country': 'NGA', 'pub_state': None, 'primary_language': 'en', 'media_type': 'digital_native', 'collection_count': 7}, {'id': 143550, 'name': 'thecable.ng', 'url_search_string': None, 'label': 'thecable.ng', 'homepage': 'http://thecable.ng/', 'notes': None, 'platform': 'online_news', 'stories_per_week': None, 'first_story': None, 'created_at': '2022-12-23T17:43:28.547804Z', 'modified_at': '2022-12-23T17:43:28.547804Z', 'pub_country': 'NGA', 'pub_state': None, 'primary_language': 'en', 'media_type': 'digital_native', 'collection_count': 7}, {'id': 18052, 'name': 'thewillnigeria.com', 'url_search_string': None, 'label': 'The Will Nigeria', 'homepage': 'http://www.thewillnigeria.com/', 'notes': None, 'platform': 'online_news', 'stories_per_week': 349, 'first_story': None, 'created_at': '2022-12-23T17:43:28.547804Z', 'modified_at': '2024-08-31T13:45:47.256342Z', 'pub_country': None, 'pub_state': None, 'primary_language': 'en', 'media_type': None, 'collection_count': 6}, {'id': 56664, 'name': 'lindaikeji.blogspot.com', 'url_search_string': None, 'label': 'lindaikeji.blogspot.com', 'homepage': 'http://lindaikeji.blogspot.com/', 'notes': None, 'platform': 'online_news', 'stories_per_week': 459, 'first_story': None, 'created_at': '2022-12-23T17:43:28.547804Z', 'modified_at': '2024-08-31T13:49:03.016169Z', 'pub_country': 'NGA', 'pub_state': None, 'primary_language': 'en', 'media_type': 'digital_native', 'collection_count': 6}, {'id': 18017, 'name': 'nigeriavillagesquare.com', 'url_search_string': None, 'label': 'Nigerian Village Square', 'homepage': 'http://www.nigeriavillagesquare.com', 'notes': None, 'platform': 'online_news', 'stories_per_week': None, 'first_story': None, 'created_at': '2022-12-23T17:43:28.547804Z', 'modified_at': '2022-12-23T17:43:28.547804Z', 'pub_country': 'NGA', 'pub_state': None, 'primary_language': 'en', 'media_type': 'digital_native', 'collection_count': 6}, {'id': 56890, 'name': 'dailytribune.com', 'url_search_string': None, 'label': 'dailytribune.com', 'homepage': 'http://dailytribune.com/', 'notes': None, 'platform': 'online_news', 'stories_per_week': 126, 'first_story': None, 'created_at': '2022-12-23T17:43:28.547804Z', 'modified_at': '2024-08-31T13:49:03.573638Z', 'pub_country': 'USA', 'pub_state': 'US-MI', 'primary_language': 'en', 'media_type': 'print_native', 'collection_count': 6}, {'id': 305169, 'name': 'leadership.ng', 'url_search_string': None, 'label': 'Gida - Leadership Hausa', 'homepage': 'http://hausa.leadership.ng/', 'notes': None, 'platform': 'online_news', 'stories_per_week': 727, 'first_story': None, 'created_at': '2022-12-23T17:43:28.547804Z', 'modified_at': '2024-08-31T13:48:27.521227Z', 'pub_country': None, 'pub_state': None, 'primary_language': 'ms', 'media_type': None, 'collection_count': 6}, {'id': 119002, 'name': 'ynaija.com', 'url_search_string': None, 'label': 'ynaija.com', 'homepage': 'http://ynaija.com/', 'notes': None, 'platform': 'online_news', 'stories_per_week': 46, 'first_story': None, 'created_at': '2022-12-23T17:43:28.547804Z', 'modified_at': '2024-08-31T13:52:41.915244Z', 'pub_country': 'NGA', 'pub_state': None, 'primary_language': 'en', 'media_type': 'digital_native', 'collection_count': 5}, {'id': 18012, 'name': 'newsdiaryonline.com', 'url_search_string': None, 'label': 'NewsDiary Online', 'homepage': 'http://newsdiaryonline.com/', 'notes': None, 'platform': 'online_news', 'stories_per_week': 382, 'first_story': None, 'created_at': '2022-12-23T17:43:28.547804Z', 'modified_at': '2024-08-31T13:45:46.543760Z', 'pub_country': 'NGA', 'pub_state': None, 'primary_language': 'en', 'media_type': 'digital_native', 'collection_count': 5}, {'id': 143612, 'name': 'nairaland.com', 'url_search_string': None, 'label': 'nairaland.com', 'homepage': 'http://nairaland.com/', 'notes': None, 'platform': 'online_news', 'stories_per_week': 434, 'first_story': None, 'created_at': '2022-12-23T17:43:28.547804Z', 'modified_at': '2024-08-31T13:45:24.330030Z', 'pub_country': 'NGA', 'pub_state': None, 'primary_language': 'en', 'media_type': 'digital_native', 'collection_count': 5}, {'id': 143878, 'name': 'nigerianbulletin.com', 'url_search_string': None, 'label': 'nigerianbulletin.com', 'homepage': 'http://nigerianbulletin.com/', 'notes': None, 'platform': 'online_news', 'stories_per_week': 152, 'first_story': None, 'created_at': '2022-12-23T17:43:28.547804Z', 'modified_at': '2024-08-31T13:45:25.311555Z', 'pub_country': 'NGA', 'pub_state': None, 'primary_language': 'en', 'media_type': 'digital_native', 'collection_count': 5}, {'id': 143897, 'name': 'naij.com', 'url_search_string': None, 'label': 'naij.com', 'homepage': 'http://naij.com/', 'notes': None, 'platform': 'online_news', 'stories_per_week': 209, 'first_story': None, 'created_at': '2022-12-23T17:43:28.547804Z', 'modified_at': '2024-08-31T13:45:25.376378Z', 'pub_country': 'NGA', 'pub_state': None, 'primary_language': 'en', 'media_type': 'digital_native', 'collection_count': 5}, {'id': 144319, 'name': 'today.ng', 'url_search_string': None, 'label': 'today.ng', 'homepage': 'http://today.ng/', 'notes': None, 'platform': 'online_news', 'stories_per_week': None, 'first_story': None, 'created_at': '2022-12-23T17:43:28.547804Z', 'modified_at': '2022-12-23T17:43:28.547804Z', 'pub_country': None, 'pub_state': None, 'primary_language': None, 'media_type': None, 'collection_count': 5}, {'id': 143855, 'name': 'newtelegraphonline.com', 'url_search_string': None, 'label': 'newtelegraphonline.com', 'homepage': 'http://newtelegraphonline.com/', 'notes': None, 'platform': 'online_news', 'stories_per_week': 654, 'first_story': None, 'created_at': '2022-12-23T17:43:28.547804Z', 'modified_at': '2024-08-31T13:45:25.230679Z', 'pub_country': 'NGA', 'pub_state': None, 'primary_language': 'en', 'media_type': 'digital_native', 'collection_count': 5}, {'id': 169962, 'name': 'africanexaminer.com', 'url_search_string': None, 'label': 'African Examiner |', 'homepage': 'http://www.africanexaminer.com/', 'notes': None, 'platform': 'online_news', 'stories_per_week': 80, 'first_story': None, 'created_at': '2022-12-23T17:43:28.547804Z', 'modified_at': '2024-08-31T13:47:30.037119Z', 'pub_country': 'NGA', 'pub_state': None, 'primary_language': 'en', 'media_type': 'digital_native', 'collection_count': 5}, {'id': 169954, 'name': 'newsdesk.ng', 'url_search_string': None, 'label': 'Nigeria Newsdesk', 'homepage': 'http://www.newsdesk.ng/', 'notes': None, 'platform': 'online_news', 'stories_per_week': None, 'first_story': None, 'created_at': '2022-12-23T17:43:28.547804Z', 'modified_at': '2022-12-23T17:43:28.547804Z', 'pub_country': 'NGA', 'pub_state': None, 'primary_language': 'en', 'media_type': 'digital_native', 'collection_count': 5}, {'id': 373312, 'name': 'independent.ng', 'url_search_string': None, 'label': 'independent.ng', 'homepage': 'http://independent.ng/', 'notes': None, 'platform': 'online_news', 'stories_per_week': 268, 'first_story': None, 'created_at': '2022-12-23T17:43:28.547804Z', 'modified_at': '2024-05-12T14:01:32.169073Z', 'pub_country': None, 'pub_state': None, 'primary_language': None, 'media_type': None, 'collection_count': 5}, {'id': 145928, 'name': 'gamji.com', 'url_search_string': None, 'label': 'gamji.com', 'homepage': 'http://gamji.com/', 'notes': None, 'platform': 'online_news', 'stories_per_week': None, 'first_story': None, 'created_at': '2022-12-23T17:43:28.547804Z', 'modified_at': '2022-12-23T17:43:28.547804Z', 'pub_country': 'NGA', 'pub_state': None, 'primary_language': 'en', 'media_type': 'digital_native', 'collection_count': 5}, {'id': 18007, 'name': 'desertherald.com', 'url_search_string': None, 'label': 'Desert Herald', 'homepage': 'http://www.desertherald.com/', 'notes': None, 'platform': 'online_news', 'stories_per_week': None, 'first_story': None, 'created_at': '2022-12-23T17:43:28.547804Z', 'modified_at': '2022-12-23T17:43:28.547804Z', 'pub_country': 'NGA', 'pub_state': None, 'primary_language': 'en', 'media_type': 'print_native', 'collection_count': 5}, {'id': 60967, 'name': 'racialicious.com', 'url_search_string': None, 'label': 'racialicious.com', 'homepage': 'http://racialicious.com/', 'notes': None, 'platform': 'online_news', 'stories_per_week': None, 'first_story': None, 'created_at': '2022-12-23T17:43:28.547804Z', 'modified_at': '2022-12-23T17:43:28.547804Z', 'pub_country': None, 'pub_state': None, 'primary_language': 'en', 'media_type': None, 'collection_count': 5}, {'id': 18015, 'name': 'nigeriannewsservice.com', 'url_search_string': None, 'label': 'Nigerian News Service', 'homepage': 'http://www.nigeriannewsservice.com/', 'notes': None, 'platform': 'online_news', 'stories_per_week': None, 'first_story': None, 'created_at': '2022-12-23T17:43:28.547804Z', 'modified_at': '2022-12-23T17:43:28.547804Z', 'pub_country': 'NGA', 'pub_state': None, 'primary_language': 'en', 'media_type': 'digital_native', 'collection_count': 5}, {'id': 143570, 'name': 'theheraldng.com', 'url_search_string': None, 'label': 'theheraldng.com', 'homepage': 'http://theheraldng.com/', 'notes': None, 'platform': 'online_news', 'stories_per_week': 98, 'first_story': None, 'created_at': '2022-12-23T17:43:28.547804Z', 'modified_at': '2024-08-31T13:45:24.099325Z', 'pub_country': 'NGA', 'pub_state': None, 'primary_language': 'en', 'media_type': 'digital_native', 'collection_count': 5}, {'id': 143556, 'name': 'businessdayonline.com', 'url_search_string': None, 'label': 'businessdayonline.com', 'homepage': 'http://businessdayonline.com/', 'notes': None, 'platform': 'online_news', 'stories_per_week': 346, 'first_story': None, 'created_at': '2022-12-23T17:43:28.547804Z', 'modified_at': '2024-08-31T13:45:24.048864Z', 'pub_country': 'NGA', 'pub_state': None, 'primary_language': 'en', 'media_type': 'print_native', 'collection_count': 5}, {'id': 295682, 'name': 'huhuonline.com', 'url_search_string': None, 'label': 'http://huhuonline.com/hunew/', 'homepage': 'http://www.huhuonline.com/', 'notes': None, 'platform': 'online_news', 'stories_per_week': 0, 'first_story': None, 'created_at': '2022-12-23T17:43:28.547804Z', 'modified_at': '2024-05-04T09:18:39.912409Z', 'pub_country': 'NGA', 'pub_state': None, 'primary_language': 'en', 'media_type': 'digital_native', 'collection_count': 5}, {'id': 295728, 'name': 'scannewsnigeria.com', 'url_search_string': None, 'label': 'ScanNews Nigeria', 'homepage': 'http://scannewsnigeria.com/', 'notes': None, 'platform': 'online_news', 'stories_per_week': 1, 'first_story': None, 'created_at': '2022-12-23T17:43:28.547804Z', 'modified_at': '2024-08-31T13:47:09.741281Z', 'pub_country': 'NGA', 'pub_state': None, 'primary_language': 'en', 'media_type': 'digital_native', 'collection_count': 5}, {'id': 271660, 'name': 'thebiafraherald.co', 'url_search_string': None, 'label': 'The Biafra Herald', 'homepage': 'http://www.thebiafraherald.co/', 'notes': None, 'platform': 'online_news', 'stories_per_week': 6, 'first_story': None, 'created_at': '2022-12-23T17:43:28.547804Z', 'modified_at': '2024-08-31T13:45:19.603145Z', 'pub_country': None, 'pub_state': None, 'primary_language': 'en', 'media_type': None, 'collection_count': 5}, {'id': 144730, 'name': 'thenationonlineng.net', 'url_search_string': None, 'label': 'thenationonlineng.net', 'homepage': 'http://thenationonlineng.net/', 'notes': None, 'platform': 'online_news', 'stories_per_week': 740, 'first_story': None, 'created_at': '2022-12-23T17:43:28.547804Z', 'modified_at': '2023-08-26T04:33:24.112768Z', 'pub_country': 'NGA', 'pub_state': None, 'primary_language': 'en', 'media_type': 'print_native', 'collection_count': 5}, {'id': 295705, 'name': 'nigerianewsday.com', 'url_search_string': None, 'label': 'http://www.nigerianewsday.com/', 'homepage': 'http://www.nigerianewsday.com/', 'notes': None, 'platform': 'online_news', 'stories_per_week': None, 'first_story': None, 'created_at': '2022-12-23T17:43:28.547804Z', 'modified_at': '2022-12-23T17:43:28.547804Z', 'pub_country': 'NGA', 'pub_state': None, 'primary_language': 'en', 'media_type': 'digital_native', 'collection_count': 4}, {'id': 119632, 'name': 'nigerianeye.com', 'url_search_string': None, 'label': 'nigerianeye.com', 'homepage': 'http://nigerianeye.com/', 'notes': None, 'platform': 'online_news', 'stories_per_week': 285, 'first_story': None, 'created_at': '2022-12-23T17:43:28.547804Z', 'modified_at': '2024-08-31T13:52:43.926889Z', 'pub_country': 'NGA', 'pub_state': None, 'primary_language': 'en', 'media_type': 'digital_native', 'collection_count': 4}, {'id': 295707, 'name': 'nigeriapolitico.net', 'url_search_string': None, 'label': 'NigeriaPolitico | Fair and Balanced News', 'homepage': 'http://www.nigeriapolitico.net/', 'notes': None, 'platform': 'online_news', 'stories_per_week': None, 'first_story': None, 'created_at': '2022-12-23T17:43:28.547804Z', 'modified_at': '2022-12-23T17:43:28.547804Z', 'pub_country': 'NGA', 'pub_state': None, 'primary_language': 'en', 'media_type': 'digital_native', 'collection_count': 4}, {'id': 295700, 'name': 'ngex.com', 'url_search_string': None, 'label': 'Nigeria Business Information and facts. Learn about Nigeria. Get information on business addresses, research, taxes, Nigerian go', 'homepage': 'http://ngex.com/', 'notes': None, 'platform': 'online_news', 'stories_per_week': None, 'first_story': None, 'created_at': '2022-12-23T17:43:28.547804Z', 'modified_at': '2022-12-23T17:43:28.547804Z', 'pub_country': 'NGA', 'pub_state': None, 'primary_language': 'en', 'media_type': 'digital_native', 'collection_count': 4}, {'id': 114132, 'name': 'nigeriadailynews.com', 'url_search_string': None, 'label': 'nigeriadailynews.com', 'homepage': 'http://nigeriadailynews.com/', 'notes': None, 'platform': 'online_news', 'stories_per_week': 0, 'first_story': None, 'created_at': '2022-12-23T17:43:28.547804Z', 'modified_at': '2023-01-31T21:28:09.051281Z', 'pub_country': 'NGA', 'pub_state': None, 'primary_language': 'en', 'media_type': 'digital_native', 'collection_count': 4}, {'id': 295701, 'name': 'nigeria70.com', 'url_search_string': None, 'label': \"All the Latest breaking Nigerian News updates in one place ... Nigeria '70\", 'homepage': 'http://www.nigeria70.com/', 'notes': None, 'platform': 'online_news', 'stories_per_week': 0, 'first_story': None, 'created_at': '2022-12-23T17:43:28.547804Z', 'modified_at': '2023-01-31T21:28:17.451393Z', 'pub_country': 'NGA', 'pub_state': None, 'primary_language': 'en', 'media_type': 'digital_native', 'collection_count': 4}, {'id': 295708, 'name': 'nigeriapoliticsonline.com', 'url_search_string': None, 'label': 'Nigeria Politics Online', 'homepage': 'http://nigeriapoliticsonline.com/', 'notes': None, 'platform': 'online_news', 'stories_per_week': 124, 'first_story': None, 'created_at': '2022-12-23T17:43:28.547804Z', 'modified_at': '2024-08-31T13:47:09.416932Z', 'pub_country': 'NGA', 'pub_state': None, 'primary_language': 'en', 'media_type': 'digital_native', 'collection_count': 4}, {'id': 295696, 'name': 'newsbreaknigeria.com', 'url_search_string': None, 'label': 'News Break Nigeria', 'homepage': 'http://newsbreaknigeria.com/', 'notes': None, 'platform': 'online_news', 'stories_per_week': None, 'first_story': None, 'created_at': '2022-12-23T17:43:28.547804Z', 'modified_at': '2022-12-23T17:43:28.547804Z', 'pub_country': 'NGA', 'pub_state': None, 'primary_language': 'en', 'media_type': 'digital_native', 'collection_count': 4}, {'id': 295697, 'name': 'thenews-chronicle.com', 'url_search_string': None, 'label': 'The News Chronicle – We stand for truth, no matter who tells it', 'homepage': 'http://thenews-chronicle.com/', 'notes': None, 'platform': 'online_news', 'stories_per_week': 162, 'first_story': None, 'created_at': '2022-12-23T17:43:28.547804Z', 'modified_at': '2024-08-31T13:47:09.268968Z', 'pub_country': 'NGA', 'pub_state': None, 'primary_language': 'en', 'media_type': 'digital_native', 'collection_count': 4}, {'id': 18056, 'name': 'nigeriancuriosity.com', 'url_search_string': None, 'label': 'Nigerian Curiosity', 'homepage': 'http://www.nigeriancuriosity.com/', 'notes': None, 'platform': 'online_news', 'stories_per_week': 6, 'first_story': None, 'created_at': '2022-12-23T17:43:28.547804Z', 'modified_at': '2024-01-30T08:28:45.797374Z', 'pub_country': None, 'pub_state': None, 'primary_language': None, 'media_type': None, 'collection_count': 4}, {'id': 295695, 'name': 'news247.com.ng', 'url_search_string': None, 'label': 'News247.com.ng:Nigeria News Updated Every Minute', 'homepage': 'http://www.news247.com.ng/', 'notes': None, 'platform': 'online_news', 'stories_per_week': None, 'first_story': None, 'created_at': '2022-12-23T17:43:28.547804Z', 'modified_at': '2022-12-23T17:43:28.547804Z', 'pub_country': 'NGA', 'pub_state': None, 'primary_language': 'en', 'media_type': 'digital_native', 'collection_count': 4}, {'id': 295698, 'name': 'newsday.com.ng', 'url_search_string': None, 'label': 'PAGE — NewsDay', 'homepage': 'http://www.newsday.com.ng/', 'notes': None, 'platform': 'online_news', 'stories_per_week': 163, 'first_story': None, 'created_at': '2022-12-23T17:43:28.547804Z', 'modified_at': '2024-08-31T13:47:09.306009Z', 'pub_country': 'NGA', 'pub_state': None, 'primary_language': 'en', 'media_type': 'digital_native', 'collection_count': 4}, {'id': 17998, 'name': '234next.com', 'url_search_string': None, 'label': '234Next', 'homepage': 'http://234next.com/', 'notes': None, 'platform': 'online_news', 'stories_per_week': None, 'first_story': None, 'created_at': '2022-12-23T17:43:28.547804Z', 'modified_at': '2022-12-23T17:43:28.547804Z', 'pub_country': None, 'pub_state': None, 'primary_language': 'en', 'media_type': None, 'collection_count': 4}, {'id': 18013, 'name': 'newswatchngr.com', 'url_search_string': None, 'label': 'Newswatch', 'homepage': 'http://www.newswatchngr.com/', 'notes': None, 'platform': 'online_news', 'stories_per_week': 0, 'first_story': None, 'created_at': '2022-12-23T17:43:28.547804Z', 'modified_at': '2024-08-31T13:45:46.561873Z', 'pub_country': None, 'pub_state': None, 'primary_language': 'en', 'media_type': None, 'collection_count': 4}, {'id': 295690, 'name': 'naijabizcom.com', 'url_search_string': None, 'label': 'About US - NaijaBizCom.Com', 'homepage': 'http://naijabizcom.com/', 'notes': None, 'platform': 'online_news', 'stories_per_week': 2, 'first_story': None, 'created_at': '2022-12-23T17:43:28.547804Z', 'modified_at': '2024-08-31T13:47:09.109330Z', 'pub_country': 'NGA', 'pub_state': None, 'primary_language': 'en', 'media_type': 'digital_native', 'collection_count': 4}, {'id': 295691, 'name': 'naijalately.com', 'url_search_string': None, 'label': 'naijalately.com', 'homepage': 'http://www.naijalately.com/', 'notes': None, 'platform': 'online_news', 'stories_per_week': 0, 'first_story': None, 'created_at': '2022-12-23T17:43:28.547804Z', 'modified_at': '2023-08-15T06:44:53.977840Z', 'pub_country': 'NGA', 'pub_state': None, 'primary_language': 'en', 'media_type': 'digital_native', 'collection_count': 4}, {'id': 295703, 'name': 'nigeriaintel.com', 'url_search_string': None, 'label': 'Nigeria Intel', 'homepage': 'http://www.nigeriaintel.com/', 'notes': None, 'platform': 'online_news', 'stories_per_week': 0, 'first_story': None, 'created_at': '2022-12-23T17:43:28.547804Z', 'modified_at': '2023-12-01T14:11:07.333571Z', 'pub_country': 'NGA', 'pub_state': None, 'primary_language': None, 'media_type': 'digital_native', 'collection_count': 4}, {'id': 295687, 'name': 'ionigeria.com', 'url_search_string': None, 'label': 'ionigeria.com - Nigerian Newspaper (Online)', 'homepage': 'http://www.ionigeria.com/', 'notes': None, 'platform': 'online_news', 'stories_per_week': 7, 'first_story': None, 'created_at': '2022-12-23T17:43:28.547804Z', 'modified_at': '2024-07-06T18:23:34.316749Z', 'pub_country': 'NGA', 'pub_state': None, 'primary_language': 'en', 'media_type': 'digital_native', 'collection_count': 4}, {'id': 295685, 'name': 'theinfostrides.com', 'url_search_string': None, 'label': 'Breaking News, Celebrity, Sports & Tech Tips - The InfoStride', 'homepage': 'http://www.theinfostrides.com/', 'notes': None, 'platform': 'online_news', 'stories_per_week': 136, 'first_story': None, 'created_at': '2022-12-23T17:43:28.547804Z', 'modified_at': '2024-03-30T11:22:00.532429Z', 'pub_country': 'NGA', 'pub_state': None, 'primary_language': 'en', 'media_type': 'digital_native', 'collection_count': 4}, {'id': 295689, 'name': 'medianigeria.com', 'url_search_string': None, 'label': 'Media Nigeria : News In Nigeria', 'homepage': 'http://www.medianigeria.com/', 'notes': None, 'platform': 'online_news', 'stories_per_week': 2, 'first_story': None, 'created_at': '2022-12-23T17:43:28.547804Z', 'modified_at': '2023-12-01T14:09:53.708178Z', 'pub_country': 'NGA', 'pub_state': None, 'primary_language': 'en', 'media_type': 'digital_native', 'collection_count': 4}, {'id': 295694, 'name': 'news24.com.ng', 'url_search_string': None, 'label': 'News24 Nigeria All the latest National, World, Africa, Sport, Entertainment and Technology News | Nigeria.News24', 'homepage': 'http://www.news24.com.ng/', 'notes': None, 'platform': 'online_news', 'stories_per_week': None, 'first_story': None, 'created_at': '2022-12-23T17:43:28.547804Z', 'modified_at': '2022-12-23T17:43:28.547804Z', 'pub_country': 'NGA', 'pub_state': None, 'primary_language': 'en', 'media_type': 'digital_native', 'collection_count': 4}, {'id': 295699, 'name': 'newsinvestigatorsng.com', 'url_search_string': None, 'label': 'News Investigator – Nigeria', 'homepage': 'http://newsinvestigatorsng.com/', 'notes': None, 'platform': 'online_news', 'stories_per_week': 73, 'first_story': None, 'created_at': '2022-12-23T17:43:28.547804Z', 'modified_at': '2024-08-31T13:47:09.322671Z', 'pub_country': 'NGA', 'pub_state': None, 'primary_language': 'en', 'media_type': 'digital_native', 'collection_count': 4}, {'id': 295709, 'name': 'nigeria-news-world.com', 'url_search_string': None, 'label': 'Nigeria World News - Latest Nigeria News', 'homepage': 'http://www.nigeria-news-world.com/', 'notes': None, 'platform': 'online_news', 'stories_per_week': None, 'first_story': None, 'created_at': '2022-12-23T17:43:28.547804Z', 'modified_at': '2022-12-23T17:43:28.547804Z', 'pub_country': 'NGA', 'pub_state': None, 'primary_language': 'en', 'media_type': 'digital_native', 'collection_count': 4}, {'id': 295676, 'name': 'frontiersnews.com', 'url_search_string': None, 'label': 'Frontiers News | …Unvieling the truth', 'homepage': 'http://www.frontiersnews.com/', 'notes': None, 'platform': 'online_news', 'stories_per_week': None, 'first_story': None, 'created_at': '2022-12-23T17:43:28.547804Z', 'modified_at': '2022-12-23T17:43:28.547804Z', 'pub_country': 'NGA', 'pub_state': None, 'primary_language': 'en', 'media_type': 'digital_native', 'collection_count': 4}, {'id': 18043, 'name': 'blacklooks.org', 'url_search_string': None, 'label': 'Black Looks', 'homepage': 'http://www.blacklooks.org/', 'notes': None, 'platform': 'online_news', 'stories_per_week': None, 'first_story': None, 'created_at': '2022-12-23T17:43:28.547804Z', 'modified_at': '2022-12-23T17:43:28.547804Z', 'pub_country': None, 'pub_state': None, 'primary_language': 'en', 'media_type': None, 'collection_count': 4}, {'id': 295677, 'name': 'gistyinka.net', 'url_search_string': None, 'label': 'GY - Your Vendor for Entertainemnt News, Politics and Music Business', 'homepage': 'http://gistyinka.net/', 'notes': None, 'platform': 'online_news', 'stories_per_week': None, 'first_story': None, 'created_at': '2022-12-23T17:43:28.547804Z', 'modified_at': '2022-12-23T17:43:28.547804Z', 'pub_country': 'NGA', 'pub_state': None, 'primary_language': 'en', 'media_type': 'digital_native', 'collection_count': 4}, {'id': 295671, 'name': 'dailyreviewonline.com.ng', 'url_search_string': None, 'label': 'Daily Review Online | Daily Review Online', 'homepage': 'http://dailyreviewonline.com.ng/', 'notes': None, 'platform': 'online_news', 'stories_per_week': None, 'first_story': None, 'created_at': '2022-12-23T17:43:28.547804Z', 'modified_at': '2022-12-23T17:43:28.547804Z', 'pub_country': 'NGA', 'pub_state': None, 'primary_language': 'en', 'media_type': 'digital_native', 'collection_count': 4}, {'id': 144805, 'name': 'informationng.com', 'url_search_string': None, 'label': 'informationng.com', 'homepage': 'http://informationng.com/', 'notes': None, 'platform': 'online_news', 'stories_per_week': 105, 'first_story': None, 'created_at': '2022-12-23T17:43:28.547804Z', 'modified_at': '2024-08-31T13:45:29.846481Z', 'pub_country': 'NGA', 'pub_state': None, 'primary_language': 'en', 'media_type': 'digital_native', 'collection_count': 4}, {'id': 295672, 'name': 'dailystar.com.ng', 'url_search_string': None, 'label': 'Daily Star Nigeria - Celebrity News & Gossip', 'homepage': 'http://dailystar.com.ng/', 'notes': None, 'platform': 'online_news', 'stories_per_week': 7, 'first_story': None, 'created_at': '2022-12-23T17:43:28.547804Z', 'modified_at': '2024-08-31T13:47:08.938982Z', 'pub_country': 'NGA', 'pub_state': None, 'primary_language': 'en', 'media_type': 'digital_native', 'collection_count': 4}, {'id': 295678, 'name': 'globalvillageextra.com', 'url_search_string': None, 'label': 'Global Village Extra', 'homepage': 'http://globalvillageextra.com/', 'notes': None, 'platform': 'online_news', 'stories_per_week': 223, 'first_story': None, 'created_at': '2022-12-23T17:43:28.547804Z', 'modified_at': '2024-08-31T13:47:09.016422Z', 'pub_country': 'NGA', 'pub_state': None, 'primary_language': 'en', 'media_type': 'digital_native', 'collection_count': 4}, {'id': 295666, 'name': 'bestnaira.com', 'url_search_string': None, 'label': 'Best in Information about Nigeria :: Bestnaira.com', 'homepage': 'http://news.bestnaira.com/', 'notes': None, 'platform': 'online_news', 'stories_per_week': 242, 'first_story': None, 'created_at': '2022-12-23T17:43:28.547804Z', 'modified_at': '2023-09-23T14:42:48.900493Z', 'pub_country': 'NGA', 'pub_state': None, 'primary_language': 'en', 'media_type': 'digital_native', 'collection_count': 4}, {'id': 144526, 'name': 'newsexpressngr.com', 'url_search_string': None, 'label': 'newsexpressngr.com', 'homepage': 'http://newsexpressngr.com/', 'notes': None, 'platform': 'online_news', 'stories_per_week': 0, 'first_story': None, 'created_at': '2022-12-23T17:43:28.547804Z', 'modified_at': '2024-07-06T11:04:21.334393Z', 'pub_country': 'NGA', 'pub_state': None, 'primary_language': 'en', 'media_type': 'digital_native', 'collection_count': 4}, {'id': 295667, 'name': 'bignigeria.com', 'url_search_string': None, 'label': 'BigNigeria.com', 'homepage': 'http://www.bignigeria.com/', 'notes': None, 'platform': 'online_news', 'stories_per_week': None, 'first_story': None, 'created_at': '2022-12-23T17:43:28.547804Z', 'modified_at': '2022-12-23T17:43:28.547804Z', 'pub_country': 'NGA', 'pub_state': None, 'primary_language': 'en', 'media_type': 'digital_native', 'collection_count': 4}, {'id': 58189, 'name': 'nigerianstalk.org', 'url_search_string': None, 'label': 'nigerianstalk.org', 'homepage': 'http://nigerianstalk.org/', 'notes': None, 'platform': 'online_news', 'stories_per_week': None, 'first_story': None, 'created_at': '2022-12-23T17:43:28.547804Z', 'modified_at': '2022-12-23T17:43:28.547804Z', 'pub_country': None, 'pub_state': None, 'primary_language': 'en', 'media_type': None, 'collection_count': 4}, {'id': 295663, 'name': 'radionigeria.gov.ng', 'url_search_string': None, 'label': 'Radio Nigeria Online', 'homepage': 'http://www.radionigeria.gov.ng/', 'notes': None, 'platform': 'online_news', 'stories_per_week': 150, 'first_story': None, 'created_at': '2022-12-23T17:43:28.547804Z', 'modified_at': '2024-04-23T10:16:25.526828Z', 'pub_country': 'NGA', 'pub_state': None, 'primary_language': 'en', 'media_type': 'audio_broadcast', 'collection_count': 4}, {'id': 18019, 'name': 'osundefender.com', 'url_search_string': None, 'label': 'Osun Defender', 'homepage': 'http://www.osundefender.com/', 'notes': None, 'platform': 'online_news', 'stories_per_week': 24, 'first_story': None, 'created_at': '2022-12-23T17:43:28.547804Z', 'modified_at': '2024-08-31T13:45:46.628776Z', 'pub_country': 'NGA', 'pub_state': None, 'primary_language': 'en', 'media_type': 'digital_native', 'collection_count': 4}, {'id': 295664, 'name': '247ureports.com', 'url_search_string': None, 'label': 'Impartial Observers - 247ureports.com', 'homepage': 'http://247ureports.com/', 'notes': None, 'platform': 'online_news', 'stories_per_week': 87, 'first_story': None, 'created_at': '2022-12-23T17:43:28.547804Z', 'modified_at': '2024-08-31T13:47:08.811634Z', 'pub_country': 'NGA', 'pub_state': None, 'primary_language': 'en', 'media_type': 'digital_native', 'collection_count': 4}, {'id': 295668, 'name': 'bizwatchnigeria.ng', 'url_search_string': None, 'label': 'BizWatchNigeria.Ng | All Your Industry News At a Click', 'homepage': 'http://bizwatchnigeria.ng/', 'notes': None, 'platform': 'online_news', 'stories_per_week': 107, 'first_story': None, 'created_at': '2022-12-23T17:43:28.547804Z', 'modified_at': '2024-08-31T13:47:08.868996Z', 'pub_country': 'NGA', 'pub_state': None, 'primary_language': 'en', 'media_type': 'digital_native', 'collection_count': 4}, {'id': 295680, 'name': 'gossipnigeria.com', 'url_search_string': None, 'label': 'Gossip Nigeria Blog .', 'homepage': 'http://www.gossipnigeria.com/', 'notes': None, 'platform': 'online_news', 'stories_per_week': None, 'first_story': None, 'created_at': '2022-12-23T17:43:28.547804Z', 'modified_at': '2022-12-23T17:43:28.547804Z', 'pub_country': 'NGA', 'pub_state': None, 'primary_language': 'en', 'media_type': 'digital_native', 'collection_count': 4}, {'id': 279598, 'name': 'completesportsnigeria.com', 'url_search_string': None, 'label': 'completesportsnigeria.com', 'homepage': 'http://completesportsnigeria.com/', 'notes': None, 'platform': 'online_news', 'stories_per_week': 153, 'first_story': None, 'created_at': '2022-12-23T17:43:28.547804Z', 'modified_at': '2024-08-31T13:45:44.098429Z', 'pub_country': 'NGA', 'pub_state': None, 'primary_language': 'en', 'media_type': 'print_native', 'collection_count': 4}, {'id': 295665, 'name': 'africansearchlight.com', 'url_search_string': None, 'label': 'African SEARCHLIGHT', 'homepage': 'http://africansearchlight.com/', 'notes': None, 'platform': 'online_news', 'stories_per_week': None, 'first_story': None, 'created_at': '2022-12-23T17:43:28.547804Z', 'modified_at': '2022-12-23T17:43:28.547804Z', 'pub_country': 'NGA', 'pub_state': None, 'primary_language': 'en', 'media_type': 'digital_native', 'collection_count': 4}, {'id': 279665, 'name': 'guardian.ng', 'url_search_string': None, 'label': 'guardian.ng', 'homepage': 'https://guardian.ng', 'notes': None, 'platform': 'online_news', 'stories_per_week': None, 'first_story': None, 'created_at': '2022-12-23T17:43:28.547804Z', 'modified_at': '2024-08-31T13:45:44.474539Z', 'pub_country': None, 'pub_state': None, 'primary_language': None, 'media_type': None, 'collection_count': 4}, {'id': 143765, 'name': 'theeagleonline.com.ng', 'url_search_string': None, 'label': 'theeagleonline.com.ng', 'homepage': 'http://theeagleonline.com.ng/', 'notes': None, 'platform': 'online_news', 'stories_per_week': 409, 'first_story': None, 'created_at': '2022-12-23T17:43:28.547804Z', 'modified_at': '2024-08-31T13:45:25.047208Z', 'pub_country': 'NGA', 'pub_state': None, 'primary_language': 'en', 'media_type': 'digital_native', 'collection_count': 4}, {'id': 255997, 'name': 'nigeriasun.com', 'url_search_string': None, 'label': 'nigeriasun.com', 'homepage': 'http://nigeriasun.com/', 'notes': None, 'platform': 'online_news', 'stories_per_week': 39, 'first_story': None, 'created_at': '2022-12-23T17:43:28.547804Z', 'modified_at': '2024-08-31T13:52:58.424756Z', 'pub_country': 'NGA', 'pub_state': None, 'primary_language': 'en', 'media_type': 'digital_native', 'collection_count': 4}, {'id': 295669, 'name': 'businessnews.com.ng', 'url_search_string': None, 'label': 'Nigeria Business News - Latest Business News & News Analysis', 'homepage': 'http://businessnews.com.ng/', 'notes': None, 'platform': 'online_news', 'stories_per_week': 2, 'first_story': None, 'created_at': '2022-12-23T17:43:28.547804Z', 'modified_at': '2024-08-31T13:47:08.889311Z', 'pub_country': 'NGA', 'pub_state': None, 'primary_language': 'en', 'media_type': 'digital_native', 'collection_count': 4}, {'id': 295670, 'name': 'thecitizenng.com', 'url_search_string': None, 'label': \"TheCitizen - Nigeria's Leading Online Newspaper\", 'homepage': 'http://thecitizenng.com/', 'notes': None, 'platform': 'online_news', 'stories_per_week': 7, 'first_story': None, 'created_at': '2022-12-23T17:43:28.547804Z', 'modified_at': '2024-08-31T13:47:08.910588Z', 'pub_country': 'NGA', 'pub_state': None, 'primary_language': 'en', 'media_type': 'digital_native', 'collection_count': 4}, {'id': 145019, 'name': 'nationalmirroronline.net', 'url_search_string': None, 'label': 'nationalmirroronline.net', 'homepage': 'http://nationalmirroronline.net/', 'notes': None, 'platform': 'online_news', 'stories_per_week': None, 'first_story': None, 'created_at': '2022-12-23T17:43:28.547804Z', 'modified_at': '2022-12-23T17:43:28.547804Z', 'pub_country': None, 'pub_state': None, 'primary_language': 'en', 'media_type': None, 'collection_count': 4}, {'id': 145037, 'name': 'cknnigeria.com', 'url_search_string': None, 'label': 'cknnigeria.com', 'homepage': 'http://cknnigeria.com/', 'notes': None, 'platform': 'online_news', 'stories_per_week': 88, 'first_story': None, 'created_at': '2022-12-23T17:43:28.547804Z', 'modified_at': '2024-08-31T13:45:31.154936Z', 'pub_country': 'NGA', 'pub_state': None, 'primary_language': 'en', 'media_type': 'digital_native', 'collection_count': 4}, {'id': 295673, 'name': 'eaglereporters.com', 'url_search_string': None, 'label': 'Breaking news around the world', 'homepage': 'http://eaglereporters.com/', 'notes': None, 'platform': 'online_news', 'stories_per_week': None, 'first_story': None, 'created_at': '2022-12-23T17:43:28.547804Z', 'modified_at': '2022-12-23T17:43:28.547804Z', 'pub_country': 'NGA', 'pub_state': None, 'primary_language': 'en', 'media_type': 'digital_native', 'collection_count': 4}, {'id': 295675, 'name': 'elombah.com', 'url_search_string': None, 'label': 'http://www.elombah.com/', 'homepage': 'http://www.elombah.com/', 'notes': None, 'platform': 'online_news', 'stories_per_week': 3, 'first_story': None, 'created_at': '2022-12-23T17:43:28.547804Z', 'modified_at': '2023-08-15T06:43:52.255584Z', 'pub_country': 'NGA', 'pub_state': None, 'primary_language': 'en', 'media_type': 'digital_native', 'collection_count': 4}, {'id': 143654, 'name': 'thescoopng.com', 'url_search_string': None, 'label': 'thescoopng.com', 'homepage': 'http://thescoopng.com/', 'notes': None, 'platform': 'online_news', 'stories_per_week': None, 'first_story': None, 'created_at': '2022-12-23T17:43:28.547804Z', 'modified_at': '2022-12-23T17:43:28.547804Z', 'pub_country': None, 'pub_state': None, 'primary_language': 'en', 'media_type': None, 'collection_count': 4}, {'id': 18028, 'name': 'thisdayonline.com', 'url_search_string': None, 'label': 'Thisday', 'homepage': 'http://www.thisdayonline.com/', 'notes': None, 'platform': 'online_news', 'stories_per_week': None, 'first_story': None, 'created_at': '2022-12-23T17:43:28.547804Z', 'modified_at': '2022-12-23T17:43:28.547804Z', 'pub_country': None, 'pub_state': None, 'primary_language': 'en', 'media_type': None, 'collection_count': 4}, {'id': 271658, 'name': 'thebiafratimes.co', 'url_search_string': None, 'label': 'The Biafra Times', 'homepage': 'http://www.thebiafratimes.co/', 'notes': None, 'platform': 'online_news', 'stories_per_week': 6, 'first_story': None, 'created_at': '2022-12-23T17:43:28.547804Z', 'modified_at': '2024-08-31T13:45:19.585756Z', 'pub_country': None, 'pub_state': None, 'primary_language': 'en', 'media_type': None, 'collection_count': 4}, {'id': 279730, 'name': 'aproko247.com', 'url_search_string': None, 'label': 'aproko247.com', 'homepage': 'http://aproko247.com/', 'notes': None, 'platform': 'online_news', 'stories_per_week': 2, 'first_story': None, 'created_at': '2022-12-23T17:43:28.547804Z', 'modified_at': '2024-08-31T13:45:44.583183Z', 'pub_country': 'NGA', 'pub_state': None, 'primary_language': 'en', 'media_type': 'digital_native', 'collection_count': 4}, {'id': 18014, 'name': 'nigeriahealthwatch.com', 'url_search_string': None, 'label': 'NigeriaHealthWatch', 'homepage': 'http://www.nigeriahealthwatch.com/', 'notes': None, 'platform': 'online_news', 'stories_per_week': 0, 'first_story': None, 'created_at': '2022-12-23T17:43:28.547804Z', 'modified_at': '2023-01-31T21:27:38.565715Z', 'pub_country': None, 'pub_state': None, 'primary_language': 'en', 'media_type': None, 'collection_count': 4}, {'id': 132797, 'name': 'nigeriaworld.com', 'url_search_string': None, 'label': 'nigeriaworld.com', 'homepage': 'http://nigeriaworld.com/', 'notes': None, 'platform': 'online_news', 'stories_per_week': None, 'first_story': None, 'created_at': '2022-12-23T17:43:28.547804Z', 'modified_at': '2022-12-23T17:43:28.547804Z', 'pub_country': 'NGA', 'pub_state': None, 'primary_language': 'en', 'media_type': 'digital_native', 'collection_count': 4}, {'id': 295696, 'name': 'newsbreaknigeria.com', 'url_search_string': None, 'label': 'News Break Nigeria', 'homepage': 'http://newsbreaknigeria.com/', 'notes': None, 'platform': 'online_news', 'stories_per_week': None, 'first_story': None, 'created_at': '2022-12-23T17:43:28.547804Z', 'modified_at': '2022-12-23T17:43:28.547804Z', 'pub_country': 'NGA', 'pub_state': None, 'primary_language': 'en', 'media_type': 'digital_native', 'collection_count': 4}, {'id': 295695, 'name': 'news247.com.ng', 'url_search_string': None, 'label': 'News247.com.ng:Nigeria News Updated Every Minute', 'homepage': 'http://www.news247.com.ng/', 'notes': None, 'platform': 'online_news', 'stories_per_week': None, 'first_story': None, 'created_at': '2022-12-23T17:43:28.547804Z', 'modified_at': '2022-12-23T17:43:28.547804Z', 'pub_country': 'NGA', 'pub_state': None, 'primary_language': 'en', 'media_type': 'digital_native', 'collection_count': 4}, {'id': 1421588, 'name': 'nigeriastandardnewspaper.com', 'url_search_string': None, 'label': 'nigeriastandardnewspaper.com', 'homepage': 'http://nigeriastandardnewspaper.com/', 'notes': None, 'platform': 'online_news', 'stories_per_week': 4, 'first_story': None, 'created_at': '2022-12-23T17:43:28.547804Z', 'modified_at': '2024-05-05T12:20:45.417824Z', 'pub_country': None, 'pub_state': None, 'primary_language': None, 'media_type': None, 'collection_count': 4}, {'id': 143765, 'name': 'theeagleonline.com.ng', 'url_search_string': None, 'label': 'theeagleonline.com.ng', 'homepage': 'http://theeagleonline.com.ng/', 'notes': None, 'platform': 'online_news', 'stories_per_week': 409, 'first_story': None, 'created_at': '2022-12-23T17:43:28.547804Z', 'modified_at': '2024-08-31T13:45:25.047208Z', 'pub_country': 'NGA', 'pub_state': None, 'primary_language': 'en', 'media_type': 'digital_native', 'collection_count': 4}, {'id': 18056, 'name': 'nigeriancuriosity.com', 'url_search_string': None, 'label': 'Nigerian Curiosity', 'homepage': 'http://www.nigeriancuriosity.com/', 'notes': None, 'platform': 'online_news', 'stories_per_week': 6, 'first_story': None, 'created_at': '2022-12-23T17:43:28.547804Z', 'modified_at': '2024-01-30T08:28:45.797374Z', 'pub_country': None, 'pub_state': None, 'primary_language': None, 'media_type': None, 'collection_count': 4}, {'id': 295690, 'name': 'naijabizcom.com', 'url_search_string': None, 'label': 'About US - NaijaBizCom.Com', 'homepage': 'http://naijabizcom.com/', 'notes': None, 'platform': 'online_news', 'stories_per_week': 2, 'first_story': None, 'created_at': '2022-12-23T17:43:28.547804Z', 'modified_at': '2024-08-31T13:47:09.109330Z', 'pub_country': 'NGA', 'pub_state': None, 'primary_language': 'en', 'media_type': 'digital_native', 'collection_count': 4}, {'id': 295689, 'name': 'medianigeria.com', 'url_search_string': None, 'label': 'Media Nigeria : News In Nigeria', 'homepage': 'http://www.medianigeria.com/', 'notes': None, 'platform': 'online_news', 'stories_per_week': 2, 'first_story': None, 'created_at': '2022-12-23T17:43:28.547804Z', 'modified_at': '2023-12-01T14:09:53.708178Z', 'pub_country': 'NGA', 'pub_state': None, 'primary_language': 'en', 'media_type': 'digital_native', 'collection_count': 4}, {'id': 143654, 'name': 'thescoopng.com', 'url_search_string': None, 'label': 'thescoopng.com', 'homepage': 'http://thescoopng.com/', 'notes': None, 'platform': 'online_news', 'stories_per_week': None, 'first_story': None, 'created_at': '2022-12-23T17:43:28.547804Z', 'modified_at': '2022-12-23T17:43:28.547804Z', 'pub_country': None, 'pub_state': None, 'primary_language': 'en', 'media_type': None, 'collection_count': 4}, {'id': 295680, 'name': 'gossipnigeria.com', 'url_search_string': None, 'label': 'Gossip Nigeria Blog .', 'homepage': 'http://www.gossipnigeria.com/', 'notes': None, 'platform': 'online_news', 'stories_per_week': None, 'first_story': None, 'created_at': '2022-12-23T17:43:28.547804Z', 'modified_at': '2022-12-23T17:43:28.547804Z', 'pub_country': 'NGA', 'pub_state': None, 'primary_language': 'en', 'media_type': 'digital_native', 'collection_count': 4}, {'id': 18028, 'name': 'thisdayonline.com', 'url_search_string': None, 'label': 'Thisday', 'homepage': 'http://www.thisdayonline.com/', 'notes': None, 'platform': 'online_news', 'stories_per_week': None, 'first_story': None, 'created_at': '2022-12-23T17:43:28.547804Z', 'modified_at': '2022-12-23T17:43:28.547804Z', 'pub_country': None, 'pub_state': None, 'primary_language': 'en', 'media_type': None, 'collection_count': 4}, {'id': 1743173, 'name': 'ereporternews.com', 'url_search_string': None, 'label': 'ereporternews.com', 'homepage': 'http://ereporternews.com/', 'notes': None, 'platform': 'online_news', 'stories_per_week': None, 'first_story': None, 'created_at': '2022-12-23T17:43:28.547804Z', 'modified_at': '2022-12-23T17:43:28.547804Z', 'pub_country': None, 'pub_state': None, 'primary_language': None, 'media_type': None, 'collection_count': 4}, {'id': 295677, 'name': 'gistyinka.net', 'url_search_string': None, 'label': 'GY - Your Vendor for Entertainemnt News, Politics and Music Business', 'homepage': 'http://gistyinka.net/', 'notes': None, 'platform': 'online_news', 'stories_per_week': None, 'first_story': None, 'created_at': '2022-12-23T17:43:28.547804Z', 'modified_at': '2022-12-23T17:43:28.547804Z', 'pub_country': 'NGA', 'pub_state': None, 'primary_language': 'en', 'media_type': 'digital_native', 'collection_count': 4}, {'id': 295676, 'name': 'frontiersnews.com', 'url_search_string': None, 'label': 'Frontiers News | …Unvieling the truth', 'homepage': 'http://www.frontiersnews.com/', 'notes': None, 'platform': 'online_news', 'stories_per_week': None, 'first_story': None, 'created_at': '2022-12-23T17:43:28.547804Z', 'modified_at': '2022-12-23T17:43:28.547804Z', 'pub_country': 'NGA', 'pub_state': None, 'primary_language': 'en', 'media_type': 'digital_native', 'collection_count': 4}, {'id': 271658, 'name': 'thebiafratimes.co', 'url_search_string': None, 'label': 'The Biafra Times', 'homepage': 'http://www.thebiafratimes.co/', 'notes': None, 'platform': 'online_news', 'stories_per_week': 6, 'first_story': None, 'created_at': '2022-12-23T17:43:28.547804Z', 'modified_at': '2024-08-31T13:45:19.585756Z', 'pub_country': None, 'pub_state': None, 'primary_language': 'en', 'media_type': None, 'collection_count': 4}, {'id': 295675, 'name': 'elombah.com', 'url_search_string': None, 'label': 'http://www.elombah.com/', 'homepage': 'http://www.elombah.com/', 'notes': None, 'platform': 'online_news', 'stories_per_week': 3, 'first_story': None, 'created_at': '2022-12-23T17:43:28.547804Z', 'modified_at': '2023-08-15T06:43:52.255584Z', 'pub_country': 'NGA', 'pub_state': None, 'primary_language': 'en', 'media_type': 'digital_native', 'collection_count': 4}, {'id': 295672, 'name': 'dailystar.com.ng', 'url_search_string': None, 'label': 'Daily Star Nigeria - Celebrity News & Gossip', 'homepage': 'http://dailystar.com.ng/', 'notes': None, 'platform': 'online_news', 'stories_per_week': 7, 'first_story': None, 'created_at': '2022-12-23T17:43:28.547804Z', 'modified_at': '2024-08-31T13:47:08.938982Z', 'pub_country': 'NGA', 'pub_state': None, 'primary_language': 'en', 'media_type': 'digital_native', 'collection_count': 4}, {'id': 295671, 'name': 'dailyreviewonline.com.ng', 'url_search_string': None, 'label': 'Daily Review Online | Daily Review Online', 'homepage': 'http://dailyreviewonline.com.ng/', 'notes': None, 'platform': 'online_news', 'stories_per_week': None, 'first_story': None, 'created_at': '2022-12-23T17:43:28.547804Z', 'modified_at': '2022-12-23T17:43:28.547804Z', 'pub_country': 'NGA', 'pub_state': None, 'primary_language': 'en', 'media_type': 'digital_native', 'collection_count': 4}, {'id': 295670, 'name': 'thecitizenng.com', 'url_search_string': None, 'label': \"TheCitizen - Nigeria's Leading Online Newspaper\", 'homepage': 'http://thecitizenng.com/', 'notes': None, 'platform': 'online_news', 'stories_per_week': 7, 'first_story': None, 'created_at': '2022-12-23T17:43:28.547804Z', 'modified_at': '2024-08-31T13:47:08.910588Z', 'pub_country': 'NGA', 'pub_state': None, 'primary_language': 'en', 'media_type': 'digital_native', 'collection_count': 4}, {'id': 18014, 'name': 'nigeriahealthwatch.com', 'url_search_string': None, 'label': 'NigeriaHealthWatch', 'homepage': 'http://www.nigeriahealthwatch.com/', 'notes': None, 'platform': 'online_news', 'stories_per_week': 0, 'first_story': None, 'created_at': '2022-12-23T17:43:28.547804Z', 'modified_at': '2023-01-31T21:27:38.565715Z', 'pub_country': None, 'pub_state': None, 'primary_language': 'en', 'media_type': None, 'collection_count': 4}, {'id': 295668, 'name': 'bizwatchnigeria.ng', 'url_search_string': None, 'label': 'BizWatchNigeria.Ng | All Your Industry News At a Click', 'homepage': 'http://bizwatchnigeria.ng/', 'notes': None, 'platform': 'online_news', 'stories_per_week': 107, 'first_story': None, 'created_at': '2022-12-23T17:43:28.547804Z', 'modified_at': '2024-08-31T13:47:08.868996Z', 'pub_country': 'NGA', 'pub_state': None, 'primary_language': 'en', 'media_type': 'digital_native', 'collection_count': 4}, {'id': 295667, 'name': 'bignigeria.com', 'url_search_string': None, 'label': 'BigNigeria.com', 'homepage': 'http://www.bignigeria.com/', 'notes': None, 'platform': 'online_news', 'stories_per_week': None, 'first_story': None, 'created_at': '2022-12-23T17:43:28.547804Z', 'modified_at': '2022-12-23T17:43:28.547804Z', 'pub_country': 'NGA', 'pub_state': None, 'primary_language': 'en', 'media_type': 'digital_native', 'collection_count': 4}, {'id': 295666, 'name': 'bestnaira.com', 'url_search_string': None, 'label': 'Best in Information about Nigeria :: Bestnaira.com', 'homepage': 'http://news.bestnaira.com/', 'notes': None, 'platform': 'online_news', 'stories_per_week': 242, 'first_story': None, 'created_at': '2022-12-23T17:43:28.547804Z', 'modified_at': '2023-09-23T14:42:48.900493Z', 'pub_country': 'NGA', 'pub_state': None, 'primary_language': 'en', 'media_type': 'digital_native', 'collection_count': 4}, {'id': 295664, 'name': '247ureports.com', 'url_search_string': None, 'label': 'Impartial Observers - 247ureports.com', 'homepage': 'http://247ureports.com/', 'notes': None, 'platform': 'online_news', 'stories_per_week': 87, 'first_story': None, 'created_at': '2022-12-23T17:43:28.547804Z', 'modified_at': '2024-08-31T13:47:08.811634Z', 'pub_country': 'NGA', 'pub_state': None, 'primary_language': 'en', 'media_type': 'digital_native', 'collection_count': 4}, {'id': 295663, 'name': 'radionigeria.gov.ng', 'url_search_string': None, 'label': 'Radio Nigeria Online', 'homepage': 'http://www.radionigeria.gov.ng/', 'notes': None, 'platform': 'online_news', 'stories_per_week': 150, 'first_story': None, 'created_at': '2022-12-23T17:43:28.547804Z', 'modified_at': '2024-04-23T10:16:25.526828Z', 'pub_country': 'NGA', 'pub_state': None, 'primary_language': 'en', 'media_type': 'audio_broadcast', 'collection_count': 4}, {'id': 286811, 'name': 'allnigeriasoccer.com', 'url_search_string': None, 'label': 'allnigeriasoccer.com', 'homepage': 'http://allnigeriasoccer.com/', 'notes': None, 'platform': 'online_news', 'stories_per_week': 85, 'first_story': None, 'created_at': '2022-12-23T17:43:28.547804Z', 'modified_at': '2024-08-31T13:46:30.828776Z', 'pub_country': None, 'pub_state': None, 'primary_language': 'en', 'media_type': None, 'collection_count': 4}, {'id': 132797, 'name': 'nigeriaworld.com', 'url_search_string': None, 'label': 'nigeriaworld.com', 'homepage': 'http://nigeriaworld.com/', 'notes': None, 'platform': 'online_news', 'stories_per_week': None, 'first_story': None, 'created_at': '2022-12-23T17:43:28.547804Z', 'modified_at': '2022-12-23T17:43:28.547804Z', 'pub_country': 'NGA', 'pub_state': None, 'primary_language': 'en', 'media_type': 'digital_native', 'collection_count': 4}, {'id': 131653, 'name': 'afbis.com', 'url_search_string': None, 'label': 'afbis.com', 'homepage': 'http://afbis.com/', 'notes': None, 'platform': 'online_news', 'stories_per_week': None, 'first_story': None, 'created_at': '2022-12-23T17:43:28.547804Z', 'modified_at': '2022-12-23T17:43:28.547804Z', 'pub_country': 'NGA', 'pub_state': None, 'primary_language': 'en', 'media_type': 'digital_native', 'collection_count': 4}, {'id': 300686, 'name': 'nigeriamasterweb.com', 'url_search_string': None, 'label': 'Nigeria Masterweb( Webguide to Nigeria, News, Employment, & More )', 'homepage': 'http://www.nigeriamasterweb.com/', 'notes': None, 'platform': 'online_news', 'stories_per_week': 0, 'first_story': None, 'created_at': '2022-12-23T17:43:28.547804Z', 'modified_at': '2024-03-02T12:56:50.427125Z', 'pub_country': None, 'pub_state': None, 'primary_language': 'en', 'media_type': None, 'collection_count': 4}, {'id': 18061, 'name': 'reclaimnaija.net', 'url_search_string': None, 'label': 'ReclaimNaija', 'homepage': 'http://reclaimnaija.net/cms/blog', 'notes': None, 'platform': 'online_news', 'stories_per_week': None, 'first_story': None, 'created_at': '2022-12-23T17:43:28.547804Z', 'modified_at': '2024-01-30T08:29:12.285552Z', 'pub_country': None, 'pub_state': None, 'primary_language': 'en', 'media_type': None, 'collection_count': 3}, {'id': 295772, 'name': 'kwaranews.com', 'url_search_string': None, 'label': 'Latest Kwara News', 'homepage': 'http://www.kwaranews.com/', 'notes': None, 'platform': 'online_news', 'stories_per_week': None, 'first_story': None, 'created_at': '2022-12-23T17:43:28.547804Z', 'modified_at': '2022-12-23T17:43:28.547804Z', 'pub_country': 'NGA', 'pub_state': None, 'primary_language': 'en', 'media_type': 'digital_native', 'collection_count': 3}, {'id': 127960, 'name': 'nigerianobservernews.com', 'url_search_string': None, 'label': 'nigerianobservernews.com', 'homepage': 'http://nigerianobservernews.com/', 'notes': None, 'platform': 'online_news', 'stories_per_week': 111, 'first_story': None, 'created_at': '2022-12-23T17:43:28.547804Z', 'modified_at': '2023-10-08T20:30:22.257919Z', 'pub_country': 'NGA', 'pub_state': None, 'primary_language': 'en', 'media_type': 'print_native', 'collection_count': 3}, {'id': 295775, 'name': 'city1051fm.com', 'url_search_string': None, 'label': 'CITY FM', 'homepage': 'http://city1051fm.com/', 'notes': None, 'platform': 'online_news', 'stories_per_week': 14, 'first_story': None, 'created_at': '2022-12-23T17:43:28.547804Z', 'modified_at': '2024-08-31T13:47:10.411971Z', 'pub_country': 'NGA', 'pub_state': None, 'primary_language': 'en', 'media_type': 'video_broadcast', 'collection_count': 3}, {'id': 279606, 'name': 'africanheraldexpress.com', 'url_search_string': None, 'label': 'africanheraldexpress.com', 'homepage': 'http://africanheraldexpress.com/', 'notes': None, 'platform': 'online_news', 'stories_per_week': 0, 'first_story': None, 'created_at': '2022-12-23T17:43:28.547804Z', 'modified_at': '2023-01-31T21:28:16.020257Z', 'pub_country': 'NGA', 'pub_state': None, 'primary_language': 'en', 'media_type': 'print_native', 'collection_count': 3}, {'id': 18060, 'name': 'eienigeria.org', 'url_search_string': None, 'label': 'EnoughisEnough', 'homepage': 'http://www.eienigeria.org/blog/', 'notes': None, 'platform': 'online_news', 'stories_per_week': 2, 'first_story': None, 'created_at': '2022-12-23T17:43:28.547804Z', 'modified_at': '2024-08-31T13:45:47.319530Z', 'pub_country': 'NGA', 'pub_state': None, 'primary_language': 'en', 'media_type': 'digital_native', 'collection_count': 3}, {'id': 295771, 'name': 'theheraldnews.info', 'url_search_string': None, 'label': ':: The Herald Newspapers ::', 'homepage': 'http://www.theheraldnews.info/', 'notes': None, 'platform': 'online_news', 'stories_per_week': 0, 'first_story': None, 'created_at': '2022-12-23T17:43:28.547804Z', 'modified_at': '2024-07-06T18:29:27.265436Z', 'pub_country': 'NGA', 'pub_state': None, 'primary_language': 'en', 'media_type': 'print_native', 'collection_count': 3}, {'id': 295777, 'name': 'galaxytvonline.com', 'url_search_string': None, 'label': 'Galaxy Television | Welcome to Galaxy Television Online', 'homepage': 'http://www.galaxytvonline.com/', 'notes': None, 'platform': 'online_news', 'stories_per_week': None, 'first_story': None, 'created_at': '2022-12-23T17:43:28.547804Z', 'modified_at': '2022-12-23T17:43:28.547804Z', 'pub_country': 'NGA', 'pub_state': None, 'primary_language': 'en', 'media_type': 'video_broadcast', 'collection_count': 3}, {'id': 271663, 'name': 'theleaderassumpta.com', 'url_search_string': None, 'label': 'The Leader News Online', 'homepage': 'http://theleaderassumpta.com/', 'notes': None, 'platform': 'online_news', 'stories_per_week': None, 'first_story': None, 'created_at': '2022-12-23T17:43:28.547804Z', 'modified_at': '2022-12-23T17:43:28.547804Z', 'pub_country': None, 'pub_state': None, 'primary_language': 'en', 'media_type': None, 'collection_count': 3}, {'id': 119071, 'name': 'dailyindependentnig.com', 'url_search_string': None, 'label': 'dailyindependentnig.com', 'homepage': 'http://dailyindependentnig.com/', 'notes': None, 'platform': 'online_news', 'stories_per_week': 2, 'first_story': None, 'created_at': '2022-12-23T17:43:28.547804Z', 'modified_at': '2023-12-02T18:27:40.447920Z', 'pub_country': 'NGA', 'pub_state': None, 'primary_language': 'en', 'media_type': 'print_native', 'collection_count': 3}, {'id': 271659, 'name': 'may30.org', 'url_search_string': None, 'label': 'may30.org â\\x80\\x93 Optimism: We all got one life to live, lets make use of it to defend our freedom.', 'homepage': 'http://www.may30.org/', 'notes': None, 'platform': 'online_news', 'stories_per_week': None, 'first_story': None, 'created_at': '2022-12-23T17:43:28.547804Z', 'modified_at': '2022-12-23T17:43:28.547804Z', 'pub_country': None, 'pub_state': None, 'primary_language': 'en', 'media_type': None, 'collection_count': 3}, {'id': 18057, 'name': 'naijafeed.com', 'url_search_string': None, 'label': 'Najiafeed', 'homepage': 'http://www.naijafeed.com/', 'notes': None, 'platform': 'online_news', 'stories_per_week': 10, 'first_story': None, 'created_at': '2022-12-23T17:43:28.547804Z', 'modified_at': '2024-08-31T13:45:47.295393Z', 'pub_country': None, 'pub_state': None, 'primary_language': 'en', 'media_type': None, 'collection_count': 3}, {'id': 18059, 'name': 'kunledurojaiye.wordpress.com', 'url_search_string': None, 'label': 'kunledurojaiye', 'homepage': 'http://kunledurojaiye.wordpress.com/', 'notes': None, 'platform': 'online_news', 'stories_per_week': 0, 'first_story': None, 'created_at': '2022-12-23T17:43:28.547804Z', 'modified_at': '2024-03-02T04:36:08.628877Z', 'pub_country': None, 'pub_state': None, 'primary_language': None, 'media_type': None, 'collection_count': 3}, {'id': 295770, 'name': 'kogireports.com', 'url_search_string': None, 'label': 'http://www.kogireports.com/', 'homepage': 'http://www.kogireports.com/', 'notes': None, 'platform': 'online_news', 'stories_per_week': 63, 'first_story': None, 'created_at': '2022-12-23T17:43:28.547804Z', 'modified_at': '2024-08-31T13:47:10.374901Z', 'pub_country': 'NGA', 'pub_state': None, 'primary_language': 'en', 'media_type': 'digital_native', 'collection_count': 3}, {'id': 295778, 'name': 'nationaldailyng.com', 'url_search_string': None, 'label': 'News - National Daily Newspaper', 'homepage': 'http://www.nationaldailyng.com/', 'notes': None, 'platform': 'online_news', 'stories_per_week': 157, 'first_story': None, 'created_at': '2022-12-23T17:43:28.547804Z', 'modified_at': '2024-08-31T13:47:10.462360Z', 'pub_country': 'NGA', 'pub_state': None, 'primary_language': 'en', 'media_type': 'print_native', 'collection_count': 3}, {'id': 244404, 'name': 'theabujainquirer.com', 'url_search_string': None, 'label': 'theabujainquirer.com', 'homepage': 'http://theabujainquirer.com/', 'notes': None, 'platform': 'online_news', 'stories_per_week': 14, 'first_story': None, 'created_at': '2022-12-23T17:43:28.547804Z', 'modified_at': '2024-08-31T13:52:17.626936Z', 'pub_country': 'NGA', 'pub_state': None, 'primary_language': 'en', 'media_type': 'print_native', 'collection_count': 3}, {'id': 66426, 'name': 'tunjisarumi.com', 'url_search_string': None, 'label': 'tunjisarumi.com', 'homepage': 'http://tunjisarumi.com/', 'notes': None, 'platform': 'online_news', 'stories_per_week': None, 'first_story': None, 'created_at': '2022-12-23T17:43:28.547804Z', 'modified_at': '2022-12-23T17:43:28.547804Z', 'pub_country': None, 'pub_state': None, 'primary_language': None, 'media_type': None, 'collection_count': 3}, {'id': 63736, 'name': 'babajidesalu.wordpress.com', 'url_search_string': None, 'label': 'babajidesalu.wordpress.com', 'homepage': 'http://babajidesalu.wordpress.com/', 'notes': None, 'platform': 'online_news', 'stories_per_week': 0, 'first_story': None, 'created_at': '2022-12-23T17:43:28.547804Z', 'modified_at': '2024-03-02T21:18:00.330755Z', 'pub_country': 'NGA', 'pub_state': None, 'primary_language': 'en', 'media_type': 'digital_native', 'collection_count': 3}, {'id': 230151, 'name': 'hallmarknews.com', 'url_search_string': None, 'label': 'hallmarknews.com', 'homepage': 'http://hallmarknews.com/', 'notes': None, 'platform': 'online_news', 'stories_per_week': 124, 'first_story': None, 'created_at': '2022-12-23T17:43:28.547804Z', 'modified_at': '2024-08-31T13:51:25.287792Z', 'pub_country': 'NGA', 'pub_state': None, 'primary_language': 'en', 'media_type': 'print_native', 'collection_count': 3}, {'id': 189734, 'name': 'dailytimes.com.ng', 'url_search_string': None, 'label': 'dailytimes.com.ng', 'homepage': 'http://dailytimes.com.ng/', 'notes': None, 'platform': 'online_news', 'stories_per_week': None, 'first_story': None, 'created_at': '2022-12-23T17:43:28.547804Z', 'modified_at': '2022-12-23T17:43:28.547804Z', 'pub_country': 'NGA', 'pub_state': None, 'primary_language': None, 'media_type': 'print_native', 'collection_count': 3}, {'id': 18020, 'name': 'peoplesdaily-online.com', 'url_search_string': None, 'label': 'Peoples Daily', 'homepage': 'http://www.peoplesdaily-online.com', 'notes': None, 'platform': 'online_news', 'stories_per_week': None, 'first_story': None, 'created_at': '2022-12-23T17:43:28.547804Z', 'modified_at': '2022-12-23T17:43:28.547804Z', 'pub_country': None, 'pub_state': None, 'primary_language': 'en', 'media_type': None, 'collection_count': 3}, {'id': 169969, 'name': 'ebonylifetv.com', 'url_search_string': None, 'label': 'EbonyLife TV', 'homepage': 'http://ebonylifetv.com', 'notes': None, 'platform': 'online_news', 'stories_per_week': 0, 'first_story': None, 'created_at': '2022-12-23T17:43:28.547804Z', 'modified_at': '2023-01-31T21:28:11.322687Z', 'pub_country': None, 'pub_state': None, 'primary_language': 'en', 'media_type': None, 'collection_count': 3}, {'id': 66398, 'name': 'kayodeogundamisi.blogspot.com', 'url_search_string': None, 'label': 'kayodeogundamisi.blogspot.com', 'homepage': 'http://kayodeogundamisi.blogspot.com/', 'notes': None, 'platform': 'online_news', 'stories_per_week': 6, 'first_story': None, 'created_at': '2022-12-23T17:43:28.547804Z', 'modified_at': '2024-08-31T13:49:36.528785Z', 'pub_country': None, 'pub_state': None, 'primary_language': None, 'media_type': None, 'collection_count': 3}, {'id': 169964, 'name': 'tellng.com', 'url_search_string': None, 'label': 'TELL HomePage | TELL Magazine', 'homepage': 'http://www.tellng.com', 'notes': None, 'platform': 'online_news', 'stories_per_week': 4, 'first_story': None, 'created_at': '2022-12-23T17:43:28.547804Z', 'modified_at': '2024-08-31T13:47:30.072576Z', 'pub_country': None, 'pub_state': None, 'primary_language': 'en', 'media_type': None, 'collection_count': 3}, {'id': 169963, 'name': 'nigerianpilot.com', 'url_search_string': None, 'label': 'Nigeria pilot', 'homepage': 'http://www.nigerianpilot.com', 'notes': None, 'platform': 'online_news', 'stories_per_week': 58, 'first_story': None, 'created_at': '2022-12-23T17:43:28.547804Z', 'modified_at': '2024-08-31T13:47:30.054187Z', 'pub_country': None, 'pub_state': None, 'primary_language': 'en', 'media_type': None, 'collection_count': 3}, {'id': 18048, 'name': 'nigerianmuse.com', 'url_search_string': None, 'label': 'Nigerian Muse', 'homepage': 'http://www.nigerianmuse.com/', 'notes': None, 'platform': 'online_news', 'stories_per_week': 0, 'first_story': None, 'created_at': '2022-12-23T17:43:28.547804Z', 'modified_at': '2023-01-31T21:27:38.582990Z', 'pub_country': 'NGA', 'pub_state': None, 'primary_language': 'en', 'media_type': 'digital_native', 'collection_count': 3}, {'id': 18002, 'name': 'coastalnews.com', 'url_search_string': None, 'label': 'Coastal NEWS', 'homepage': 'http://www.coastalnews.com/', 'notes': None, 'platform': 'online_news', 'stories_per_week': None, 'first_story': None, 'created_at': '2022-12-23T17:43:28.547804Z', 'modified_at': '2022-12-23T17:43:28.547804Z', 'pub_country': None, 'pub_state': None, 'primary_language': 'en', 'media_type': None, 'collection_count': 3}, {'id': 169961, 'name': 'dailytimesng.com', 'url_search_string': None, 'label': 'Welcome dailytimesng.com - BlueHost.com', 'homepage': 'http://www.dailytimesng.com', 'notes': None, 'platform': 'online_news', 'stories_per_week': 134, 'first_story': None, 'created_at': '2022-12-23T17:43:28.547804Z', 'modified_at': '2024-08-31T13:47:30.001626Z', 'pub_country': None, 'pub_state': None, 'primary_language': 'en', 'media_type': None, 'collection_count': 3}, {'id': 169960, 'name': 'newswirengr.com', 'url_search_string': None, 'label': 'NewsWireNGR', 'homepage': 'http://www.newswirengr.com', 'notes': None, 'platform': 'online_news', 'stories_per_week': 135, 'first_story': None, 'created_at': '2022-12-23T17:43:28.547804Z', 'modified_at': '2024-08-31T13:47:29.965062Z', 'pub_country': None, 'pub_state': None, 'primary_language': 'en', 'media_type': None, 'collection_count': 3}, {'id': 169958, 'name': 'naijatori.com', 'url_search_string': None, 'label': 'Naija Tori | Nigerian Jokes, Nigerian pidgin English & all things Naija', 'homepage': 'http://naijatori.com/', 'notes': None, 'platform': 'online_news', 'stories_per_week': None, 'first_story': None, 'created_at': '2022-12-23T17:43:28.547804Z', 'modified_at': '2022-12-23T17:43:28.547804Z', 'pub_country': None, 'pub_state': None, 'primary_language': None, 'media_type': None, 'collection_count': 3}, {'id': 62954, 'name': 'chidioparareports.blogspot.com', 'url_search_string': None, 'label': 'chidioparareports.blogspot.com', 'homepage': 'http://chidioparareports.blogspot.com/', 'notes': None, 'platform': 'online_news', 'stories_per_week': 0, 'first_story': None, 'created_at': '2022-12-23T17:43:28.547804Z', 'modified_at': '2024-05-18T06:02:44.455880Z', 'pub_country': None, 'pub_state': None, 'primary_language': 'en', 'media_type': None, 'collection_count': 3}, {'id': 18050, 'name': 'newnigerianpolitics.com', 'url_search_string': None, 'label': 'New Nigerian Politics', 'homepage': 'http://newnigerianpolitics.com/', 'notes': None, 'platform': 'online_news', 'stories_per_week': 153, 'first_story': None, 'created_at': '2022-12-23T17:43:28.547804Z', 'modified_at': '2024-08-31T13:45:47.193539Z', 'pub_country': None, 'pub_state': None, 'primary_language': 'en', 'media_type': None, 'collection_count': 3}, {'id': 295755, 'name': 'theabujatimes.com', 'url_search_string': None, 'label': 'http://theabujatimes.com/', 'homepage': 'http://theabujatimes.com/', 'notes': None, 'platform': 'online_news', 'stories_per_week': 0, 'first_story': None, 'created_at': '2022-12-23T17:43:28.547804Z', 'modified_at': '2023-01-31T21:28:17.487389Z', 'pub_country': 'NGA', 'pub_state': None, 'primary_language': 'en', 'media_type': 'print_native', 'collection_count': 3}, {'id': 295752, 'name': 'edoworld.net', 'url_search_string': None, 'label': 'Edo World: Your Guides To The Ancient Benin Kingdom And Edo State Of Nigeria', 'homepage': 'http://www.edoworld.net/', 'notes': None, 'platform': 'online_news', 'stories_per_week': None, 'first_story': None, 'created_at': '2022-12-23T17:43:28.547804Z', 'modified_at': '2022-12-23T17:43:28.547804Z', 'pub_country': 'NGA', 'pub_state': None, 'primary_language': 'en', 'media_type': 'digital_native', 'collection_count': 3}, {'id': 169957, 'name': 'omojuwa.com', 'url_search_string': None, 'label': 'Omojuwa', 'homepage': 'http://Omojuwa.com', 'notes': None, 'platform': 'online_news', 'stories_per_week': 0, 'first_story': None, 'created_at': '2022-12-23T17:43:28.547804Z', 'modified_at': '2024-02-14T13:02:38.078219Z', 'pub_country': 'NGA', 'pub_state': None, 'primary_language': 'en', 'media_type': 'digital_native', 'collection_count': 3}, {'id': 295750, 'name': 'freshangleng.com', 'url_search_string': None, 'label': 'Fresh Angle News', 'homepage': 'http://www.freshangleng.com/', 'notes': None, 'platform': 'online_news', 'stories_per_week': None, 'first_story': None, 'created_at': '2022-12-23T17:43:28.547804Z', 'modified_at': '2022-12-23T17:43:28.547804Z', 'pub_country': 'NGA', 'pub_state': None, 'primary_language': 'en', 'media_type': 'print_native', 'collection_count': 3}, {'id': 295749, 'name': 'urhobotoday.com', 'url_search_string': None, 'label': 'Urhobo Today', 'homepage': 'http://urhobotoday.com/', 'notes': None, 'platform': 'online_news', 'stories_per_week': 22, 'first_story': None, 'created_at': '2022-12-23T17:43:28.547804Z', 'modified_at': '2024-08-31T13:47:10.067456Z', 'pub_country': 'NGA', 'pub_state': None, 'primary_language': 'en', 'media_type': 'digital_native', 'collection_count': 3}, {'id': 295748, 'name': 'nigerdeltastandard.com', 'url_search_string': None, 'label': 'nigerdeltastandard.com', 'homepage': 'http://www.nigerdeltastandard.com/', 'notes': None, 'platform': 'online_news', 'stories_per_week': None, 'first_story': None, 'created_at': '2022-12-23T17:43:28.547804Z', 'modified_at': '2022-12-23T17:43:28.547804Z', 'pub_country': 'NGA', 'pub_state': None, 'primary_language': 'id', 'media_type': 'print_native', 'collection_count': 3}, {'id': 145567, 'name': 'worldstagegroup.com', 'url_search_string': None, 'label': 'worldstagegroup.com', 'homepage': 'http://worldstagegroup.com/', 'notes': None, 'platform': 'online_news', 'stories_per_week': 84, 'first_story': None, 'created_at': '2022-12-23T17:43:28.547804Z', 'modified_at': '2023-08-26T04:46:38.343574Z', 'pub_country': None, 'pub_state': None, 'primary_language': None, 'media_type': None, 'collection_count': 3}, {'id': 61197, 'name': 'meskelsquare.com', 'url_search_string': None, 'label': 'meskelsquare.com', 'homepage': 'http://meskelsquare.com/', 'notes': None, 'platform': 'online_news', 'stories_per_week': None, 'first_story': None, 'created_at': '2022-12-23T17:43:28.547804Z', 'modified_at': '2022-12-23T17:43:28.547804Z', 'pub_country': None, 'pub_state': None, 'primary_language': None, 'media_type': None, 'collection_count': 3}, {'id': 295780, 'name': 'rc1023.fm', 'url_search_string': None, 'label': 'Radio Continental 102.3FM | The Loudest Conversation', 'homepage': 'http://rc1023.fm/', 'notes': None, 'platform': 'online_news', 'stories_per_week': None, 'first_story': None, 'created_at': '2022-12-23T17:43:28.547804Z', 'modified_at': '2022-12-23T17:43:28.547804Z', 'pub_country': 'NGA', 'pub_state': None, 'primary_language': 'en', 'media_type': 'video_broadcast', 'collection_count': 3}, {'id': 295783, 'name': 'tvcontinental.tv', 'url_search_string': None, 'label': 'TVC E!', 'homepage': 'http://www.tvcontinental.tv/', 'notes': None, 'platform': 'online_news', 'stories_per_week': None, 'first_story': None, 'created_at': '2022-12-23T17:43:28.547804Z', 'modified_at': '2022-12-23T17:43:28.547804Z', 'pub_country': 'NGA', 'pub_state': None, 'primary_language': 'en', 'media_type': 'video_broadcast', 'collection_count': 3}, {'id': 59684, 'name': 'avartsycooking.com', 'url_search_string': None, 'label': 'avartsycooking.com', 'homepage': 'http://avartsycooking.com/', 'notes': None, 'platform': 'online_news', 'stories_per_week': None, 'first_story': None, 'created_at': '2022-12-23T17:43:28.547804Z', 'modified_at': '2022-12-23T17:43:28.547804Z', 'pub_country': None, 'pub_state': None, 'primary_language': None, 'media_type': None, 'collection_count': 3}, {'id': 145072, 'name': 'nigeriafilms.com', 'url_search_string': None, 'label': 'nigeriafilms.com', 'homepage': 'https://www.nigeriafilms.com', 'notes': None, 'platform': 'online_news', 'stories_per_week': 0, 'first_story': None, 'created_at': '2022-12-23T17:43:28.547804Z', 'modified_at': '2023-12-30T22:15:10.168423Z', 'pub_country': None, 'pub_state': None, 'primary_language': 'en', 'media_type': None, 'collection_count': 3}, {'id': 295763, 'name': 'theheartlander.com', 'url_search_string': None, 'label': 'The Heartlander', 'homepage': 'http://www.theheartlander.com/', 'notes': None, 'platform': 'online_news', 'stories_per_week': 9, 'first_story': None, 'created_at': '2022-12-23T17:43:28.547804Z', 'modified_at': '2024-08-31T13:47:10.259265Z', 'pub_country': 'NGA', 'pub_state': None, 'primary_language': 'en', 'media_type': 'digital_native', 'collection_count': 3}, {'id': 295740, 'name': 'akwaibomnewsonline.com', 'url_search_string': None, 'label': 'Akwa Ibom News (AIN) Online - Sitippe Mfin Ke Akwa Ibom Mme Nigeria', 'homepage': 'http://www.akwaibomnewsonline.com/', 'notes': None, 'platform': 'online_news', 'stories_per_week': None, 'first_story': None, 'created_at': '2022-12-23T17:43:28.547804Z', 'modified_at': '2022-12-23T17:43:28.547804Z', 'pub_country': 'NGA', 'pub_state': None, 'primary_language': 'en', 'media_type': 'digital_native', 'collection_count': 3}, {'id': 295762, 'name': 'peoplesdailyng.com', 'url_search_string': None, 'label': 'peoplesdailyng.com', 'homepage': 'https://peoplesdailyng.com', 'notes': None, 'platform': 'online_news', 'stories_per_week': None, 'first_story': None, 'created_at': '2022-12-23T17:43:28.547804Z', 'modified_at': '2023-12-30T22:15:09.025248Z', 'pub_country': 'NGA', 'pub_state': None, 'primary_language': 'en', 'media_type': 'print_native', 'collection_count': 3}, {'id': 295764, 'name': 'imostateblog.com', 'url_search_string': None, 'label': 'IMO STATE BLOG | Political and Social commentaries', 'homepage': 'http://www.imostateblog.com/', 'notes': None, 'platform': 'online_news', 'stories_per_week': 0, 'first_story': None, 'created_at': '2022-12-23T17:43:28.547804Z', 'modified_at': '2024-08-27T14:46:19.714514Z', 'pub_country': 'NGA', 'pub_state': None, 'primary_language': 'en', 'media_type': 'digital_native', 'collection_count': 3}, {'id': 18038, 'name': 'gbengasesan.com', 'url_search_string': None, 'label': 'oro', 'homepage': 'http://www.gbengasesan.com/', 'notes': None, 'platform': 'online_news', 'stories_per_week': None, 'first_story': None, 'created_at': '2022-12-23T17:43:28.547804Z', 'modified_at': '2023-08-15T00:57:27.989756Z', 'pub_country': None, 'pub_state': None, 'primary_language': 'en', 'media_type': None, 'collection_count': 3}, {'id': 59618, 'name': 'gistvillage.com', 'url_search_string': None, 'label': 'gistvillage.com', 'homepage': 'http://gistvillage.com/', 'notes': None, 'platform': 'online_news', 'stories_per_week': None, 'first_story': None, 'created_at': '2022-12-23T17:43:28.547804Z', 'modified_at': '2022-12-23T17:43:28.547804Z', 'pub_country': None, 'pub_state': None, 'primary_language': 'en', 'media_type': None, 'collection_count': 3}, {'id': 18030, 'name': 'nigeriaplus.com', 'url_search_string': None, 'label': 'Nigeria Plus', 'homepage': 'http://www.nigeriaplus.com/', 'notes': None, 'platform': 'online_news', 'stories_per_week': None, 'first_story': None, 'created_at': '2022-12-23T17:43:28.547804Z', 'modified_at': '2022-12-23T17:43:28.547804Z', 'pub_country': None, 'pub_state': None, 'primary_language': 'en', 'media_type': None, 'collection_count': 3}, {'id': 59373, 'name': 'maxsiollun.wordpress.com', 'url_search_string': None, 'label': 'maxsiollun.wordpress.com', 'homepage': 'http://maxsiollun.wordpress.com/', 'notes': None, 'platform': 'online_news', 'stories_per_week': 4, 'first_story': None, 'created_at': '2022-12-23T17:43:28.547804Z', 'modified_at': '2024-08-31T13:49:09.624438Z', 'pub_country': None, 'pub_state': None, 'primary_language': 'en', 'media_type': None, 'collection_count': 3}, {'id': 295761, 'name': 'newsdayngonline.com', 'url_search_string': None, 'label': 'Newsday Nigeria', 'homepage': 'http://newsdayngonline.com/', 'notes': None, 'platform': 'online_news', 'stories_per_week': 0, 'first_story': None, 'created_at': '2022-12-23T17:43:28.547804Z', 'modified_at': '2023-08-15T06:49:50.180463Z', 'pub_country': 'NGA', 'pub_state': None, 'primary_language': 'en', 'media_type': 'print_native', 'collection_count': 3}, {'id': 295765, 'name': 'imotrumpeta.com', 'url_search_string': None, 'label': 'Imo Trumpeta newspaper | VOICE OF THE PEOPLE', 'homepage': 'http://www.imotrumpeta.com/', 'notes': None, 'platform': 'online_news', 'stories_per_week': 23, 'first_story': None, 'created_at': '2022-12-23T17:43:28.547804Z', 'modified_at': '2024-08-31T13:47:10.284048Z', 'pub_country': 'NGA', 'pub_state': None, 'primary_language': 'en', 'media_type': 'digital_native', 'collection_count': 3}, {'id': 144668, 'name': 'ilorin.info', 'url_search_string': None, 'label': 'ilorin.info', 'homepage': 'http://ilorin.info/', 'notes': None, 'platform': 'online_news', 'stories_per_week': None, 'first_story': None, 'created_at': '2022-12-23T17:43:28.547804Z', 'modified_at': '2022-12-23T17:43:28.547804Z', 'pub_country': 'NGA', 'pub_state': None, 'primary_language': 'en', 'media_type': 'digital_native', 'collection_count': 3}, {'id': 59329, 'name': 'femmelounge.org', 'url_search_string': None, 'label': 'femmelounge.org', 'homepage': 'http://femmelounge.org/', 'notes': None, 'platform': 'online_news', 'stories_per_week': None, 'first_story': None, 'created_at': '2022-12-23T17:43:28.547804Z', 'modified_at': '2022-12-23T17:43:28.547804Z', 'pub_country': None, 'pub_state': None, 'primary_language': 'en', 'media_type': None, 'collection_count': 3}, {'id': 59093, 'name': 'loomnie.com', 'url_search_string': None, 'label': 'loomnie.com', 'homepage': 'http://loomnie.com/', 'notes': None, 'platform': 'online_news', 'stories_per_week': 0, 'first_story': None, 'created_at': '2022-12-23T17:43:28.547804Z', 'modified_at': '2023-01-31T21:27:52.640683Z', 'pub_country': None, 'pub_state': None, 'primary_language': 'en', 'media_type': None, 'collection_count': 3}, {'id': 295743, 'name': 'nigerdeltaheraldonline.com', 'url_search_string': None, 'label': 'Niger Delta Herald Newspapers', 'homepage': 'http://www.nigerdeltaheraldonline.com/', 'notes': None, 'platform': 'online_news', 'stories_per_week': None, 'first_story': None, 'created_at': '2022-12-23T17:43:28.547804Z', 'modified_at': '2022-12-23T17:43:28.547804Z', 'pub_country': 'NGA', 'pub_state': None, 'primary_language': 'en', 'media_type': 'print_native', 'collection_count': 3}, {'id': 295744, 'name': 'benuenews.com.ng', 'url_search_string': None, 'label': 'Benue News', 'homepage': 'https://www.benuenews.com.ng/', 'notes': None, 'platform': 'online_news', 'stories_per_week': None, 'first_story': None, 'created_at': '2022-12-23T17:43:28.547804Z', 'modified_at': '2022-12-23T17:43:28.547804Z', 'pub_country': 'NGA', 'pub_state': None, 'primary_language': 'en', 'media_type': 'digital_native', 'collection_count': 3}, {'id': 295745, 'name': 'thenewtimespress.com', 'url_search_string': None, 'label': 'The New Times | Truth is Better that Silver and Gold', 'homepage': 'http://www.thenewtimespress.com/', 'notes': None, 'platform': 'online_news', 'stories_per_week': None, 'first_story': None, 'created_at': '2022-12-23T17:43:28.547804Z', 'modified_at': '2024-04-23T10:22:56.814411Z', 'pub_country': 'NGA', 'pub_state': None, 'primary_language': 'en', 'media_type': 'digital_native', 'collection_count': 3}, {'id': 60901, 'name': 'aderinola.wordpress.com', 'url_search_string': None, 'label': 'aderinola.wordpress.com', 'homepage': 'http://aderinola.wordpress.com/', 'notes': None, 'platform': 'online_news', 'stories_per_week': 0, 'first_story': None, 'created_at': '2022-12-23T17:43:28.547804Z', 'modified_at': '2024-08-31T13:49:14.034203Z', 'pub_country': None, 'pub_state': None, 'primary_language': 'en', 'media_type': None, 'collection_count': 3}, {'id': 295747, 'name': 'thepointernewsonline.com', 'url_search_string': None, 'label': 'http://thepointernewsonline.com/', 'homepage': 'http://thepointernewsonline.com/', 'notes': None, 'platform': 'online_news', 'stories_per_week': 0, 'first_story': None, 'created_at': '2022-12-23T17:43:28.547804Z', 'modified_at': '2024-08-31T13:47:10.031764Z', 'pub_country': 'NGA', 'pub_state': None, 'primary_language': 'en', 'media_type': 'print_native', 'collection_count': 3}, {'id': 144048, 'name': 'icirnigeria.org', 'url_search_string': None, 'label': 'icirnigeria.org', 'homepage': 'http://icirnigeria.org/', 'notes': None, 'platform': 'online_news', 'stories_per_week': 122, 'first_story': None, 'created_at': '2022-12-23T17:43:28.547804Z', 'modified_at': '2024-08-31T13:45:26.181174Z', 'pub_country': 'NGA', 'pub_state': None, 'primary_language': 'en', 'media_type': None, 'collection_count': 3}, {'id': 144033, 'name': '360nobs.com', 'url_search_string': None, 'label': '360nobs.com', 'homepage': 'http://360nobs.com/', 'notes': None, 'platform': 'online_news', 'stories_per_week': None, 'first_story': None, 'created_at': '2022-12-23T17:43:28.547804Z', 'modified_at': '2022-12-23T17:43:28.547804Z', 'pub_country': None, 'pub_state': None, 'primary_language': 'en', 'media_type': None, 'collection_count': 3}, {'id': 58934, 'name': 'kenyanbooks.wordpress.com', 'url_search_string': None, 'label': 'kenyanbooks.wordpress.com', 'homepage': 'http://kenyanbooks.wordpress.com/', 'notes': None, 'platform': 'online_news', 'stories_per_week': 0, 'first_story': None, 'created_at': '2022-12-23T17:43:28.547804Z', 'modified_at': '2024-03-02T20:00:30.871079Z', 'pub_country': None, 'pub_state': None, 'primary_language': None, 'media_type': None, 'collection_count': 3}, {'id': 295751, 'name': 'wpost.co', 'url_search_string': None, 'label': 'Nigeria Information Portal -', 'homepage': 'http://wpost.co/', 'notes': None, 'platform': 'online_news', 'stories_per_week': None, 'first_story': None, 'created_at': '2022-12-23T17:43:28.547804Z', 'modified_at': '2022-12-23T17:43:28.547804Z', 'pub_country': 'NGA', 'pub_state': None, 'primary_language': 'en', 'media_type': 'digital_native', 'collection_count': 3}, {'id': 295781, 'name': 'radionigerialagos.com', 'url_search_string': None, 'label': 'Welcome to the Official Website of Federal Radio Corporation Lagos', 'homepage': 'http://www.radionigerialagos.com/', 'notes': None, 'platform': 'online_news', 'stories_per_week': None, 'first_story': None, 'created_at': '2022-12-23T17:43:28.547804Z', 'modified_at': '2022-12-23T17:43:28.547804Z', 'pub_country': 'NGA', 'pub_state': None, 'primary_language': 'en', 'media_type': 'video_broadcast', 'collection_count': 3}, {'id': 295754, 'name': 'theadvocatengr.com', 'url_search_string': None, 'label': 'The Advocate | …for equity and justice', 'homepage': 'http://theadvocatengr.com/', 'notes': None, 'platform': 'online_news', 'stories_per_week': None, 'first_story': None, 'created_at': '2022-12-23T17:43:28.547804Z', 'modified_at': '2022-12-23T17:43:28.547804Z', 'pub_country': 'NGA', 'pub_state': None, 'primary_language': 'en', 'media_type': 'print_native', 'collection_count': 3}, {'id': 143849, 'name': 'mydailynewswatchng.com', 'url_search_string': None, 'label': 'mydailynewswatchng.com', 'homepage': 'http://mydailynewswatchng.com/', 'notes': None, 'platform': 'online_news', 'stories_per_week': 0, 'first_story': None, 'created_at': '2022-12-23T17:43:28.547804Z', 'modified_at': '2024-08-31T13:45:25.131191Z', 'pub_country': 'NGA', 'pub_state': None, 'primary_language': 'en', 'media_type': 'print_native', 'collection_count': 3}, {'id': 295758, 'name': 'blueprint.ng', 'url_search_string': None, 'label': 'Blueprint - For Truth and Justice', 'homepage': 'http://www.blueprint.ng/', 'notes': None, 'platform': 'online_news', 'stories_per_week': 501, 'first_story': None, 'created_at': '2022-12-23T17:43:28.547804Z', 'modified_at': '2024-08-31T13:47:10.194060Z', 'pub_country': 'NGA', 'pub_state': None, 'primary_language': 'en', 'media_type': 'print_native', 'collection_count': 3}, {'id': 143843, 'name': 'thetrentonline.com', 'url_search_string': None, 'label': 'thetrentonline.com', 'homepage': 'http://thetrentonline.com/', 'notes': None, 'platform': 'online_news', 'stories_per_week': 87, 'first_story': None, 'created_at': '2022-12-23T17:43:28.547804Z', 'modified_at': '2024-08-31T13:45:25.105371Z', 'pub_country': None, 'pub_state': None, 'primary_language': 'en', 'media_type': None, 'collection_count': 3}, {'id': 57249, 'name': 'ktravula.com', 'url_search_string': None, 'label': 'ktravula.com', 'homepage': 'http://ktravula.com/', 'notes': None, 'platform': 'online_news', 'stories_per_week': 0, 'first_story': None, 'created_at': '2022-12-23T17:43:28.547804Z', 'modified_at': '2024-08-31T13:49:04.463443Z', 'pub_country': None, 'pub_state': None, 'primary_language': 'en', 'media_type': None, 'collection_count': 3}, {'id': 295777, 'name': 'galaxytvonline.com', 'url_search_string': None, 'label': 'Galaxy Television | Welcome to Galaxy Television Online', 'homepage': 'http://www.galaxytvonline.com/', 'notes': None, 'platform': 'online_news', 'stories_per_week': None, 'first_story': None, 'created_at': '2022-12-23T17:43:28.547804Z', 'modified_at': '2022-12-23T17:43:28.547804Z', 'pub_country': 'NGA', 'pub_state': None, 'primary_language': 'en', 'media_type': 'video_broadcast', 'collection_count': 3}, {'id': 295778, 'name': 'nationaldailyng.com', 'url_search_string': None, 'label': 'News - National Daily Newspaper', 'homepage': 'http://www.nationaldailyng.com/', 'notes': None, 'platform': 'online_news', 'stories_per_week': 157, 'first_story': None, 'created_at': '2022-12-23T17:43:28.547804Z', 'modified_at': '2024-08-31T13:47:10.462360Z', 'pub_country': 'NGA', 'pub_state': None, 'primary_language': 'en', 'media_type': 'print_native', 'collection_count': 3}, {'id': 295780, 'name': 'rc1023.fm', 'url_search_string': None, 'label': 'Radio Continental 102.3FM | The Loudest Conversation', 'homepage': 'http://rc1023.fm/', 'notes': None, 'platform': 'online_news', 'stories_per_week': None, 'first_story': None, 'created_at': '2022-12-23T17:43:28.547804Z', 'modified_at': '2022-12-23T17:43:28.547804Z', 'pub_country': 'NGA', 'pub_state': None, 'primary_language': 'en', 'media_type': 'video_broadcast', 'collection_count': 3}, {'id': 295781, 'name': 'radionigerialagos.com', 'url_search_string': None, 'label': 'Welcome to the Official Website of Federal Radio Corporation Lagos', 'homepage': 'http://www.radionigerialagos.com/', 'notes': None, 'platform': 'online_news', 'stories_per_week': None, 'first_story': None, 'created_at': '2022-12-23T17:43:28.547804Z', 'modified_at': '2022-12-23T17:43:28.547804Z', 'pub_country': 'NGA', 'pub_state': None, 'primary_language': 'en', 'media_type': 'video_broadcast', 'collection_count': 3}, {'id': 295782, 'name': 'silverbirdtv.com', 'url_search_string': None, 'label': 'Silverbird Television - Latest News in Nigeria, Politics, Entertainment, Sports & more', 'homepage': 'http://silverbirdtv.com/', 'notes': None, 'platform': 'online_news', 'stories_per_week': 21, 'first_story': None, 'created_at': '2022-12-23T17:43:28.547804Z', 'modified_at': '2024-08-31T13:47:10.520297Z', 'pub_country': 'NGA', 'pub_state': None, 'primary_language': 'en', 'media_type': 'video_broadcast', 'collection_count': 3}, {'id': 295783, 'name': 'tvcontinental.tv', 'url_search_string': None, 'label': 'TVC E!', 'homepage': 'http://www.tvcontinental.tv/', 'notes': None, 'platform': 'online_news', 'stories_per_week': None, 'first_story': None, 'created_at': '2022-12-23T17:43:28.547804Z', 'modified_at': '2022-12-23T17:43:28.547804Z', 'pub_country': 'NGA', 'pub_state': None, 'primary_language': 'en', 'media_type': 'video_broadcast', 'collection_count': 3}, {'id': 295784, 'name': 'ogtv.com.ng', 'url_search_string': None, 'label': 'Ogun State Television | Official website of the Ogun State Television', 'homepage': 'http://www.ogtv.com.ng/', 'notes': None, 'platform': 'online_news', 'stories_per_week': 42, 'first_story': None, 'created_at': '2022-12-23T17:43:28.547804Z', 'modified_at': '2024-08-31T13:47:10.550969Z', 'pub_country': 'NGA', 'pub_state': None, 'primary_language': 'en', 'media_type': 'video_broadcast', 'collection_count': 3}, {'id': 295785, 'name': 'ondoevents.com', 'url_search_string': None, 'label': 'Ondo Events', 'homepage': 'http://www.ondoevents.com/', 'notes': None, 'platform': 'online_news', 'stories_per_week': 3, 'first_story': None, 'created_at': '2022-12-23T17:43:28.547804Z', 'modified_at': '2023-07-28T11:54:45.039159Z', 'pub_country': 'NGA', 'pub_state': None, 'primary_language': 'en', 'media_type': 'digital_native', 'collection_count': 3}, {'id': 295786, 'name': 'ondonews.com', 'url_search_string': None, 'label': ':: Ondo News, Latest News from Ondo State ::', 'homepage': 'http://www.ondonews.com/', 'notes': None, 'platform': 'online_news', 'stories_per_week': None, 'first_story': None, 'created_at': '2022-12-23T17:43:28.547804Z', 'modified_at': '2022-12-23T17:43:28.547804Z', 'pub_country': 'NGA', 'pub_state': None, 'primary_language': 'en', 'media_type': 'other', 'collection_count': 3}, {'id': 295789, 'name': 'thenewswriterng.com', 'url_search_string': None, 'label': 'The Newswriter | ILLUMINATING HUMANITY WITH THE PEN', 'homepage': 'http://www.thenewswriterng.com/', 'notes': None, 'platform': 'online_news', 'stories_per_week': 0, 'first_story': None, 'created_at': '2022-12-23T17:43:28.547804Z', 'modified_at': '2024-08-31T13:47:10.600128Z', 'pub_country': 'NGA', 'pub_state': None, 'primary_language': 'en', 'media_type': 'print_native', 'collection_count': 3}, {'id': 295790, 'name': 'ph-microscope.com', 'url_search_string': None, 'label': 'Port Harcourt Microscope', 'homepage': 'http://www.ph-microscope.com/', 'notes': None, 'platform': 'online_news', 'stories_per_week': None, 'first_story': None, 'created_at': '2022-12-23T17:43:28.547804Z', 'modified_at': '2022-12-23T17:43:28.547804Z', 'pub_country': 'NGA', 'pub_state': None, 'primary_language': 'en', 'media_type': 'print_native', 'collection_count': 3}, {'id': 295792, 'name': 'thetidenewsonline.com', 'url_search_string': None, 'label': ':::...The Tide News Online:::... | A Commitment to the Truth', 'homepage': 'http://www.thetidenewsonline.com/', 'notes': None, 'platform': 'online_news', 'stories_per_week': 137, 'first_story': None, 'created_at': '2022-12-23T17:43:28.547804Z', 'modified_at': '2024-08-31T13:47:10.631322Z', 'pub_country': 'NGA', 'pub_state': None, 'primary_language': 'en', 'media_type': 'print_native', 'collection_count': 3}, {'id': 300687, 'name': 'africaundisguised.com', 'url_search_string': None, 'label': 'africaundisguised.:- A no-holds-barred unmasking of corruption, ineptness, and predatory leadership in Africa.', 'homepage': 'http://www.africaundisguised.com', 'notes': None, 'platform': 'online_news', 'stories_per_week': None, 'first_story': None, 'created_at': '2022-12-23T17:43:28.547804Z', 'modified_at': '2022-12-23T17:43:28.547804Z', 'pub_country': None, 'pub_state': None, 'primary_language': 'en', 'media_type': None, 'collection_count': 3}, {'id': 301329, 'name': 'infopig.com', 'url_search_string': None, 'label': 'infopig.com', 'homepage': 'http://infopig.com/', 'notes': None, 'platform': 'online_news', 'stories_per_week': 1, 'first_story': None, 'created_at': '2022-12-23T17:43:28.547804Z', 'modified_at': '2024-03-30T13:31:44.679664Z', 'pub_country': None, 'pub_state': None, 'primary_language': None, 'media_type': None, 'collection_count': 3}, {'id': 314111, 'name': 'herald.ng', 'url_search_string': None, 'label': 'herald.ng', 'homepage': 'https://www.herald.ng', 'notes': None, 'platform': 'online_news', 'stories_per_week': None, 'first_story': None, 'created_at': '2022-12-23T17:43:28.547804Z', 'modified_at': '2023-12-30T22:15:09.044633Z', 'pub_country': None, 'pub_state': None, 'primary_language': None, 'media_type': None, 'collection_count': 3}, {'id': 385107, 'name': 'therepublicannews.net', 'url_search_string': None, 'label': 'therepublicannews.net', 'homepage': 'https://therepublicannews.net', 'notes': None, 'platform': 'online_news', 'stories_per_week': None, 'first_story': None, 'created_at': '2022-12-23T17:43:28.547804Z', 'modified_at': '2023-12-30T22:15:10.360127Z', 'pub_country': None, 'pub_state': None, 'primary_language': 'en', 'media_type': None, 'collection_count': 3}, {'id': 558668, 'name': 'yabaleftonline.ng', 'url_search_string': None, 'label': 'yabaleftonline.ng', 'homepage': 'https://www.yabaleftonline.ng', 'notes': None, 'platform': 'online_news', 'stories_per_week': None, 'first_story': None, 'created_at': '2022-12-23T17:43:28.547804Z', 'modified_at': '2023-12-30T22:15:08.876692Z', 'pub_country': None, 'pub_state': None, 'primary_language': None, 'media_type': None, 'collection_count': 3}, {'id': 566464, 'name': 'dailynigerian.com', 'url_search_string': None, 'label': 'dailynigerian.com', 'homepage': 'http://dailynigerian.com/', 'notes': None, 'platform': 'online_news', 'stories_per_week': 175, 'first_story': None, 'created_at': '2022-12-23T17:43:28.547804Z', 'modified_at': '2024-08-31T13:48:24.462997Z', 'pub_country': None, 'pub_state': None, 'primary_language': None, 'media_type': None, 'collection_count': 3}, {'id': 597925, 'name': 'itvradionigeria.com', 'url_search_string': None, 'label': 'itvradionigeria.com', 'homepage': 'http://itvradionigeria.com/', 'notes': None, 'platform': 'online_news', 'stories_per_week': None, 'first_story': None, 'created_at': '2022-12-23T17:43:28.547804Z', 'modified_at': '2022-12-23T17:43:28.547804Z', 'pub_country': None, 'pub_state': None, 'primary_language': None, 'media_type': None, 'collection_count': 3}, {'id': 597947, 'name': 'economicconfidential.com', 'url_search_string': None, 'label': 'economicconfidential.com', 'homepage': 'https://economicconfidential.com', 'notes': None, 'platform': 'online_news', 'stories_per_week': 52, 'first_story': None, 'created_at': '2022-12-23T17:43:28.547804Z', 'modified_at': '2024-08-31T13:50:15.454446Z', 'pub_country': None, 'pub_state': None, 'primary_language': None, 'media_type': None, 'collection_count': 3}, {'id': 706104, 'name': 'radiobiafra.co', 'url_search_string': None, 'label': 'radiobiafra.co', 'homepage': 'https://radiobiafra.co', 'notes': None, 'platform': 'online_news', 'stories_per_week': None, 'first_story': None, 'created_at': '2022-12-23T17:43:28.547804Z', 'modified_at': '2023-12-30T22:15:09.881699Z', 'pub_country': None, 'pub_state': None, 'primary_language': None, 'media_type': None, 'collection_count': 3}, {'id': 767673, 'name': 'nairametrics.com', 'url_search_string': None, 'label': 'Nairametrics', 'homepage': 'http://nairametrics.com/', 'notes': None, 'platform': 'online_news', 'stories_per_week': 201, 'first_story': None, 'created_at': '2022-12-23T17:43:28.547804Z', 'modified_at': '2024-08-31T13:52:14.639810Z', 'pub_country': None, 'pub_state': None, 'primary_language': 'en', 'media_type': None, 'collection_count': 3}, {'id': 930990, 'name': 'legit.ng', 'url_search_string': None, 'label': 'legit.ng', 'homepage': 'http://legit.ng/', 'notes': None, 'platform': 'online_news', 'stories_per_week': 841, 'first_story': None, 'created_at': '2022-12-23T17:43:28.547804Z', 'modified_at': '2024-08-31T13:45:28.572742Z', 'pub_country': 'NGA', 'pub_state': None, 'primary_language': None, 'media_type': None, 'collection_count': 3}, {'id': 978636, 'name': 'newtelegraphng.com', 'url_search_string': None, 'label': 'newtelegraphng.com', 'homepage': 'http://newtelegraphng.com/', 'notes': None, 'platform': 'online_news', 'stories_per_week': None, 'first_story': None, 'created_at': '2022-12-23T17:43:28.547804Z', 'modified_at': '2022-12-23T17:43:28.547804Z', 'pub_country': None, 'pub_state': None, 'primary_language': None, 'media_type': None, 'collection_count': 3}, {'id': 1156513, 'name': 'stearsng.com', 'url_search_string': None, 'label': 'stearsng.com', 'homepage': 'http://stearsng.com/', 'notes': None, 'platform': 'online_news', 'stories_per_week': None, 'first_story': None, 'created_at': '2022-12-23T17:43:28.547804Z', 'modified_at': '2022-12-23T17:43:28.547804Z', 'pub_country': None, 'pub_state': None, 'primary_language': None, 'media_type': None, 'collection_count': 3}, {'id': 1219798, 'name': 'businessday.ng', 'url_search_string': None, 'label': 'businessday.ng', 'homepage': 'https://businessday.ng', 'notes': None, 'platform': 'online_news', 'stories_per_week': None, 'first_story': None, 'created_at': '2022-12-23T17:43:28.547804Z', 'modified_at': '2023-12-30T22:15:08.792154Z', 'pub_country': None, 'pub_state': None, 'primary_language': None, 'media_type': None, 'collection_count': 3}, {'id': 295787, 'name': 'nationalnetworkonline.com', 'url_search_string': None, 'label': 'nationalnetworkonline.com', 'homepage': 'https://www.nationalnetworkonline.com/en/', 'notes': None, 'platform': 'online_news', 'stories_per_week': None, 'first_story': None, 'created_at': '2022-12-23T17:43:28.547804Z', 'modified_at': '2023-12-30T22:15:10.403709Z', 'pub_country': 'NGA', 'pub_state': None, 'primary_language': 'en', 'media_type': 'print_native', 'collection_count': 2}, {'id': 295742, 'name': 'goldenpennewspaper.blogspot.com', 'url_search_string': None, 'label': 'Golden Pen', 'homepage': 'http://goldenpennewspaper.blogspot.com/', 'notes': None, 'platform': 'online_news', 'stories_per_week': 6, 'first_story': None, 'created_at': '2022-12-23T17:43:28.547804Z', 'modified_at': '2024-08-31T13:47:09.982412Z', 'pub_country': 'NGA', 'pub_state': None, 'primary_language': 'en', 'media_type': 'print_native', 'collection_count': 2}, {'id': 305387, 'name': 'libertytvradio.com', 'url_search_string': None, 'label': 'libertytvradio.com', 'homepage': 'https://libertytvradio.com', 'notes': None, 'platform': 'online_news', 'stories_per_week': 16, 'first_story': None, 'created_at': '2022-12-23T17:43:28.547804Z', 'modified_at': '2024-08-31T13:48:28.903831Z', 'pub_country': None, 'pub_state': None, 'primary_language': 'en', 'media_type': None, 'collection_count': 2}, {'id': 1612304, 'name': 'dailytrust.com', 'url_search_string': None, 'label': 'dailytrust.com', 'homepage': 'https://aminiya.dailytrust.com/?fbclid=IwAR1KHLfD6oX77vvs_cPbEr5wJlnMT5HU91_8dyBeRGMCT33VP8f-0UmEFvE', 'notes': None, 'platform': 'online_news', 'stories_per_week': None, 'first_story': None, 'created_at': '2022-12-23T17:43:28.547804Z', 'modified_at': '2024-08-31T13:47:41.563983Z', 'pub_country': None, 'pub_state': None, 'primary_language': None, 'media_type': None, 'collection_count': 2}, {'id': 319145, 'name': 'von.gov.ng', 'url_search_string': None, 'label': 'von.gov.ng', 'homepage': 'http://von.gov.ng/', 'notes': None, 'platform': 'online_news', 'stories_per_week': 433, 'first_story': None, 'created_at': '2022-12-23T17:43:28.547804Z', 'modified_at': '2024-08-31T13:49:03.927289Z', 'pub_country': None, 'pub_state': None, 'primary_language': None, 'media_type': None, 'collection_count': 2}, {'id': 295760, 'name': 'nationalaccordnewspaper.com', 'url_search_string': None, 'label': 'NewsNational Accord Newspaper - … a common bond', 'homepage': 'http://www.nationalaccordnewspaper.com/', 'notes': None, 'platform': 'online_news', 'stories_per_week': None, 'first_story': None, 'created_at': '2022-12-23T17:43:28.547804Z', 'modified_at': '2022-12-23T17:43:28.547804Z', 'pub_country': 'NGA', 'pub_state': None, 'primary_language': 'en', 'media_type': 'print_native', 'collection_count': 2}, {'id': 295746, 'name': 'blanknewsonline.wordpress.com', 'url_search_string': None, 'label': 'Blank NEWS Online', 'homepage': 'http://blanknewsonline.wordpress.com/', 'notes': None, 'platform': 'online_news', 'stories_per_week': 0, 'first_story': None, 'created_at': '2022-12-23T17:43:28.547804Z', 'modified_at': '2024-05-17T20:55:54.769186Z', 'pub_country': 'NGA', 'pub_state': None, 'primary_language': 'en', 'media_type': 'digital_native', 'collection_count': 2}, {'id': 1912095, 'name': 'ofm.ng', 'url_search_string': None, 'label': 'ofm.ng', 'homepage': 'https://ofm.ng/', 'notes': None, 'platform': 'online_news', 'stories_per_week': 0, 'first_story': None, 'created_at': '2023-12-30T22:15:10.526549Z', 'modified_at': '2023-12-30T22:15:10.526565Z', 'pub_country': None, 'pub_state': None, 'primary_language': None, 'media_type': None, 'collection_count': 1}, {'id': 315125, 'name': 'nan.ng', 'url_search_string': None, 'label': 'nan.ng', 'homepage': 'http://nan.ng/', 'notes': None, 'platform': 'online_news', 'stories_per_week': None, 'first_story': None, 'created_at': '2022-12-23T17:43:28.547804Z', 'modified_at': '2022-12-23T17:43:28.547804Z', 'pub_country': 'NGA', 'pub_state': None, 'primary_language': 'en', 'media_type': 'other', 'collection_count': 1}, {'id': 315522, 'name': 'championnews.com.ng', 'url_search_string': None, 'label': 'championnews.com.ng', 'homepage': 'http://championnews.com.ng/', 'notes': None, 'platform': 'online_news', 'stories_per_week': 159, 'first_story': None, 'created_at': '2022-12-23T17:43:28.547804Z', 'modified_at': '2024-08-31T13:48:54.806672Z', 'pub_country': None, 'pub_state': None, 'primary_language': None, 'media_type': None, 'collection_count': 1}, {'id': 316178, 'name': 'thinkersnewsng.com', 'url_search_string': None, 'label': 'thinkersnewsng.com', 'homepage': 'https://www.thinkersnewsng.com', 'notes': None, 'platform': 'online_news', 'stories_per_week': None, 'first_story': None, 'created_at': '2022-12-23T17:43:28.547804Z', 'modified_at': '2023-12-30T22:15:09.608448Z', 'pub_country': None, 'pub_state': None, 'primary_language': None, 'media_type': None, 'collection_count': 1}, {'id': 317343, 'name': 'todayfmlive.com', 'url_search_string': None, 'label': 'todayfmlive.com', 'homepage': 'https://www.todayfmlive.com/', 'notes': None, 'platform': 'online_news', 'stories_per_week': None, 'first_story': None, 'created_at': '2022-12-23T17:43:28.547804Z', 'modified_at': '2023-12-30T22:15:10.624743Z', 'pub_country': None, 'pub_state': None, 'primary_language': None, 'media_type': None, 'collection_count': 1}, {'id': 320284, 'name': 'ripplesnigeria.com', 'url_search_string': None, 'label': 'ripplesnigeria.com', 'homepage': 'http://ripplesnigeria.com/', 'notes': None, 'platform': 'online_news', 'stories_per_week': 300, 'first_story': None, 'created_at': '2022-12-23T17:43:28.547804Z', 'modified_at': '2024-08-31T13:49:06.646043Z', 'pub_country': None, 'pub_state': None, 'primary_language': None, 'media_type': None, 'collection_count': 1}, {'id': 320588, 'name': 'lagostalks.com', 'url_search_string': None, 'label': 'lagostalks.com', 'homepage': 'https://www.lagostalks.com/', 'notes': None, 'platform': 'online_news', 'stories_per_week': None, 'first_story': None, 'created_at': '2022-12-23T17:43:28.547804Z', 'modified_at': '2023-12-30T22:15:09.512022Z', 'pub_country': None, 'pub_state': None, 'primary_language': None, 'media_type': None, 'collection_count': 1}, {'id': 325430, 'name': 'nigerianewspaper.com.ng', 'url_search_string': None, 'label': 'nigerianewspaper.com.ng', 'homepage': 'https://www.nigerianewspaper.com.ng', 'notes': None, 'platform': 'online_news', 'stories_per_week': None, 'first_story': None, 'created_at': '2022-12-23T17:43:28.547804Z', 'modified_at': '2023-12-30T22:15:09.810270Z', 'pub_country': None, 'pub_state': None, 'primary_language': None, 'media_type': None, 'collection_count': 1}, {'id': 326849, 'name': 'nta.ng', 'url_search_string': None, 'label': 'nta.ng', 'homepage': 'http://nta.ng/', 'notes': None, 'platform': 'online_news', 'stories_per_week': 4, 'first_story': None, 'created_at': '2022-12-23T17:43:28.547804Z', 'modified_at': '2024-08-31T13:49:30.433685Z', 'pub_country': None, 'pub_state': None, 'primary_language': None, 'media_type': None, 'collection_count': 1}, {'id': 327205, 'name': 'thebiafratelegraph.co', 'url_search_string': None, 'label': 'thebiafratelegraph.co', 'homepage': 'http://www.thebiafratelegraph.co', 'notes': None, 'platform': 'online_news', 'stories_per_week': None, 'first_story': None, 'created_at': '2022-12-23T17:43:28.547804Z', 'modified_at': '2023-12-30T22:15:10.699722Z', 'pub_country': None, 'pub_state': None, 'primary_language': None, 'media_type': None, 'collection_count': 1}, {'id': 332327, 'name': 'nigeriannewsdirect.com', 'url_search_string': None, 'label': 'nigeriannewsdirect.com', 'homepage': 'https://nigeriannewsdirect.com', 'notes': None, 'platform': 'online_news', 'stories_per_week': None, 'first_story': None, 'created_at': '2022-12-23T17:43:28.547804Z', 'modified_at': '2023-12-30T22:15:08.812621Z', 'pub_country': None, 'pub_state': None, 'primary_language': None, 'media_type': None, 'collection_count': 1}, {'id': 332876, 'name': 'newsofnigeria.com', 'url_search_string': None, 'label': 'newsofnigeria.com', 'homepage': 'https://newsofnigeria.com', 'notes': None, 'platform': 'online_news', 'stories_per_week': None, 'first_story': None, 'created_at': '2022-12-23T17:43:28.547804Z', 'modified_at': '2023-12-30T22:15:10.160649Z', 'pub_country': None, 'pub_state': None, 'primary_language': None, 'media_type': None, 'collection_count': 1}, {'id': 333508, 'name': 'planet101fm.ng', 'url_search_string': None, 'label': 'planet101fm.ng', 'homepage': 'http://planet101fm.ng/', 'notes': None, 'platform': 'online_news', 'stories_per_week': None, 'first_story': None, 'created_at': '2022-12-23T17:43:28.547804Z', 'modified_at': '2023-12-30T22:15:09.702520Z', 'pub_country': None, 'pub_state': None, 'primary_language': None, 'media_type': None, 'collection_count': 1}, {'id': 144965, 'name': 'naijalog.com', 'url_search_string': None, 'label': 'naijalog.com', 'homepage': 'https://naijalog.com/', 'notes': None, 'platform': 'online_news', 'stories_per_week': None, 'first_story': None, 'created_at': '2022-12-23T17:43:28.547804Z', 'modified_at': '2023-12-30T22:15:09.166632Z', 'pub_country': None, 'pub_state': None, 'primary_language': None, 'media_type': None, 'collection_count': 1}, {'id': 341955, 'name': 'naijagists.com', 'url_search_string': None, 'label': 'naijagists.com', 'homepage': 'https://naijagists.com', 'notes': None, 'platform': 'online_news', 'stories_per_week': None, 'first_story': None, 'created_at': '2022-12-23T17:43:28.547804Z', 'modified_at': '2023-12-30T22:15:10.043739Z', 'pub_country': None, 'pub_state': None, 'primary_language': None, 'media_type': None, 'collection_count': 1}, {'id': 351617, 'name': 'gossipmill.com', 'url_search_string': None, 'label': 'gossipmill.com', 'homepage': 'http://www.gossipmill.com', 'notes': None, 'platform': 'online_news', 'stories_per_week': None, 'first_story': None, 'created_at': '2022-12-23T17:43:28.547804Z', 'modified_at': '2023-12-30T22:15:10.176319Z', 'pub_country': None, 'pub_state': None, 'primary_language': None, 'media_type': None, 'collection_count': 1}, {'id': 352032, 'name': 'metrowatchonline.com', 'url_search_string': None, 'label': 'metrowatchonline.com', 'homepage': 'https://metrowatchonline.com', 'notes': None, 'platform': 'online_news', 'stories_per_week': None, 'first_story': None, 'created_at': '2022-12-23T17:43:28.547804Z', 'modified_at': '2023-12-30T22:15:09.475247Z', 'pub_country': None, 'pub_state': None, 'primary_language': None, 'media_type': None, 'collection_count': 1}, {'id': 144931, 'name': 'gistmania.com', 'url_search_string': None, 'label': 'gistmania.com', 'homepage': 'http://gistmania.com/', 'notes': None, 'platform': 'online_news', 'stories_per_week': 474, 'first_story': None, 'created_at': '2022-12-23T17:43:28.547804Z', 'modified_at': '2024-08-31T13:45:30.692539Z', 'pub_country': None, 'pub_state': None, 'primary_language': None, 'media_type': None, 'collection_count': 1}, {'id': 366454, 'name': 'igberetvnews.com', 'url_search_string': None, 'label': 'igberetvnews.com', 'homepage': 'https://igberetvnews.com/#forward', 'notes': None, 'platform': 'online_news', 'stories_per_week': None, 'first_story': None, 'created_at': '2022-12-23T17:43:28.547804Z', 'modified_at': '2023-12-30T22:15:08.978695Z', 'pub_country': None, 'pub_state': None, 'primary_language': None, 'media_type': None, 'collection_count': 1}, {'id': 368527, 'name': 'dailytimes.ng', 'url_search_string': None, 'label': 'dailytimes.ng', 'homepage': 'http://dailytimes.ng/', 'notes': None, 'platform': 'online_news', 'stories_per_week': None, 'first_story': None, 'created_at': '2022-12-23T17:43:28.547804Z', 'modified_at': '2022-12-23T17:43:28.547804Z', 'pub_country': None, 'pub_state': None, 'primary_language': None, 'media_type': None, 'collection_count': 1}, {'id': 372307, 'name': 'osundefender.com', 'url_search_string': None, 'label': 'osundefender.com', 'homepage': 'http://www.osundefender.com', 'notes': None, 'platform': 'online_news', 'stories_per_week': None, 'first_story': None, 'created_at': '2022-12-23T17:43:28.547804Z', 'modified_at': '2023-12-30T22:15:09.255406Z', 'pub_country': None, 'pub_state': None, 'primary_language': None, 'media_type': None, 'collection_count': 1}, {'id': 144741, 'name': 'sundiatapost.com', 'url_search_string': None, 'label': 'sundiatapost.com', 'homepage': 'https://sundiatapost.com', 'notes': None, 'platform': 'online_news', 'stories_per_week': None, 'first_story': None, 'created_at': '2022-12-23T17:43:28.547804Z', 'modified_at': '2023-12-30T22:15:08.866929Z', 'pub_country': None, 'pub_state': None, 'primary_language': None, 'media_type': None, 'collection_count': 1}, {'id': 1912096, 'name': 'tntradiogroup.com', 'url_search_string': None, 'label': 'tntradiogroup.com', 'homepage': 'https://tntradiogroup.com/', 'notes': None, 'platform': 'online_news', 'stories_per_week': 0, 'first_story': None, 'created_at': '2023-12-30T22:15:10.538356Z', 'modified_at': '2023-12-30T22:15:10.538372Z', 'pub_country': None, 'pub_state': None, 'primary_language': None, 'media_type': None, 'collection_count': 1}, {'id': 408421, 'name': 'nigeriagalleria.com', 'url_search_string': None, 'label': 'nigeriagalleria.com', 'homepage': 'https://nigeriagalleria.com', 'notes': None, 'platform': 'online_news', 'stories_per_week': None, 'first_story': None, 'created_at': '2022-12-23T17:43:28.547804Z', 'modified_at': '2023-12-30T22:15:09.372706Z', 'pub_country': None, 'pub_state': None, 'primary_language': None, 'media_type': None, 'collection_count': 1}, {'id': 462625, 'name': 'urban96.fm', 'url_search_string': None, 'label': 'urban96.fm', 'homepage': 'https://urban96.fm/', 'notes': None, 'platform': 'online_news', 'stories_per_week': None, 'first_story': None, 'created_at': '2022-12-23T17:43:28.547804Z', 'modified_at': '2023-12-30T22:15:10.013622Z', 'pub_country': None, 'pub_state': None, 'primary_language': None, 'media_type': None, 'collection_count': 1}, {'id': 557036, 'name': 'eyewitness101.com', 'url_search_string': None, 'label': 'eyewitness101.com', 'homepage': 'https://eyewitness101.com', 'notes': None, 'platform': 'online_news', 'stories_per_week': None, 'first_story': None, 'created_at': '2022-12-23T17:43:28.547804Z', 'modified_at': '2023-12-30T22:15:10.216610Z', 'pub_country': None, 'pub_state': None, 'primary_language': None, 'media_type': None, 'collection_count': 1}, {'id': 557313, 'name': 'rhythm937.com', 'url_search_string': None, 'label': 'rhythm937.com', 'homepage': 'http://rhythm937.com/', 'notes': None, 'platform': 'online_news', 'stories_per_week': None, 'first_story': None, 'created_at': '2022-12-23T17:43:28.547804Z', 'modified_at': '2022-12-23T17:43:28.547804Z', 'pub_country': None, 'pub_state': None, 'primary_language': None, 'media_type': None, 'collection_count': 1}, {'id': 558461, 'name': 'gistlover.com', 'url_search_string': None, 'label': 'gistlover.com', 'homepage': 'https://www.gistlover.com', 'notes': None, 'platform': 'online_news', 'stories_per_week': None, 'first_story': None, 'created_at': '2022-12-23T17:43:28.547804Z', 'modified_at': '2023-12-30T22:15:08.886812Z', 'pub_country': None, 'pub_state': None, 'primary_language': None, 'media_type': None, 'collection_count': 1}, {'id': 1912097, 'name': 'okinfm.com', 'url_search_string': None, 'label': 'okinfm.com', 'homepage': 'https://www.okinfm.com/', 'notes': None, 'platform': 'online_news', 'stories_per_week': 0, 'first_story': None, 'created_at': '2023-12-30T22:15:10.550192Z', 'modified_at': '2023-12-30T22:15:10.550209Z', 'pub_country': None, 'pub_state': None, 'primary_language': None, 'media_type': None, 'collection_count': 1}, {'id': 560084, 'name': 'africaprimenews.com', 'url_search_string': None, 'label': 'africaprimenews.com', 'homepage': 'https://africaprimenews.com', 'notes': None, 'platform': 'online_news', 'stories_per_week': None, 'first_story': None, 'created_at': '2022-12-23T17:43:28.547804Z', 'modified_at': '2023-12-30T22:15:09.381621Z', 'pub_country': None, 'pub_state': None, 'primary_language': None, 'media_type': None, 'collection_count': 1}, {'id': 562644, 'name': 'fadfm.com', 'url_search_string': None, 'label': 'fadfm.com', 'homepage': 'https://fadfm.com/', 'notes': None, 'platform': 'online_news', 'stories_per_week': None, 'first_story': None, 'created_at': '2022-12-23T17:43:28.547804Z', 'modified_at': '2023-12-30T22:15:09.783978Z', 'pub_country': None, 'pub_state': None, 'primary_language': None, 'media_type': None, 'collection_count': 1}, {'id': 563614, 'name': 'ijebuloaded.com', 'url_search_string': None, 'label': 'ijebuloaded.com', 'homepage': 'https://ijebuloaded.com', 'notes': None, 'platform': 'online_news', 'stories_per_week': None, 'first_story': None, 'created_at': '2022-12-23T17:43:28.547804Z', 'modified_at': '2023-12-30T22:15:10.065549Z', 'pub_country': None, 'pub_state': None, 'primary_language': None, 'media_type': None, 'collection_count': 1}, {'id': 1912098, 'name': 'rootsfm9jah.com', 'url_search_string': None, 'label': 'rootsfm9jah.com', 'homepage': 'https://rootsfm9jah.com/', 'notes': None, 'platform': 'online_news', 'stories_per_week': 0, 'first_story': None, 'created_at': '2023-12-30T22:15:10.579062Z', 'modified_at': '2023-12-30T22:15:10.579079Z', 'pub_country': None, 'pub_state': None, 'primary_language': None, 'media_type': None, 'collection_count': 1}, {'id': 567106, 'name': 'dentonnewspaper.com', 'url_search_string': None, 'label': 'dentonnewspaper.com', 'homepage': 'https://www.dentonnewspaper.com', 'notes': None, 'platform': 'online_news', 'stories_per_week': None, 'first_story': None, 'created_at': '2022-12-23T17:43:28.547804Z', 'modified_at': '2023-12-30T22:15:09.956519Z', 'pub_country': None, 'pub_state': None, 'primary_language': None, 'media_type': None, 'collection_count': 1}, {'id': 567458, 'name': 'nigeriana.news', 'url_search_string': None, 'label': 'nigeriana.news', 'homepage': 'https://nigeriana.news', 'notes': None, 'platform': 'online_news', 'stories_per_week': None, 'first_story': None, 'created_at': '2022-12-23T17:43:28.547804Z', 'modified_at': '2023-12-30T22:15:09.904627Z', 'pub_country': None, 'pub_state': None, 'primary_language': None, 'media_type': None, 'collection_count': 1}, {'id': 591802, 'name': '234radio.com', 'url_search_string': None, 'label': '234radio.com', 'homepage': 'https://234radio.com/', 'notes': None, 'platform': 'online_news', 'stories_per_week': None, 'first_story': None, 'created_at': '2022-12-23T17:43:28.547804Z', 'modified_at': '2023-12-30T22:15:08.761591Z', 'pub_country': None, 'pub_state': None, 'primary_language': None, 'media_type': None, 'collection_count': 1}, {'id': 597924, 'name': 'theinfostride.com', 'url_search_string': None, 'label': 'theinfostride.com', 'homepage': 'https://www.theinfostride.com', 'notes': None, 'platform': 'online_news', 'stories_per_week': None, 'first_story': None, 'created_at': '2022-12-23T17:43:28.547804Z', 'modified_at': '2023-12-30T22:15:10.224614Z', 'pub_country': None, 'pub_state': None, 'primary_language': None, 'media_type': None, 'collection_count': 1}, {'id': 1912099, 'name': 'ondoekichatshow.com', 'url_search_string': None, 'label': 'ondoekichatshow.com', 'homepage': 'https://www.ondoekichatshow.com/', 'notes': None, 'platform': 'online_news', 'stories_per_week': 0, 'first_story': None, 'created_at': '2023-12-30T22:15:10.591232Z', 'modified_at': '2023-12-30T22:15:10.591248Z', 'pub_country': None, 'pub_state': None, 'primary_language': None, 'media_type': None, 'collection_count': 1}, {'id': 1912100, 'name': 'lagelufm.com', 'url_search_string': None, 'label': 'lagelufm.com', 'homepage': 'https://www.lagelufm.com/', 'notes': None, 'platform': 'online_news', 'stories_per_week': 0, 'first_story': None, 'created_at': '2023-12-30T22:15:10.612732Z', 'modified_at': '2023-12-30T22:15:10.612749Z', 'pub_country': None, 'pub_state': None, 'primary_language': None, 'media_type': None, 'collection_count': 1}, {'id': 656986, 'name': 'factualreporters.com', 'url_search_string': None, 'label': 'Factual Reporters', 'homepage': 'http://www.factualreporters.com/', 'notes': None, 'platform': 'online_news', 'stories_per_week': None, 'first_story': None, 'created_at': '2022-12-23T17:43:28.547804Z', 'modified_at': '2022-12-23T17:43:28.547804Z', 'pub_country': 'NGA', 'pub_state': None, 'primary_language': 'en', 'media_type': 'digital_native', 'collection_count': 1}, {'id': 656987, 'name': 'naijaleaks.org', 'url_search_string': None, 'label': 'Naija Leaks', 'homepage': 'http://www.naijaleaks.org/', 'notes': None, 'platform': 'online_news', 'stories_per_week': None, 'first_story': None, 'created_at': '2022-12-23T17:43:28.547804Z', 'modified_at': '2022-12-23T17:43:28.547804Z', 'pub_country': 'NGA', 'pub_state': None, 'primary_language': 'en', 'media_type': 'digital_native', 'collection_count': 1}, {'id': 656989, 'name': 'tell.ng', 'url_search_string': None, 'label': 'Tell', 'homepage': 'https://www.tell.ng/', 'notes': None, 'platform': 'online_news', 'stories_per_week': None, 'first_story': None, 'created_at': '2022-12-23T17:43:28.547804Z', 'modified_at': '2022-12-23T17:43:28.547804Z', 'pub_country': 'NGA', 'pub_state': None, 'primary_language': 'en', 'media_type': 'print_native', 'collection_count': 1}, {'id': 656991, 'name': 'sensornewsonline.com.ng', 'url_search_string': None, 'label': 'Sensor', 'homepage': 'http://www.sensornewsonline.com.ng/', 'notes': None, 'platform': 'online_news', 'stories_per_week': 87, 'first_story': None, 'created_at': '2022-12-23T17:43:28.547804Z', 'modified_at': '2024-08-31T13:43:48.215943Z', 'pub_country': 'NGA', 'pub_state': None, 'primary_language': 'en', 'media_type': 'print_native', 'collection_count': 1}, {'id': 656992, 'name': 'skygatenews.com', 'url_search_string': None, 'label': 'Skygate News', 'homepage': 'http://skygatenews.com/', 'notes': None, 'platform': 'online_news', 'stories_per_week': None, 'first_story': None, 'created_at': '2022-12-23T17:43:28.547804Z', 'modified_at': '2022-12-23T17:43:28.547804Z', 'pub_country': 'NGA', 'pub_state': None, 'primary_language': 'en', 'media_type': 'digital_native', 'collection_count': 1}, {'id': 656993, 'name': 'crossriverwatch.com', 'url_search_string': None, 'label': 'Cross River Watch', 'homepage': 'http://crossriverwatch.com/', 'notes': None, 'platform': 'online_news', 'stories_per_week': 26, 'first_story': None, 'created_at': '2022-12-23T17:43:28.547804Z', 'modified_at': '2024-08-31T13:43:48.252698Z', 'pub_country': 'NGA', 'pub_state': None, 'primary_language': 'en', 'media_type': 'digital_native', 'collection_count': 1}, {'id': 656994, 'name': 'nigerdeltatimes.com', 'url_search_string': None, 'label': 'Niger Delta Times', 'homepage': 'http://www.nigerdeltatimes.com/', 'notes': None, 'platform': 'online_news', 'stories_per_week': None, 'first_story': None, 'created_at': '2022-12-23T17:43:28.547804Z', 'modified_at': '2022-12-23T17:43:28.547804Z', 'pub_country': 'NGA', 'pub_state': None, 'primary_language': 'en', 'media_type': 'digital_native', 'collection_count': 1}, {'id': 656999, 'name': 'newsjournal.com.ng', 'url_search_string': None, 'label': 'News Journal - Nigeria', 'homepage': 'http://www.newsjournal.com.ng/', 'notes': None, 'platform': 'online_news', 'stories_per_week': 0, 'first_story': None, 'created_at': '2022-12-23T17:43:28.547804Z', 'modified_at': '2023-09-03T22:16:55.070924Z', 'pub_country': 'NGA', 'pub_state': None, 'primary_language': 'en', 'media_type': 'print_native', 'collection_count': 1}, {'id': 701113, 'name': 'thebeat99.com', 'url_search_string': None, 'label': 'thebeat99.com', 'homepage': 'https://www.thebeat99.com/', 'notes': None, 'platform': 'online_news', 'stories_per_week': None, 'first_story': None, 'created_at': '2022-12-23T17:43:28.547804Z', 'modified_at': '2023-12-30T22:15:09.792715Z', 'pub_country': None, 'pub_state': None, 'primary_language': None, 'media_type': None, 'collection_count': 1}, {'id': 705791, 'name': 'okay.ng', 'url_search_string': None, 'label': 'okay.ng', 'homepage': 'http://okay.ng/', 'notes': None, 'platform': 'online_news', 'stories_per_week': 63, 'first_story': None, 'created_at': '2022-12-23T17:43:28.547804Z', 'modified_at': '2024-08-31T13:48:47.494873Z', 'pub_country': None, 'pub_state': None, 'primary_language': None, 'media_type': None, 'collection_count': 1}, {'id': 1912101, 'name': 'familylovefm.com', 'url_search_string': None, 'label': 'familylovefm.com', 'homepage': 'http://www.ph.familylovefm.com/', 'notes': None, 'platform': 'online_news', 'stories_per_week': 0, 'first_story': None, 'created_at': '2023-12-30T22:15:10.632856Z', 'modified_at': '2024-03-27T01:09:53.716242Z', 'pub_country': None, 'pub_state': None, 'primary_language': None, 'media_type': None, 'collection_count': 1}, {'id': 1912102, 'name': 'comfort951fm.com', 'url_search_string': None, 'label': 'comfort951fm.com', 'homepage': 'https://comfort951fm.com', 'notes': None, 'platform': 'online_news', 'stories_per_week': 0, 'first_story': None, 'created_at': '2023-12-30T22:15:10.645012Z', 'modified_at': '2024-08-31T13:50:24.708380Z', 'pub_country': None, 'pub_state': None, 'primary_language': None, 'media_type': None, 'collection_count': 1}, {'id': 785858, 'name': 'lailasnews.com', 'url_search_string': None, 'label': 'lailasnews.com', 'homepage': 'https://lailasnews.com', 'notes': None, 'platform': 'online_news', 'stories_per_week': None, 'first_story': None, 'created_at': '2022-12-23T17:43:28.547804Z', 'modified_at': '2023-12-30T22:15:10.233878Z', 'pub_country': None, 'pub_state': None, 'primary_language': None, 'media_type': None, 'collection_count': 1}, {'id': 822819, 'name': 'orangefm.com.ng', 'url_search_string': None, 'label': 'orangefm.com.ng', 'homepage': 'https://www.orangefm.com.ng/', 'notes': None, 'platform': 'online_news', 'stories_per_week': None, 'first_story': None, 'created_at': '2022-12-23T17:43:28.547804Z', 'modified_at': '2023-12-30T22:15:10.603388Z', 'pub_country': None, 'pub_state': None, 'primary_language': None, 'media_type': None, 'collection_count': 1}, {'id': 823088, 'name': 'thepointng.com', 'url_search_string': None, 'label': 'thepointng.com', 'homepage': 'https://www.thepointng.com', 'notes': None, 'platform': 'online_news', 'stories_per_week': None, 'first_story': None, 'created_at': '2022-12-23T17:43:28.547804Z', 'modified_at': '2023-12-30T22:15:08.916000Z', 'pub_country': None, 'pub_state': None, 'primary_language': None, 'media_type': None, 'collection_count': 1}, {'id': 823227, 'name': 'newnigeriannewspaper.com', 'url_search_string': None, 'label': 'newnigeriannewspaper.com', 'homepage': 'http://newnigeriannewspaper.com', 'notes': None, 'platform': 'online_news', 'stories_per_week': None, 'first_story': None, 'created_at': '2022-12-23T17:43:28.547804Z', 'modified_at': '2023-12-30T22:15:08.959421Z', 'pub_country': None, 'pub_state': None, 'primary_language': None, 'media_type': None, 'collection_count': 1}, {'id': 823501, 'name': 'rockcityfmradio.com', 'url_search_string': None, 'label': 'rockcityfmradio.com', 'homepage': 'https://www.rockcityfmradio.com', 'notes': None, 'platform': 'online_news', 'stories_per_week': None, 'first_story': None, 'created_at': '2022-12-23T17:43:28.547804Z', 'modified_at': '2023-12-30T22:15:09.237296Z', 'pub_country': None, 'pub_state': None, 'primary_language': None, 'media_type': None, 'collection_count': 1}, {'id': 835237, 'name': 'covenantuniversity.edu.ng', 'url_search_string': None, 'label': 'covenantuniversity.edu.ng', 'homepage': 'https://hebronfm.covenantuniversity.edu.ng/', 'notes': None, 'platform': 'online_news', 'stories_per_week': None, 'first_story': None, 'created_at': '2022-12-23T17:43:28.547804Z', 'modified_at': '2023-12-30T22:15:10.570721Z', 'pub_country': None, 'pub_state': None, 'primary_language': None, 'media_type': None, 'collection_count': 1}, {'id': 837432, 'name': '36ng.ng', 'url_search_string': None, 'label': '36ng.ng', 'homepage': 'https://www.36ng.ng', 'notes': None, 'platform': 'online_news', 'stories_per_week': None, 'first_story': None, 'created_at': '2022-12-23T17:43:28.547804Z', 'modified_at': '2023-12-30T22:15:09.053854Z', 'pub_country': None, 'pub_state': None, 'primary_language': None, 'media_type': None, 'collection_count': 1}, {'id': 843290, 'name': 'metrodailyng.com', 'url_search_string': None, 'label': 'metrodailyng.com', 'homepage': 'https://metrodailyng.com', 'notes': None, 'platform': 'online_news', 'stories_per_week': None, 'first_story': None, 'created_at': '2022-12-23T17:43:28.547804Z', 'modified_at': '2023-12-30T22:15:08.950228Z', 'pub_country': None, 'pub_state': None, 'primary_language': None, 'media_type': None, 'collection_count': 1}, {'id': 851274, 'name': '234star.com', 'url_search_string': None, 'label': '234star.com', 'homepage': 'https://234star.com', 'notes': None, 'platform': 'online_news', 'stories_per_week': None, 'first_story': None, 'created_at': '2022-12-23T17:43:28.547804Z', 'modified_at': '2023-12-30T22:15:09.846170Z', 'pub_country': None, 'pub_state': None, 'primary_language': None, 'media_type': None, 'collection_count': 1}, {'id': 854218, 'name': 'thepolitico.com.ng', 'url_search_string': None, 'label': 'thepolitico.com.ng', 'homepage': 'http://thepolitico.com.ng', 'notes': None, 'platform': 'online_news', 'stories_per_week': None, 'first_story': None, 'created_at': '2022-12-23T17:43:28.547804Z', 'modified_at': '2023-12-30T22:15:10.184545Z', 'pub_country': None, 'pub_state': None, 'primary_language': None, 'media_type': None, 'collection_count': 1}, {'id': 866503, 'name': 'thenewsroom.ng', 'url_search_string': None, 'label': 'thenewsroom.ng', 'homepage': 'https://www.thenewsroom.ng', 'notes': None, 'platform': 'online_news', 'stories_per_week': None, 'first_story': None, 'created_at': '2022-12-23T17:43:28.547804Z', 'modified_at': '2023-12-30T22:15:10.353076Z', 'pub_country': None, 'pub_state': None, 'primary_language': None, 'media_type': None, 'collection_count': 1}, {'id': 880555, 'name': 'unn.edu.ng', 'url_search_string': None, 'label': 'unn.edu.ng', 'homepage': 'https://lionfm.unn.edu.ng/', 'notes': None, 'platform': 'online_news', 'stories_per_week': None, 'first_story': None, 'created_at': '2022-12-23T17:43:28.547804Z', 'modified_at': '2023-12-30T22:15:10.484442Z', 'pub_country': None, 'pub_state': None, 'primary_language': None, 'media_type': None, 'collection_count': 1}, {'id': 886722, 'name': 'africachinapresscentre.org', 'url_search_string': None, 'label': 'africachinapresscentre.org', 'homepage': 'https://africachinapresscentre.org/', 'notes': None, 'platform': 'online_news', 'stories_per_week': None, 'first_story': None, 'created_at': '2022-12-23T17:43:28.547804Z', 'modified_at': '2023-12-30T22:15:09.544205Z', 'pub_country': None, 'pub_state': None, 'primary_language': None, 'media_type': None, 'collection_count': 1}, {'id': 1912103, 'name': 'defensenigeria.wordpress.com', 'url_search_string': None, 'label': 'defensenigeria.wordpress.com', 'homepage': 'https://defensenigeria.wordpress.com', 'notes': None, 'platform': 'online_news', 'stories_per_week': 0, 'first_story': None, 'created_at': '2023-12-30T22:15:10.665554Z', 'modified_at': '2024-06-19T09:15:45.335790Z', 'pub_country': None, 'pub_state': None, 'primary_language': None, 'media_type': None, 'collection_count': 1}, {'id': 969683, 'name': 'naijapals.com', 'url_search_string': None, 'label': 'naijapals.com', 'homepage': 'https://www.naijapals.com', 'notes': None, 'platform': 'online_news', 'stories_per_week': None, 'first_story': None, 'created_at': '2022-12-23T17:43:28.547804Z', 'modified_at': '2023-12-30T22:15:10.250014Z', 'pub_country': None, 'pub_state': None, 'primary_language': None, 'media_type': None, 'collection_count': 1}, {'id': 970363, 'name': 'lucipost.com', 'url_search_string': None, 'label': 'lucipost.com', 'homepage': 'https://www.lucipost.com', 'notes': None, 'platform': 'online_news', 'stories_per_week': None, 'first_story': None, 'created_at': '2022-12-23T17:43:28.547804Z', 'modified_at': '2023-12-30T22:15:10.242108Z', 'pub_country': None, 'pub_state': None, 'primary_language': None, 'media_type': None, 'collection_count': 1}, {'id': 970914, 'name': 'radiokwara.com', 'url_search_string': None, 'label': 'radiokwara.com', 'homepage': 'http://www.radiokwara.com', 'notes': None, 'platform': 'online_news', 'stories_per_week': None, 'first_story': None, 'created_at': '2022-12-23T17:43:28.547804Z', 'modified_at': '2023-12-30T22:15:10.389903Z', 'pub_country': None, 'pub_state': None, 'primary_language': None, 'media_type': None, 'collection_count': 1}, {'id': 971118, 'name': 'jayfm.ng', 'url_search_string': None, 'label': 'jayfm.ng', 'homepage': 'https://www.jayfm.ng', 'notes': None, 'platform': 'online_news', 'stories_per_week': None, 'first_story': None, 'created_at': '2022-12-23T17:43:28.547804Z', 'modified_at': '2023-12-30T22:15:09.443703Z', 'pub_country': None, 'pub_state': None, 'primary_language': None, 'media_type': None, 'collection_count': 1}, {'id': 1912104, 'name': 'globefmbauchi.com', 'url_search_string': None, 'label': 'globefmbauchi.com', 'homepage': 'https://globefmbauchi.com', 'notes': None, 'platform': 'online_news', 'stories_per_week': 0, 'first_story': None, 'created_at': '2023-12-30T22:15:10.686987Z', 'modified_at': '2023-12-30T22:15:10.687009Z', 'pub_country': None, 'pub_state': None, 'primary_language': None, 'media_type': None, 'collection_count': 1}, {'id': 1023655, 'name': 'insideoyo.com', 'url_search_string': None, 'label': 'insideoyo.com', 'homepage': 'https://www.insideoyo.com', 'notes': None, 'platform': 'online_news', 'stories_per_week': None, 'first_story': None, 'created_at': '2022-12-23T17:43:28.547804Z', 'modified_at': '2023-12-30T22:15:09.218347Z', 'pub_country': None, 'pub_state': None, 'primary_language': None, 'media_type': None, 'collection_count': 1}, {'id': 1127196, 'name': 'brila.net', 'url_search_string': None, 'label': 'brila.net', 'homepage': 'https://www.brila.net', 'notes': None, 'platform': 'online_news', 'stories_per_week': None, 'first_story': None, 'created_at': '2022-12-23T17:43:28.547804Z', 'modified_at': '2023-12-30T22:15:09.106230Z', 'pub_country': None, 'pub_state': None, 'primary_language': None, 'media_type': None, 'collection_count': 1}, {'id': 1155905, 'name': 'completesports.com', 'url_search_string': None, 'label': 'completesports.com', 'homepage': 'https://www.completesports.com', 'notes': None, 'platform': 'online_news', 'stories_per_week': None, 'first_story': None, 'created_at': '2022-12-23T17:43:28.547804Z', 'modified_at': '2023-12-30T22:15:08.905946Z', 'pub_country': None, 'pub_state': None, 'primary_language': None, 'media_type': None, 'collection_count': 1}, {'id': 1912105, 'name': 'uniuyofmnews.wordpress.com', 'url_search_string': None, 'label': 'uniuyofmnews.wordpress.com', 'homepage': 'https://uniuyofmnews.wordpress.com/about/', 'notes': None, 'platform': 'online_news', 'stories_per_week': 0, 'first_story': None, 'created_at': '2023-12-30T22:15:10.708349Z', 'modified_at': '2024-03-27T01:10:20.569081Z', 'pub_country': None, 'pub_state': None, 'primary_language': None, 'media_type': None, 'collection_count': 1}, {'id': 1156745, 'name': 'gistvic.com', 'url_search_string': None, 'label': 'gistvic.com', 'homepage': 'https://www.gistvic.com', 'notes': None, 'platform': 'online_news', 'stories_per_week': None, 'first_story': None, 'created_at': '2022-12-23T17:43:28.547804Z', 'modified_at': '2023-12-30T22:15:09.801352Z', 'pub_country': None, 'pub_state': None, 'primary_language': None, 'media_type': None, 'collection_count': 1}, {'id': 1161113, 'name': 'asaba.com', 'url_search_string': None, 'label': 'asaba.com', 'homepage': 'https://asaba.com', 'notes': None, 'platform': 'online_news', 'stories_per_week': None, 'first_story': None, 'created_at': '2022-12-23T17:43:28.547804Z', 'modified_at': '2023-12-30T22:15:10.372897Z', 'pub_country': None, 'pub_state': None, 'primary_language': None, 'media_type': None, 'collection_count': 1}, {'id': 1179258, 'name': 'soundcity.tv', 'url_search_string': None, 'label': 'soundcity.tv', 'homepage': 'https://soundcity.tv/listenenugu/', 'notes': None, 'platform': 'online_news', 'stories_per_week': None, 'first_story': None, 'created_at': '2022-12-23T17:43:28.547804Z', 'modified_at': '2023-12-30T22:15:09.922949Z', 'pub_country': None, 'pub_state': None, 'primary_language': None, 'media_type': None, 'collection_count': 1}, {'id': 1197146, 'name': 'dailyreviewonline-ng.com', 'url_search_string': None, 'label': 'dailyreviewonline-ng.com', 'homepage': 'https://dailyreviewonline-ng.com', 'notes': None, 'platform': 'online_news', 'stories_per_week': None, 'first_story': None, 'created_at': '2022-12-23T17:43:28.547804Z', 'modified_at': '2023-12-30T22:15:09.138765Z', 'pub_country': None, 'pub_state': None, 'primary_language': None, 'media_type': None, 'collection_count': 1}, {'id': 1219617, 'name': 'thebridgenewsng.com', 'url_search_string': None, 'label': 'thebridgenewsng.com', 'homepage': 'https://www.thebridgenewsng.com', 'notes': None, 'platform': 'online_news', 'stories_per_week': None, 'first_story': None, 'created_at': '2022-12-23T17:43:28.547804Z', 'modified_at': '2023-12-30T22:15:08.988210Z', 'pub_country': None, 'pub_state': None, 'primary_language': None, 'media_type': None, 'collection_count': 1}, {'id': 1912106, 'name': 'kissfm999.media', 'url_search_string': None, 'label': 'kissfm999.media', 'homepage': 'https://kissfm999.media', 'notes': None, 'platform': 'online_news', 'stories_per_week': 0, 'first_story': None, 'created_at': '2023-12-30T22:15:10.721610Z', 'modified_at': '2024-08-31T13:50:24.728837Z', 'pub_country': None, 'pub_state': None, 'primary_language': None, 'media_type': None, 'collection_count': 1}, {'id': 1224713, 'name': 'gyonlineng.com', 'url_search_string': None, 'label': 'gyonlineng.com', 'homepage': 'https://gyonlineng.com', 'notes': None, 'platform': 'online_news', 'stories_per_week': None, 'first_story': None, 'created_at': '2022-12-23T17:43:28.547804Z', 'modified_at': '2023-12-30T22:15:09.766159Z', 'pub_country': None, 'pub_state': None, 'primary_language': None, 'media_type': None, 'collection_count': 1}, {'id': 1228464, 'name': 'ngdailynews.ng', 'url_search_string': None, 'label': 'ngdailynews.ng', 'homepage': 'https://ngdailynews.ng', 'notes': None, 'platform': 'online_news', 'stories_per_week': None, 'first_story': None, 'created_at': '2022-12-23T17:43:28.547804Z', 'modified_at': '2023-12-30T22:15:08.697984Z', 'pub_country': None, 'pub_state': None, 'primary_language': None, 'media_type': None, 'collection_count': 1}, {'id': 1233127, 'name': 'kanyidaily.com', 'url_search_string': None, 'label': 'kanyidaily.com', 'homepage': 'https://www.kanyidaily.com', 'notes': None, 'platform': 'online_news', 'stories_per_week': None, 'first_story': None, 'created_at': '2022-12-23T17:43:28.547804Z', 'modified_at': '2023-12-30T22:15:08.940845Z', 'pub_country': None, 'pub_state': None, 'primary_language': None, 'media_type': None, 'collection_count': 1}, {'id': 1251383, 'name': 'bvichannel1.com', 'url_search_string': None, 'label': 'bvichannel1.com', 'homepage': 'https://www.bvichannel1.com', 'notes': None, 'platform': 'online_news', 'stories_per_week': None, 'first_story': None, 'created_at': '2022-12-23T17:43:28.547804Z', 'modified_at': '2023-12-30T22:15:09.399363Z', 'pub_country': None, 'pub_state': None, 'primary_language': None, 'media_type': None, 'collection_count': 1}, {'id': 1282365, 'name': 'kemifilani.ng', 'url_search_string': None, 'label': 'kemifilani.ng', 'homepage': 'https://www.kemifilani.ng', 'notes': None, 'platform': 'online_news', 'stories_per_week': None, 'first_story': None, 'created_at': '2022-12-23T17:43:28.547804Z', 'modified_at': '2023-12-30T22:15:08.832979Z', 'pub_country': None, 'pub_state': None, 'primary_language': None, 'media_type': None, 'collection_count': 1}, {'id': 1288603, 'name': 'politicsnigeria.com', 'url_search_string': None, 'label': 'politicsnigeria.com', 'homepage': 'https://politicsnigeria.com', 'notes': None, 'platform': 'online_news', 'stories_per_week': None, 'first_story': None, 'created_at': '2022-12-23T17:43:28.547804Z', 'modified_at': '2023-12-30T22:15:08.822501Z', 'pub_country': None, 'pub_state': None, 'primary_language': None, 'media_type': None, 'collection_count': 1}, {'id': 1289214, 'name': 'oyoinsight.com', 'url_search_string': None, 'label': 'oyoinsight.com', 'homepage': 'https://oyoinsight.com', 'notes': None, 'platform': 'online_news', 'stories_per_week': None, 'first_story': None, 'created_at': '2022-12-23T17:43:28.547804Z', 'modified_at': '2023-12-30T22:15:09.287996Z', 'pub_country': None, 'pub_state': None, 'primary_language': None, 'media_type': None, 'collection_count': 1}, {'id': 1313275, 'name': 'lagostelevision.com', 'url_search_string': None, 'label': 'lagostelevision.com', 'homepage': 'https://www.lagostelevision.com', 'notes': None, 'platform': 'online_news', 'stories_per_week': None, 'first_story': None, 'created_at': '2022-12-23T17:43:28.547804Z', 'modified_at': '2023-12-30T22:15:09.743931Z', 'pub_country': None, 'pub_state': None, 'primary_language': None, 'media_type': None, 'collection_count': 1}, {'id': 1345812, 'name': 'puoreports.ng', 'url_search_string': None, 'label': 'puoreports.ng', 'homepage': 'https://puoreports.ng', 'notes': None, 'platform': 'online_news', 'stories_per_week': None, 'first_story': None, 'created_at': '2022-12-23T17:43:28.547804Z', 'modified_at': '2023-12-30T22:15:09.190242Z', 'pub_country': None, 'pub_state': None, 'primary_language': None, 'media_type': None, 'collection_count': 1}, {'id': 1354892, 'name': 'concise.ng', 'url_search_string': None, 'label': 'concise.ng', 'homepage': 'https://www.concise.ng', 'notes': None, 'platform': 'online_news', 'stories_per_week': None, 'first_story': None, 'created_at': '2022-12-23T17:43:28.547804Z', 'modified_at': '2023-12-30T22:15:09.006436Z', 'pub_country': None, 'pub_state': None, 'primary_language': None, 'media_type': None, 'collection_count': 1}, {'id': 1363177, 'name': 'plateaunewsonline.wordpress.com', 'url_search_string': None, 'label': 'plateaunewsonline.wordpress.com', 'homepage': 'https://plateaunewsonline.wordpress.com', 'notes': None, 'platform': 'online_news', 'stories_per_week': None, 'first_story': None, 'created_at': '2022-12-23T17:43:28.547804Z', 'modified_at': '2023-12-30T22:15:09.964949Z', 'pub_country': None, 'pub_state': None, 'primary_language': None, 'media_type': None, 'collection_count': 1}, {'id': 1376508, 'name': 'ait.live', 'url_search_string': None, 'label': 'ait.live', 'homepage': 'http://ait.live/', 'notes': None, 'platform': 'online_news', 'stories_per_week': 100, 'first_story': None, 'created_at': '2022-12-23T17:43:28.547804Z', 'modified_at': '2024-08-31T13:49:34.308511Z', 'pub_country': None, 'pub_state': None, 'primary_language': None, 'media_type': None, 'collection_count': 1}, {'id': 1383979, 'name': 'nigeriainfo.fm', 'url_search_string': None, 'label': 'nigeriainfo.fm', 'homepage': 'https://www.nigeriainfo.fm/', 'notes': None, 'platform': 'online_news', 'stories_per_week': None, 'first_story': None, 'created_at': '2022-12-23T17:43:28.547804Z', 'modified_at': '2023-12-30T22:15:10.434555Z', 'pub_country': None, 'pub_state': None, 'primary_language': None, 'media_type': None, 'collection_count': 1}, {'id': 1384713, 'name': 'osbcng.org', 'url_search_string': None, 'label': 'osbcng.org', 'homepage': 'https://osbcng.org', 'notes': None, 'platform': 'online_news', 'stories_per_week': None, 'first_story': None, 'created_at': '2022-12-23T17:43:28.547804Z', 'modified_at': '2023-12-30T22:15:09.063612Z', 'pub_country': None, 'pub_state': None, 'primary_language': None, 'media_type': None, 'collection_count': 1}, {'id': 1385568, 'name': 'paradisenews.ng', 'url_search_string': None, 'label': 'paradisenews.ng', 'homepage': 'https://paradisenews.ng', 'notes': None, 'platform': 'online_news', 'stories_per_week': None, 'first_story': None, 'created_at': '2022-12-23T17:43:28.547804Z', 'modified_at': '2023-12-30T22:15:08.719881Z', 'pub_country': None, 'pub_state': None, 'primary_language': None, 'media_type': None, 'collection_count': 1}, {'id': 1386093, 'name': 'hotfm.ng', 'url_search_string': None, 'label': 'hotfm.ng', 'homepage': 'http://hotfm.ng/', 'notes': None, 'platform': 'online_news', 'stories_per_week': None, 'first_story': None, 'created_at': '2022-12-23T17:43:28.547804Z', 'modified_at': '2023-12-30T22:15:10.454445Z', 'pub_country': None, 'pub_state': None, 'primary_language': None, 'media_type': None, 'collection_count': 1}, {'id': 1390149, 'name': 'dubawa.org', 'url_search_string': None, 'label': 'dubawa.org', 'homepage': 'https://dubawa.org', 'notes': None, 'platform': 'online_news', 'stories_per_week': None, 'first_story': None, 'created_at': '2022-12-23T17:43:28.547804Z', 'modified_at': '2023-12-30T22:15:09.535208Z', 'pub_country': None, 'pub_state': None, 'primary_language': None, 'media_type': None, 'collection_count': 1}, {'id': 1400191, 'name': 'arise.tv', 'url_search_string': None, 'label': 'arise.tv', 'homepage': 'http://arise.tv/', 'notes': None, 'platform': 'online_news', 'stories_per_week': None, 'first_story': None, 'created_at': '2022-12-23T17:43:28.547804Z', 'modified_at': '2023-12-30T22:15:08.969178Z', 'pub_country': None, 'pub_state': None, 'primary_language': None, 'media_type': None, 'collection_count': 1}, {'id': 1401621, 'name': 'dockaysworld.com.ng', 'url_search_string': None, 'label': 'dockaysworld.com.ng', 'homepage': 'https://www.dockaysworld.com.ng', 'notes': None, 'platform': 'online_news', 'stories_per_week': None, 'first_story': None, 'created_at': '2022-12-23T17:43:28.547804Z', 'modified_at': '2023-12-30T22:15:09.421937Z', 'pub_country': None, 'pub_state': None, 'primary_language': None, 'media_type': None, 'collection_count': 1}, {'id': 1415499, 'name': 'radarpapers.ng', 'url_search_string': None, 'label': 'radarpapers.ng', 'homepage': 'http://radarpapers.ng', 'notes': None, 'platform': 'online_news', 'stories_per_week': None, 'first_story': None, 'created_at': '2022-12-23T17:43:28.547804Z', 'modified_at': '2023-12-30T22:15:10.117648Z', 'pub_country': None, 'pub_state': None, 'primary_language': None, 'media_type': None, 'collection_count': 1}, {'id': 143719, 'name': 'thenewsnigeria.com.ng', 'url_search_string': None, 'label': 'thenewsnigeria.com.ng', 'homepage': 'http://thenewsnigeria.com.ng/', 'notes': None, 'platform': 'online_news', 'stories_per_week': 78, 'first_story': None, 'created_at': '2022-12-23T17:43:28.547804Z', 'modified_at': '2024-08-31T13:45:24.896654Z', 'pub_country': None, 'pub_state': None, 'primary_language': None, 'media_type': None, 'collection_count': 1}, {'id': 1425718, 'name': 'abnews247.com', 'url_search_string': None, 'label': 'abnews247.com', 'homepage': 'https://www.abnews247.com', 'notes': None, 'platform': 'online_news', 'stories_per_week': None, 'first_story': None, 'created_at': '2022-12-23T17:43:28.547804Z', 'modified_at': '2023-12-30T22:15:10.366622Z', 'pub_country': None, 'pub_state': None, 'primary_language': None, 'media_type': None, 'collection_count': 1}, {'id': 1425869, 'name': 'cornerstonenewsng.com', 'url_search_string': None, 'label': 'cornerstonenewsng.com', 'homepage': 'https://cornerstonenewsng.com', 'notes': None, 'platform': 'online_news', 'stories_per_week': None, 'first_story': None, 'created_at': '2022-12-23T17:43:28.547804Z', 'modified_at': '2023-12-30T22:15:09.350618Z', 'pub_country': None, 'pub_state': None, 'primary_language': None, 'media_type': None, 'collection_count': 1}, {'id': 1425921, 'name': 'wawanewsglobal.com', 'url_search_string': None, 'label': 'wawanewsglobal.com', 'homepage': 'https://wawanewsglobal.com', 'notes': None, 'platform': 'online_news', 'stories_per_week': None, 'first_story': None, 'created_at': '2022-12-23T17:43:28.547804Z', 'modified_at': '2023-12-30T22:15:09.774946Z', 'pub_country': None, 'pub_state': None, 'primary_language': None, 'media_type': None, 'collection_count': 1}, {'id': 1426928, 'name': 'daylightng.com', 'url_search_string': None, 'label': 'daylightng.com', 'homepage': 'https://daylightng.com', 'notes': None, 'platform': 'online_news', 'stories_per_week': None, 'first_story': None, 'created_at': '2022-12-23T17:43:28.547804Z', 'modified_at': '2023-12-30T22:15:08.896256Z', 'pub_country': None, 'pub_state': None, 'primary_language': None, 'media_type': None, 'collection_count': 1}, {'id': 1439211, 'name': 'classic94.fm', 'url_search_string': None, 'label': 'classic94.fm', 'homepage': 'https://www.classic94.fm/', 'notes': None, 'platform': 'online_news', 'stories_per_week': None, 'first_story': None, 'created_at': '2022-12-23T17:43:28.547804Z', 'modified_at': '2023-12-30T22:15:10.022260Z', 'pub_country': None, 'pub_state': None, 'primary_language': None, 'media_type': None, 'collection_count': 1}, {'id': 1499430, 'name': 'emmanuel.tv', 'url_search_string': None, 'label': 'emmanuel.tv', 'homepage': 'https://emmanuel.tv/', 'notes': None, 'platform': 'online_news', 'stories_per_week': None, 'first_story': None, 'created_at': '2022-12-23T17:43:28.547804Z', 'modified_at': '2023-12-30T22:15:10.410532Z', 'pub_country': None, 'pub_state': None, 'primary_language': None, 'media_type': None, 'collection_count': 1}, {'id': 1531720, 'name': 'orientalnewsng.com', 'url_search_string': None, 'label': 'orientalnewsng.com', 'homepage': 'https://orientalnewsng.com/', 'notes': None, 'platform': 'online_news', 'stories_per_week': None, 'first_story': None, 'created_at': '2022-12-23T17:43:28.547804Z', 'modified_at': '2023-12-30T22:15:09.096424Z', 'pub_country': None, 'pub_state': None, 'primary_language': None, 'media_type': None, 'collection_count': 1}, {'id': 1539584, 'name': 'newsmirrorng.com', 'url_search_string': None, 'label': 'newsmirrorng.com', 'homepage': 'https://newsmirrorng.com', 'notes': None, 'platform': 'online_news', 'stories_per_week': None, 'first_story': None, 'created_at': '2022-12-23T17:43:28.547804Z', 'modified_at': '2023-12-30T22:15:09.073139Z', 'pub_country': None, 'pub_state': None, 'primary_language': None, 'media_type': None, 'collection_count': 1}, {'id': 1552277, 'name': 'asabametro.com', 'url_search_string': None, 'label': 'asabametro.com', 'homepage': 'https://www.asabametro.com', 'notes': None, 'platform': 'online_news', 'stories_per_week': None, 'first_story': None, 'created_at': '2022-12-23T17:43:28.547804Z', 'modified_at': '2023-12-30T22:15:09.649005Z', 'pub_country': None, 'pub_state': None, 'primary_language': None, 'media_type': None, 'collection_count': 1}, {'id': 1553196, 'name': 'darlingfm.ng', 'url_search_string': None, 'label': 'darlingfm.ng', 'homepage': 'https://www.darlingfm.ng', 'notes': None, 'platform': 'online_news', 'stories_per_week': None, 'first_story': None, 'created_at': '2022-12-23T17:43:28.547804Z', 'modified_at': '2023-12-30T22:15:10.657183Z', 'pub_country': None, 'pub_state': None, 'primary_language': None, 'media_type': None, 'collection_count': 1}, {'id': 1553620, 'name': 'splashfm1055.com', 'url_search_string': None, 'label': 'splashfm1055.com', 'homepage': 'https://www.splashfm1055.com', 'notes': None, 'platform': 'online_news', 'stories_per_week': None, 'first_story': None, 'created_at': '2022-12-23T17:43:28.547804Z', 'modified_at': '2023-12-30T22:15:10.396916Z', 'pub_country': None, 'pub_state': None, 'primary_language': None, 'media_type': None, 'collection_count': 1}, {'id': 1554439, 'name': '32fm.com.ng', 'url_search_string': None, 'label': '32fm.com.ng', 'homepage': 'https://32fm.com.ng/', 'notes': None, 'platform': 'online_news', 'stories_per_week': None, 'first_story': None, 'created_at': '2022-12-23T17:43:28.547804Z', 'modified_at': '2023-12-30T22:15:09.639878Z', 'pub_country': None, 'pub_state': None, 'primary_language': None, 'media_type': None, 'collection_count': 1}, {'id': 1556153, 'name': 'phctelegraph.info', 'url_search_string': None, 'label': 'phctelegraph.info', 'homepage': 'https://phctelegraph.info', 'notes': None, 'platform': 'online_news', 'stories_per_week': None, 'first_story': None, 'created_at': '2022-12-23T17:43:28.547804Z', 'modified_at': '2023-12-30T22:15:09.693317Z', 'pub_country': None, 'pub_state': None, 'primary_language': None, 'media_type': None, 'collection_count': 1}, {'id': 1556323, 'name': 'nannews.ng', 'url_search_string': None, 'label': 'nannews.ng', 'homepage': 'http://nannews.ng/', 'notes': None, 'platform': 'online_news', 'stories_per_week': None, 'first_story': None, 'created_at': '2022-12-23T17:43:28.547804Z', 'modified_at': '2022-12-23T17:43:28.547804Z', 'pub_country': None, 'pub_state': None, 'primary_language': None, 'media_type': None, 'collection_count': 1}, {'id': 1571521, 'name': 'neusroom.com', 'url_search_string': None, 'label': 'neusroom.com', 'homepage': 'https://neusroom.com', 'notes': None, 'platform': 'online_news', 'stories_per_week': None, 'first_story': None, 'created_at': '2022-12-23T17:43:28.547804Z', 'modified_at': '2023-12-30T22:15:09.631067Z', 'pub_country': None, 'pub_state': None, 'primary_language': None, 'media_type': None, 'collection_count': 1}, {'id': 1579048, 'name': 'unityfmtv.com.ng', 'url_search_string': None, 'label': 'unityfmtv.com.ng', 'homepage': 'https://unityfmtv.com.ng', 'notes': None, 'platform': 'online_news', 'stories_per_week': None, 'first_story': None, 'created_at': '2022-12-23T17:43:28.547804Z', 'modified_at': '2023-12-30T22:15:09.711253Z', 'pub_country': None, 'pub_state': None, 'primary_language': None, 'media_type': None, 'collection_count': 1}, {'id': 1581389, 'name': 'max1023.fm', 'url_search_string': None, 'label': 'max1023.fm', 'homepage': 'https://www.max1023.fm/', 'notes': None, 'platform': 'online_news', 'stories_per_week': None, 'first_story': None, 'created_at': '2022-12-23T17:43:28.547804Z', 'modified_at': '2023-12-30T22:15:09.265535Z', 'pub_country': None, 'pub_state': None, 'primary_language': None, 'media_type': None, 'collection_count': 1}, {'id': 1583345, 'name': 'smooth981.fm', 'url_search_string': None, 'label': 'smooth981.fm', 'homepage': 'https://smooth981.fm/', 'notes': None, 'platform': 'online_news', 'stories_per_week': None, 'first_story': None, 'created_at': '2022-12-23T17:43:28.547804Z', 'modified_at': '2023-12-30T22:15:10.562651Z', 'pub_country': None, 'pub_state': None, 'primary_language': None, 'media_type': None, 'collection_count': 1}, {'id': 1586658, 'name': 'dataphyte.com', 'url_search_string': None, 'label': 'Dataphyte', 'homepage': 'http://www.dataphyte.com', 'notes': None, 'platform': 'online_news', 'stories_per_week': 8, 'first_story': None, 'created_at': '2022-12-23T17:43:28.547804Z', 'modified_at': '2024-08-31T13:45:30.286187Z', 'pub_country': 'NGA', 'pub_state': None, 'primary_language': None, 'media_type': None, 'collection_count': 1}, {'id': 1586860, 'name': 'kogiflame.com', 'url_search_string': None, 'label': 'kogiflame.com', 'homepage': 'https://kogiflame.com', 'notes': None, 'platform': 'online_news', 'stories_per_week': None, 'first_story': None, 'created_at': '2022-12-23T17:43:28.547804Z', 'modified_at': '2023-12-30T22:15:09.296758Z', 'pub_country': None, 'pub_state': None, 'primary_language': None, 'media_type': None, 'collection_count': 1}, {'id': 1593102, 'name': 'thebeat97.fm', 'url_search_string': None, 'label': 'thebeat97.fm', 'homepage': 'https://thebeat97.fm/', 'notes': None, 'platform': 'online_news', 'stories_per_week': None, 'first_story': None, 'created_at': '2022-12-23T17:43:28.547804Z', 'modified_at': '2023-12-30T22:15:10.073966Z', 'pub_country': None, 'pub_state': None, 'primary_language': None, 'media_type': None, 'collection_count': 1}, {'id': 1627599, 'name': 'albarka.ng', 'url_search_string': None, 'label': 'albarka.ng', 'homepage': 'https://albarka.ng/', 'notes': None, 'platform': 'online_news', 'stories_per_week': None, 'first_story': None, 'created_at': '2022-12-23T17:43:28.547804Z', 'modified_at': '2023-12-30T22:15:09.684511Z', 'pub_country': None, 'pub_state': None, 'primary_language': None, 'media_type': None, 'collection_count': 1}, {'id': 1684863, 'name': 'bbc.com', 'url_search_string': 'bbc.com/news/world/africa', 'label': 'Africa News - BBC News', 'homepage': 'https://www.bbc.com/news/world/africa', 'notes': None, 'platform': 'online_news', 'stories_per_week': 1, 'first_story': None, 'created_at': '2022-12-23T17:43:28.547804Z', 'modified_at': '2024-08-31T13:52:13.831984Z', 'pub_country': None, 'pub_state': None, 'primary_language': None, 'media_type': None, 'collection_count': 1}, {'id': 1694504, 'name': 'nnn.ng', 'url_search_string': None, 'label': 'nnn.ng', 'homepage': 'https://nnn.ng', 'notes': None, 'platform': 'online_news', 'stories_per_week': None, 'first_story': None, 'created_at': '2022-12-23T17:43:28.547804Z', 'modified_at': '2023-12-30T22:15:08.709407Z', 'pub_country': None, 'pub_state': None, 'primary_language': None, 'media_type': None, 'collection_count': 1}, {'id': 1720488, 'name': 'thenigeriastandard.com.ng', 'url_search_string': None, 'label': 'The Nigeria Standard', 'homepage': 'https://thenigeriastandard.com.ng/', 'notes': None, 'platform': 'online_news', 'stories_per_week': None, 'first_story': None, 'created_at': '2022-12-23T17:43:28.547804Z', 'modified_at': '2022-12-23T17:43:28.547804Z', 'pub_country': None, 'pub_state': None, 'primary_language': None, 'media_type': None, 'collection_count': 1}, {'id': 1739320, 'name': 'nigerianpilot.news', 'url_search_string': None, 'label': 'nigerianpilot.news', 'homepage': 'https://nigerianpilot.news', 'notes': None, 'platform': 'online_news', 'stories_per_week': None, 'first_story': None, 'created_at': '2022-12-23T17:43:28.547804Z', 'modified_at': '2023-12-30T22:15:09.034765Z', 'pub_country': None, 'pub_state': None, 'primary_language': None, 'media_type': None, 'collection_count': 1}, {'id': 110626, 'name': 'newsrescue.com', 'url_search_string': None, 'label': 'newsrescue.com', 'homepage': 'https://newsrescue.com', 'notes': None, 'platform': 'online_news', 'stories_per_week': None, 'first_story': None, 'created_at': '2022-12-23T17:43:28.547804Z', 'modified_at': '2023-12-30T22:15:09.319220Z', 'pub_country': None, 'pub_state': None, 'primary_language': None, 'media_type': None, 'collection_count': 1}, {'id': 1786086, 'name': 'naija102.com', 'url_search_string': None, 'label': 'naija102.com', 'homepage': 'http://www.naija102.com/lagos/', 'notes': None, 'platform': 'online_news', 'stories_per_week': None, 'first_story': None, 'created_at': '2022-12-23T17:43:28.547804Z', 'modified_at': '2023-12-30T22:15:09.720054Z', 'pub_country': None, 'pub_state': None, 'primary_language': None, 'media_type': None, 'collection_count': 1}, {'id': 1843699, 'name': 'gazettengr.com', 'url_search_string': None, 'label': 'gazettengr.com', 'homepage': 'http://gazettengr.com/', 'notes': None, 'platform': 'online_news', 'stories_per_week': None, 'first_story': None, 'created_at': '2022-12-23T17:43:28.547804Z', 'modified_at': '2023-12-30T22:15:08.802735Z', 'pub_country': None, 'pub_state': None, 'primary_language': None, 'media_type': None, 'collection_count': 1}, {'id': 1844148, 'name': 'fij.ng', 'url_search_string': None, 'label': 'fij.ng', 'homepage': 'https://fij.ng', 'notes': None, 'platform': 'online_news', 'stories_per_week': None, 'first_story': None, 'created_at': '2022-12-23T17:43:28.547804Z', 'modified_at': '2023-12-30T22:15:10.678025Z', 'pub_country': None, 'pub_state': None, 'primary_language': None, 'media_type': None, 'collection_count': 1}, {'id': 1844573, 'name': 'raypower.fm', 'url_search_string': None, 'label': 'raypower.fm', 'homepage': 'http://raypower.fm/', 'notes': None, 'platform': 'online_news', 'stories_per_week': 30, 'first_story': None, 'created_at': '2022-12-23T17:43:28.547804Z', 'modified_at': '2024-03-02T02:11:14.637011Z', 'pub_country': None, 'pub_state': None, 'primary_language': None, 'media_type': None, 'collection_count': 1}, {'id': 1845468, 'name': 'africachinareview.com', 'url_search_string': None, 'label': 'africachinareview.com', 'homepage': 'https://africachinareview.com', 'notes': None, 'platform': 'online_news', 'stories_per_week': None, 'first_story': None, 'created_at': '2022-12-23T17:43:28.547804Z', 'modified_at': '2023-12-30T22:15:09.465999Z', 'pub_country': None, 'pub_state': None, 'primary_language': None, 'media_type': None, 'collection_count': 1}, {'id': 1853934, 'name': 'yafri.ca', 'url_search_string': None, 'label': 'yafri.ca', 'homepage': 'https://naija.yafri.ca', 'notes': None, 'platform': 'online_news', 'stories_per_week': None, 'first_story': None, 'created_at': '2022-12-23T17:43:28.547804Z', 'modified_at': '2023-12-30T22:15:09.147815Z', 'pub_country': None, 'pub_state': None, 'primary_language': None, 'media_type': None, 'collection_count': 1}, {'id': 1899174, 'name': 'xtra.net', 'url_search_string': None, 'label': 'Xtra', 'homepage': 'https://www.xtra.net', 'notes': None, 'platform': 'online_news', 'stories_per_week': None, 'first_story': None, 'created_at': '2022-12-23T17:43:28.547804Z', 'modified_at': '2022-12-23T17:43:28.547804Z', 'pub_country': None, 'pub_state': None, 'primary_language': None, 'media_type': None, 'collection_count': 1}, {'id': 1912042, 'name': 'classic91.net', 'url_search_string': None, 'label': 'classic91.net', 'homepage': 'http://www.classic91.net/', 'notes': None, 'platform': 'online_news', 'stories_per_week': 0, 'first_story': None, 'created_at': '2023-12-30T22:15:08.674898Z', 'modified_at': '2024-08-31T13:50:23.881523Z', 'pub_country': None, 'pub_state': None, 'primary_language': None, 'media_type': None, 'collection_count': 1}, {'id': 1912043, 'name': 'voiceofnaija.ng', 'url_search_string': None, 'label': 'voiceofnaija.ng', 'homepage': 'https://voiceofnaija.ng/', 'notes': None, 'platform': 'online_news', 'stories_per_week': 0, 'first_story': None, 'created_at': '2023-12-30T22:15:08.842718Z', 'modified_at': '2023-12-30T22:15:08.842739Z', 'pub_country': None, 'pub_state': None, 'primary_language': None, 'media_type': None, 'collection_count': 1}, {'id': 1912044, 'name': 'sobifm.com', 'url_search_string': None, 'label': 'sobifm.com', 'homepage': 'https://sobifm.com/', 'notes': None, 'platform': 'online_news', 'stories_per_week': 0, 'first_story': None, 'created_at': '2023-12-30T22:15:08.925370Z', 'modified_at': '2024-08-31T13:50:23.920111Z', 'pub_country': None, 'pub_state': None, 'primary_language': None, 'media_type': None, 'collection_count': 1}, {'id': 1912045, 'name': 'radionigeriaibadan.gov.ng', 'url_search_string': None, 'label': 'radionigeriaibadan.gov.ng', 'homepage': 'https://radionigeriaibadan.gov.ng', 'notes': None, 'platform': 'online_news', 'stories_per_week': 0, 'first_story': None, 'created_at': '2023-12-30T22:15:09.082438Z', 'modified_at': '2023-12-30T22:15:09.082458Z', 'pub_country': None, 'pub_state': None, 'primary_language': None, 'media_type': None, 'collection_count': 1}, {'id': 1912046, 'name': 'frcnpositivefm1025.com', 'url_search_string': None, 'label': 'frcnpositivefm1025.com', 'homepage': 'https://www.frcnpositivefm1025.com/', 'notes': None, 'platform': 'online_news', 'stories_per_week': 0, 'first_story': None, 'created_at': '2023-12-30T22:15:09.125019Z', 'modified_at': '2023-12-30T22:15:09.125039Z', 'pub_country': None, 'pub_state': None, 'primary_language': None, 'media_type': None, 'collection_count': 1}, {'id': 1912047, 'name': 'kpakpandofm.com.ng', 'url_search_string': None, 'label': 'kpakpandofm.com.ng', 'homepage': 'https://kpakpandofm.com.ng', 'notes': None, 'platform': 'online_news', 'stories_per_week': 0, 'first_story': None, 'created_at': '2023-12-30T22:15:09.176313Z', 'modified_at': '2024-08-31T13:50:23.961987Z', 'pub_country': None, 'pub_state': None, 'primary_language': None, 'media_type': None, 'collection_count': 1}, {'id': 1912048, 'name': 'radiobayelsa.com', 'url_search_string': None, 'label': 'radiobayelsa.com', 'homepage': 'https://radiobayelsa.com/', 'notes': None, 'platform': 'online_news', 'stories_per_week': 0, 'first_story': None, 'created_at': '2023-12-30T22:15:09.274352Z', 'modified_at': '2024-07-14T03:04:51.030662Z', 'pub_country': None, 'pub_state': None, 'primary_language': None, 'media_type': None, 'collection_count': 1}, {'id': 1912049, 'name': 'thisisradionow.com', 'url_search_string': None, 'label': 'thisisradionow.com', 'homepage': 'https://thisisradionow.com', 'notes': None, 'platform': 'online_news', 'stories_per_week': 0, 'first_story': None, 'created_at': '2023-12-30T22:15:09.305808Z', 'modified_at': '2024-08-31T13:50:23.990808Z', 'pub_country': None, 'pub_state': None, 'primary_language': None, 'media_type': None, 'collection_count': 1}, {'id': 1912050, 'name': 'vibesfm.com.ng', 'url_search_string': None, 'label': 'vibesfm.com.ng', 'homepage': 'http://vibesfm.com.ng', 'notes': None, 'platform': 'online_news', 'stories_per_week': 0, 'first_story': None, 'created_at': '2023-12-30T22:15:09.337342Z', 'modified_at': '2024-08-31T13:50:24.006721Z', 'pub_country': None, 'pub_state': None, 'primary_language': None, 'media_type': None, 'collection_count': 1}, {'id': 1912051, 'name': 'jamz1001.fm', 'url_search_string': None, 'label': 'jamz1001.fm', 'homepage': 'https://jamz1001.fm/', 'notes': None, 'platform': 'online_news', 'stories_per_week': 0, 'first_story': None, 'created_at': '2023-12-30T22:15:09.359402Z', 'modified_at': '2024-08-31T13:50:24.032891Z', 'pub_country': None, 'pub_state': None, 'primary_language': None, 'media_type': None, 'collection_count': 1}, {'id': 1912052, 'name': 'rahmatv.com', 'url_search_string': None, 'label': 'rahmatv.com', 'homepage': 'https://rahmatv.com/', 'notes': None, 'platform': 'online_news', 'stories_per_week': 0, 'first_story': None, 'created_at': '2023-12-30T22:15:09.408310Z', 'modified_at': '2023-12-30T22:15:09.408330Z', 'pub_country': None, 'pub_state': None, 'primary_language': None, 'media_type': None, 'collection_count': 1}, {'id': 1912053, 'name': 'crownfmng.com', 'url_search_string': None, 'label': 'crownfmng.com', 'homepage': 'https://crownfmng.com/', 'notes': None, 'platform': 'online_news', 'stories_per_week': 0, 'first_story': None, 'created_at': '2023-12-30T22:15:09.430601Z', 'modified_at': '2024-08-31T13:50:24.061165Z', 'pub_country': None, 'pub_state': None, 'primary_language': None, 'media_type': None, 'collection_count': 1}, {'id': 1912054, 'name': 'radionigeriaenugu.gov.ng', 'url_search_string': None, 'label': 'radionigeriaenugu.gov.ng', 'homepage': 'https://radionigeriaenugu.gov.ng', 'notes': None, 'platform': 'online_news', 'stories_per_week': 0, 'first_story': None, 'created_at': '2023-12-30T22:15:09.452605Z', 'modified_at': '2023-12-30T22:15:09.452624Z', 'pub_country': None, 'pub_state': None, 'primary_language': None, 'media_type': None, 'collection_count': 1}, {'id': 1912055, 'name': 'humanglemedia.com', 'url_search_string': None, 'label': 'humanglemedia.com', 'homepage': 'http://humanglemedia.com/', 'notes': None, 'platform': 'online_news', 'stories_per_week': 0, 'first_story': None, 'created_at': '2023-12-30T22:15:09.484382Z', 'modified_at': '2023-12-30T22:15:09.484402Z', 'pub_country': None, 'pub_state': None, 'primary_language': None, 'media_type': None, 'collection_count': 1}, {'id': 1912056, 'name': 'urbanradio945.com', 'url_search_string': None, 'label': 'urbanradio945.com', 'homepage': 'https://urbanradio945.com/', 'notes': None, 'platform': 'online_news', 'stories_per_week': 0, 'first_story': None, 'created_at': '2023-12-30T22:15:09.497881Z', 'modified_at': '2023-12-30T22:15:09.497901Z', 'pub_country': None, 'pub_state': None, 'primary_language': None, 'media_type': None, 'collection_count': 1}, {'id': 1912057, 'name': 'lasgidifm.com', 'url_search_string': None, 'label': 'lasgidifm.com', 'homepage': 'https://lasgidifm.com/', 'notes': None, 'platform': 'online_news', 'stories_per_week': 0, 'first_story': None, 'created_at': '2023-12-30T22:15:09.521026Z', 'modified_at': '2023-12-30T22:15:09.521045Z', 'pub_country': None, 'pub_state': None, 'primary_language': None, 'media_type': None, 'collection_count': 1}, {'id': 1912058, 'name': 'kanofocus.com', 'url_search_string': None, 'label': 'kanofocus.com', 'homepage': 'https://kanofocus.com', 'notes': None, 'platform': 'online_news', 'stories_per_week': 0, 'first_story': None, 'created_at': '2023-12-30T22:15:09.553224Z', 'modified_at': '2024-08-31T13:50:24.112693Z', 'pub_country': None, 'pub_state': None, 'primary_language': None, 'media_type': None, 'collection_count': 1}, {'id': 279775, 'name': 'abacityblog.com', 'url_search_string': None, 'label': 'abacityblog.com', 'homepage': 'https://abacityblog.com', 'notes': None, 'platform': 'online_news', 'stories_per_week': None, 'first_story': None, 'created_at': '2022-12-23T17:43:28.547804Z', 'modified_at': '2023-12-30T22:15:09.328079Z', 'pub_country': None, 'pub_state': None, 'primary_language': None, 'media_type': None, 'collection_count': 1}, {'id': 279743, 'name': 'absradiotv.com', 'url_search_string': None, 'label': 'absradiotv.com', 'homepage': 'https://www.absradiotv.com', 'notes': None, 'platform': 'online_news', 'stories_per_week': None, 'first_story': None, 'created_at': '2022-12-23T17:43:28.547804Z', 'modified_at': '2023-12-30T22:15:09.227953Z', 'pub_country': None, 'pub_state': None, 'primary_language': None, 'media_type': None, 'collection_count': 1}, {'id': 279620, 'name': 'tori.ng', 'url_search_string': None, 'label': 'tori.ng', 'homepage': 'http://tori.ng/', 'notes': None, 'platform': 'online_news', 'stories_per_week': 730, 'first_story': None, 'created_at': '2022-12-23T17:43:28.547804Z', 'modified_at': '2024-08-31T13:45:44.272217Z', 'pub_country': None, 'pub_state': None, 'primary_language': None, 'media_type': None, 'collection_count': 1}, {'id': 279617, 'name': 'authorityngr.com', 'url_search_string': None, 'label': 'authorityngr.com', 'homepage': 'http://authorityngr.com/', 'notes': None, 'platform': 'online_news', 'stories_per_week': 103, 'first_story': None, 'created_at': '2022-12-23T17:43:28.547804Z', 'modified_at': '2024-08-31T13:45:44.210887Z', 'pub_country': None, 'pub_state': None, 'primary_language': None, 'media_type': None, 'collection_count': 1}, {'id': 279581, 'name': 'thenet.ng', 'url_search_string': None, 'label': 'thenet.ng', 'homepage': 'http://thenet.ng/', 'notes': None, 'platform': 'online_news', 'stories_per_week': 7, 'first_story': None, 'created_at': '2022-12-23T17:43:28.547804Z', 'modified_at': '2024-08-31T13:45:44.044274Z', 'pub_country': None, 'pub_state': None, 'primary_language': None, 'media_type': None, 'collection_count': 1}, {'id': 254278, 'name': 'nigeriannews.net', 'url_search_string': None, 'label': 'nigeriannews.net', 'homepage': 'https://www.nigeriannews.net', 'notes': None, 'platform': 'online_news', 'stories_per_week': None, 'first_story': None, 'created_at': '2022-12-23T17:43:28.547804Z', 'modified_at': '2023-12-30T22:15:09.157277Z', 'pub_country': None, 'pub_state': None, 'primary_language': None, 'media_type': None, 'collection_count': 1}, {'id': 1912059, 'name': 'radionigeriacompanionfmkatsina.com', 'url_search_string': None, 'label': 'radionigeriacompanionfmkatsina.com', 'homepage': 'https://radionigeriacompanionfmkatsina.com', 'notes': None, 'platform': 'online_news', 'stories_per_week': 0, 'first_story': None, 'created_at': '2023-12-30T22:15:09.566858Z', 'modified_at': '2024-05-18T11:19:27.417779Z', 'pub_country': None, 'pub_state': None, 'primary_language': None, 'media_type': None, 'collection_count': 1}, {'id': 1912060, 'name': 'blaze915fm.com', 'url_search_string': None, 'label': 'blaze915fm.com', 'homepage': 'http://www.blaze915fm.com/', 'notes': None, 'platform': 'online_news', 'stories_per_week': 0, 'first_story': None, 'created_at': '2023-12-30T22:15:09.580523Z', 'modified_at': '2024-08-31T13:50:24.147831Z', 'pub_country': None, 'pub_state': None, 'primary_language': None, 'media_type': None, 'collection_count': 1}, {'id': 1912061, 'name': 'thenationalpilot.ng', 'url_search_string': None, 'label': 'thenationalpilot.ng', 'homepage': 'https://thenationalpilot.ng', 'notes': None, 'platform': 'online_news', 'stories_per_week': 0, 'first_story': None, 'created_at': '2023-12-30T22:15:09.595347Z', 'modified_at': '2023-12-30T22:15:09.595367Z', 'pub_country': None, 'pub_state': None, 'primary_language': None, 'media_type': None, 'collection_count': 1}, {'id': 1912062, 'name': 'reformeronline.com', 'url_search_string': None, 'label': 'reformeronline.com', 'homepage': 'http://reformeronline.com', 'notes': None, 'platform': 'online_news', 'stories_per_week': 0, 'first_story': None, 'created_at': '2023-12-30T22:15:09.617825Z', 'modified_at': '2023-12-30T22:15:09.617845Z', 'pub_country': None, 'pub_state': None, 'primary_language': None, 'media_type': None, 'collection_count': 1}, {'id': 1912063, 'name': 'solidfmradio.com', 'url_search_string': None, 'label': 'solidfmradio.com', 'homepage': 'https://www.solidfmradio.com/', 'notes': None, 'platform': 'online_news', 'stories_per_week': 0, 'first_story': None, 'created_at': '2023-12-30T22:15:09.657694Z', 'modified_at': '2023-12-30T22:15:09.657713Z', 'pub_country': None, 'pub_state': None, 'primary_language': None, 'media_type': None, 'collection_count': 1}, {'id': 1912064, 'name': 'ijebunewsxtra.com', 'url_search_string': None, 'label': 'ijebunewsxtra.com', 'homepage': 'https://ijebunewsxtra.com', 'notes': None, 'platform': 'online_news', 'stories_per_week': 0, 'first_story': None, 'created_at': '2023-12-30T22:15:09.670977Z', 'modified_at': '2023-12-30T22:15:09.670998Z', 'pub_country': None, 'pub_state': None, 'primary_language': None, 'media_type': None, 'collection_count': 1}, {'id': 1912065, 'name': 'martabafm.com', 'url_search_string': None, 'label': 'martabafm.com', 'homepage': 'https://martabafm.com/', 'notes': None, 'platform': 'online_news', 'stories_per_week': 0, 'first_story': None, 'created_at': '2023-12-30T22:15:09.730672Z', 'modified_at': '2024-08-31T13:50:24.238642Z', 'pub_country': None, 'pub_state': None, 'primary_language': None, 'media_type': None, 'collection_count': 1}, {'id': 1912066, 'name': 'ncbn.ng', 'url_search_string': None, 'label': 'ncbn.ng', 'homepage': 'https://news.ncbn.ng/', 'notes': None, 'platform': 'online_news', 'stories_per_week': 0, 'first_story': None, 'created_at': '2023-12-30T22:15:09.753055Z', 'modified_at': '2024-08-31T13:50:24.267649Z', 'pub_country': None, 'pub_state': None, 'primary_language': None, 'media_type': None, 'collection_count': 1}, {'id': 1912067, 'name': 'ekitiradio.com', 'url_search_string': None, 'label': 'ekitiradio.com', 'homepage': 'https://ekitiradio.com/', 'notes': None, 'platform': 'online_news', 'stories_per_week': 0, 'first_story': None, 'created_at': '2023-12-30T22:15:09.819144Z', 'modified_at': '2023-12-30T22:15:09.819164Z', 'pub_country': None, 'pub_state': None, 'primary_language': None, 'media_type': None, 'collection_count': 1}, {'id': 1912068, 'name': 'adamawadailyreports.com', 'url_search_string': None, 'label': 'adamawadailyreports.com', 'homepage': 'http://www.adamawadailyreports.com', 'notes': None, 'platform': 'online_news', 'stories_per_week': 0, 'first_story': None, 'created_at': '2023-12-30T22:15:09.833055Z', 'modified_at': '2024-08-31T13:50:24.215543Z', 'pub_country': None, 'pub_state': None, 'primary_language': None, 'media_type': None, 'collection_count': 1}, {'id': 1912069, 'name': 'eaglesfm.com', 'url_search_string': None, 'label': 'eaglesfm.com', 'homepage': 'https://www.eaglesfm.com/', 'notes': None, 'platform': 'online_news', 'stories_per_week': 0, 'first_story': None, 'created_at': '2023-12-30T22:15:09.855278Z', 'modified_at': '2024-08-31T13:50:24.286127Z', 'pub_country': None, 'pub_state': None, 'primary_language': None, 'media_type': None, 'collection_count': 1}, {'id': 1912070, 'name': 'thebeat99ph.com', 'url_search_string': None, 'label': 'thebeat99ph.com', 'homepage': 'https://www.thebeat99ph.com/', 'notes': None, 'platform': 'online_news', 'stories_per_week': 0, 'first_story': None, 'created_at': '2023-12-30T22:15:09.868876Z', 'modified_at': '2024-08-31T13:50:24.300941Z', 'pub_country': None, 'pub_state': None, 'primary_language': None, 'media_type': None, 'collection_count': 1}, {'id': 1912071, 'name': 'guaranteeradio.com', 'url_search_string': None, 'label': 'guaranteeradio.com', 'homepage': 'https://guaranteeradio.com/', 'notes': None, 'platform': 'online_news', 'stories_per_week': 0, 'first_story': None, 'created_at': '2023-12-30T22:15:09.890790Z', 'modified_at': '2024-08-31T13:50:24.316623Z', 'pub_country': None, 'pub_state': None, 'primary_language': None, 'media_type': None, 'collection_count': 1}, {'id': 1912072, 'name': 'radionigerialagos.gov.ng', 'url_search_string': None, 'label': 'radionigerialagos.gov.ng', 'homepage': 'https://radionigerialagos.gov.ng/radioone/', 'notes': None, 'platform': 'online_news', 'stories_per_week': 0, 'first_story': None, 'created_at': '2023-12-30T22:15:09.930853Z', 'modified_at': '2023-12-30T22:15:09.930871Z', 'pub_country': None, 'pub_state': None, 'primary_language': None, 'media_type': None, 'collection_count': 1}, {'id': 1912073, 'name': 'dalafmkano.com', 'url_search_string': None, 'label': 'dalafmkano.com', 'homepage': 'https://dalafmkano.com/', 'notes': None, 'platform': 'online_news', 'stories_per_week': 0, 'first_story': None, 'created_at': '2023-12-30T22:15:09.943326Z', 'modified_at': '2024-08-31T13:50:24.370136Z', 'pub_country': None, 'pub_state': None, 'primary_language': None, 'media_type': None, 'collection_count': 1}, {'id': 1912074, 'name': 'ogunradio.ng', 'url_search_string': None, 'label': 'ogunradio.ng', 'homepage': 'https://ogunradio.ng', 'notes': None, 'platform': 'online_news', 'stories_per_week': 0, 'first_story': None, 'created_at': '2023-12-30T22:15:09.973878Z', 'modified_at': '2024-08-31T13:50:24.338570Z', 'pub_country': None, 'pub_state': None, 'primary_language': None, 'media_type': None, 'collection_count': 1}, {'id': 1912075, 'name': 'abcyola.com.ng', 'url_search_string': None, 'label': 'abcyola.com.ng', 'homepage': 'https://abcyola.com.ng/', 'notes': None, 'platform': 'online_news', 'stories_per_week': 0, 'first_story': None, 'created_at': '2023-12-30T22:15:09.987167Z', 'modified_at': '2024-08-31T13:50:24.389745Z', 'pub_country': None, 'pub_state': None, 'primary_language': None, 'media_type': None, 'collection_count': 1}, {'id': 1912076, 'name': 'bestnaija.ng', 'url_search_string': None, 'label': 'bestnaija.ng', 'homepage': 'https://bestnaija.ng', 'notes': None, 'platform': 'online_news', 'stories_per_week': 0, 'first_story': None, 'created_at': '2023-12-30T22:15:10.000354Z', 'modified_at': '2024-07-14T03:07:06.683486Z', 'pub_country': None, 'pub_state': None, 'primary_language': None, 'media_type': None, 'collection_count': 1}, {'id': 232830, 'name': 'nigerianwatch.com', 'url_search_string': None, 'label': 'nigerianwatch.com', 'homepage': 'http://nigerianwatch.com/', 'notes': None, 'platform': 'online_news', 'stories_per_week': 0, 'first_story': None, 'created_at': '2022-12-23T17:43:28.547804Z', 'modified_at': '2023-01-31T21:28:13.394999Z', 'pub_country': None, 'pub_state': None, 'primary_language': None, 'media_type': None, 'collection_count': 1}, {'id': 1912077, 'name': 'classic97.net', 'url_search_string': None, 'label': 'classic97.net', 'homepage': 'https://www.classic97.net/', 'notes': None, 'platform': 'online_news', 'stories_per_week': 0, 'first_story': None, 'created_at': '2023-12-30T22:15:10.030983Z', 'modified_at': '2024-08-31T13:50:24.419100Z', 'pub_country': None, 'pub_state': None, 'primary_language': None, 'media_type': None, 'collection_count': 1}, {'id': 1912078, 'name': 'wavefm917.com', 'url_search_string': None, 'label': 'wavefm917.com', 'homepage': 'https://www.wavefm917.com/', 'notes': None, 'platform': 'online_news', 'stories_per_week': 0, 'first_story': None, 'created_at': '2023-12-30T22:15:10.052449Z', 'modified_at': '2024-08-31T13:50:24.433448Z', 'pub_country': None, 'pub_state': None, 'primary_language': None, 'media_type': None, 'collection_count': 1}, {'id': 1912079, 'name': 'aminciradio.com.ng', 'url_search_string': None, 'label': 'aminciradio.com.ng', 'homepage': 'https://www.aminciradio.com.ng/', 'notes': None, 'platform': 'online_news', 'stories_per_week': 0, 'first_story': None, 'created_at': '2023-12-30T22:15:10.082323Z', 'modified_at': '2024-08-31T13:50:24.446558Z', 'pub_country': None, 'pub_state': None, 'primary_language': None, 'media_type': None, 'collection_count': 1}, {'id': 1912080, 'name': 'agidigbo887fm.com', 'url_search_string': None, 'label': 'agidigbo887fm.com', 'homepage': 'https://agidigbo887fm.com/', 'notes': None, 'platform': 'online_news', 'stories_per_week': 0, 'first_story': None, 'created_at': '2023-12-30T22:15:10.091599Z', 'modified_at': '2024-08-31T13:50:24.457685Z', 'pub_country': None, 'pub_state': None, 'primary_language': None, 'media_type': None, 'collection_count': 1}, {'id': 1912081, 'name': 'akwaibomnews.com.ng', 'url_search_string': None, 'label': 'akwaibomnews.com.ng', 'homepage': 'https://www.akwaibomnews.com.ng', 'notes': None, 'platform': 'online_news', 'stories_per_week': 0, 'first_story': None, 'created_at': '2023-12-30T22:15:10.106957Z', 'modified_at': '2024-08-31T13:50:24.468476Z', 'pub_country': None, 'pub_state': None, 'primary_language': None, 'media_type': None, 'collection_count': 1}, {'id': 1912082, 'name': 'yabatechradio.com.ng', 'url_search_string': None, 'label': 'yabatechradio.com.ng', 'homepage': 'https://yabatechradio.com.ng/', 'notes': None, 'platform': 'online_news', 'stories_per_week': 0, 'first_story': None, 'created_at': '2023-12-30T22:15:10.125207Z', 'modified_at': '2023-12-30T22:15:10.125223Z', 'pub_country': None, 'pub_state': None, 'primary_language': None, 'media_type': None, 'collection_count': 1}, {'id': 1912083, 'name': 'ogene983fm.com', 'url_search_string': None, 'label': 'ogene983fm.com', 'homepage': 'http://www.ogene983fm.com', 'notes': None, 'platform': 'online_news', 'stories_per_week': 0, 'first_story': None, 'created_at': '2023-12-30T22:15:10.136681Z', 'modified_at': '2023-12-30T22:15:10.136697Z', 'pub_country': None, 'pub_state': None, 'primary_language': None, 'media_type': None, 'collection_count': 1}, {'id': 1912084, 'name': 'footynaija.com.ng', 'url_search_string': None, 'label': 'footynaija.com.ng', 'homepage': 'https://www.footynaija.com.ng', 'notes': None, 'platform': 'online_news', 'stories_per_week': 0, 'first_story': None, 'created_at': '2023-12-30T22:15:10.148416Z', 'modified_at': '2024-08-31T13:50:24.498697Z', 'pub_country': None, 'pub_state': None, 'primary_language': None, 'media_type': None, 'collection_count': 1}, {'id': 1912085, 'name': 'leadradio1063.com', 'url_search_string': None, 'label': 'leadradio1063.com', 'homepage': 'https://leadradio1063.com/', 'notes': None, 'platform': 'online_news', 'stories_per_week': 0, 'first_story': None, 'created_at': '2023-12-30T22:15:10.192518Z', 'modified_at': '2023-12-30T22:15:10.192535Z', 'pub_country': None, 'pub_state': None, 'primary_language': None, 'media_type': None, 'collection_count': 1}, {'id': 1912086, 'name': 'expressng.com', 'url_search_string': None, 'label': 'expressng.com', 'homepage': 'https://expressng.com', 'notes': None, 'platform': 'online_news', 'stories_per_week': 0, 'first_story': None, 'created_at': '2023-12-30T22:15:10.204740Z', 'modified_at': '2023-12-30T22:15:10.204756Z', 'pub_country': None, 'pub_state': None, 'primary_language': None, 'media_type': None, 'collection_count': 1}, {'id': 1912087, 'name': 'ikaworld.com', 'url_search_string': None, 'label': 'ikaworld.com', 'homepage': 'http://ikaworld.com', 'notes': None, 'platform': 'online_news', 'stories_per_week': 0, 'first_story': None, 'created_at': '2023-12-30T22:15:10.379417Z', 'modified_at': '2024-08-31T13:50:24.536661Z', 'pub_country': None, 'pub_state': None, 'primary_language': None, 'media_type': None, 'collection_count': 1}, {'id': 1912088, 'name': 'max909.fm', 'url_search_string': None, 'label': 'max909.fm', 'homepage': 'https://max909.fm/', 'notes': None, 'platform': 'online_news', 'stories_per_week': 0, 'first_story': None, 'created_at': '2023-12-30T22:15:10.424110Z', 'modified_at': '2024-08-16T19:29:53.282932Z', 'pub_country': None, 'pub_state': None, 'primary_language': None, 'media_type': None, 'collection_count': 1}, {'id': 1912089, 'name': 'coolfm.ng', 'url_search_string': None, 'label': 'coolfm.ng', 'homepage': 'https://www.coolfm.ng/', 'notes': None, 'platform': 'online_news', 'stories_per_week': 0, 'first_story': None, 'created_at': '2023-12-30T22:15:10.441719Z', 'modified_at': '2023-12-30T22:15:10.441734Z', 'pub_country': None, 'pub_state': None, 'primary_language': None, 'media_type': None, 'collection_count': 1}, {'id': 1912090, 'name': 'wazobiafm.com', 'url_search_string': None, 'label': 'wazobiafm.com', 'homepage': 'https://www.wazobiafm.com/', 'notes': None, 'platform': 'online_news', 'stories_per_week': 0, 'first_story': None, 'created_at': '2023-12-30T22:15:10.461782Z', 'modified_at': '2023-12-30T22:15:10.461797Z', 'pub_country': None, 'pub_state': None, 'primary_language': None, 'media_type': None, 'collection_count': 1}, {'id': 1912091, 'name': 'buzzfm897.com', 'url_search_string': None, 'label': 'buzzfm897.com', 'homepage': 'https://buzzfm897.com/', 'notes': None, 'platform': 'online_news', 'stories_per_week': 0, 'first_story': None, 'created_at': '2023-12-30T22:15:10.473139Z', 'modified_at': '2023-12-30T22:15:10.473154Z', 'pub_country': None, 'pub_state': None, 'primary_language': None, 'media_type': None, 'collection_count': 1}, {'id': 1912092, 'name': 'hyai895.fm', 'url_search_string': None, 'label': 'hyai895.fm', 'homepage': 'https://hyai895.fm/', 'notes': None, 'platform': 'online_news', 'stories_per_week': 0, 'first_story': None, 'created_at': '2023-12-30T22:15:10.491968Z', 'modified_at': '2024-08-31T13:50:24.553348Z', 'pub_country': None, 'pub_state': None, 'primary_language': None, 'media_type': None, 'collection_count': 1}, {'id': 179082, 'name': 'tvcnews.tv', 'url_search_string': None, 'label': 'tvcnews.tv', 'homepage': 'https://www.tvcnews.tv', 'notes': None, 'platform': 'online_news', 'stories_per_week': None, 'first_story': None, 'created_at': '2022-12-23T17:43:28.547804Z', 'modified_at': '2023-12-30T22:15:08.857160Z', 'pub_country': None, 'pub_state': None, 'primary_language': None, 'media_type': None, 'collection_count': 1}, {'id': 1912093, 'name': 'arewaradio.com', 'url_search_string': None, 'label': 'arewaradio.com', 'homepage': 'https://www.arewaradio.com/', 'notes': None, 'platform': 'online_news', 'stories_per_week': 0, 'first_story': None, 'created_at': '2023-12-30T22:15:10.503551Z', 'modified_at': '2023-12-30T22:15:10.503567Z', 'pub_country': None, 'pub_state': None, 'primary_language': None, 'media_type': None, 'collection_count': 1}, {'id': 145245, 'name': 'buzznigeria.com', 'url_search_string': None, 'label': 'buzznigeria.com', 'homepage': 'http://buzznigeria.com/', 'notes': None, 'platform': 'online_news', 'stories_per_week': None, 'first_story': None, 'created_at': '2022-12-23T17:43:28.547804Z', 'modified_at': '2022-12-23T17:43:28.547804Z', 'pub_country': 'NGA', 'pub_state': None, 'primary_language': 'en', 'media_type': 'digital_native', 'collection_count': 1}, {'id': 1912094, 'name': 'diamondfm.net', 'url_search_string': None, 'label': 'diamondfm.net', 'homepage': 'https://diamondfm.net/', 'notes': None, 'platform': 'online_news', 'stories_per_week': 0, 'first_story': None, 'created_at': '2023-12-30T22:15:10.514865Z', 'modified_at': '2023-12-30T22:15:10.514881Z', 'pub_country': None, 'pub_state': None, 'primary_language': None, 'media_type': None, 'collection_count': 1}, {'id': 305696, 'name': 'techcabal.com', 'url_search_string': None, 'label': 'techcabal.com', 'homepage': 'http://techcabal.com/', 'notes': None, 'platform': 'online_news', 'stories_per_week': None, 'first_story': None, 'created_at': '2022-12-23T17:43:28.547804Z', 'modified_at': '2023-12-30T22:15:09.199670Z', 'pub_country': None, 'pub_state': None, 'primary_language': None, 'media_type': None, 'collection_count': 1}, {'id': 306409, 'name': 'naijaparrot.com', 'url_search_string': None, 'label': 'naijaparrot.com', 'homepage': 'https://naijaparrot.com', 'notes': None, 'platform': 'online_news', 'stories_per_week': None, 'first_story': None, 'created_at': '2022-12-23T17:43:28.547804Z', 'modified_at': '2023-12-30T22:15:08.772030Z', 'pub_country': None, 'pub_state': None, 'primary_language': None, 'media_type': None, 'collection_count': 1}, {'id': 307556, 'name': 'naijaloaded.com.ng', 'url_search_string': None, 'label': 'naijaloaded.com.ng', 'homepage': 'http://naijaloaded.com.ng/', 'notes': None, 'platform': 'online_news', 'stories_per_week': 387, 'first_story': None, 'created_at': '2022-12-23T17:43:28.547804Z', 'modified_at': '2024-08-31T13:48:34.322392Z', 'pub_country': None, 'pub_state': None, 'primary_language': None, 'media_type': None, 'collection_count': 1}, {'id': 309009, 'name': 'nairanaijanews.com', 'url_search_string': None, 'label': 'nairanaijanews.com', 'homepage': 'http://www.nairanaijanews.com', 'notes': None, 'platform': 'online_news', 'stories_per_week': None, 'first_story': None, 'created_at': '2022-12-23T17:43:28.547804Z', 'modified_at': '2023-12-30T22:15:10.345993Z', 'pub_country': None, 'pub_state': None, 'primary_language': None, 'media_type': None, 'collection_count': 1}, {'id': 312360, 'name': 'yohaig.ng', 'url_search_string': None, 'label': 'yohaig.ng', 'homepage': 'https://www.yohaig.ng', 'notes': None, 'platform': 'online_news', 'stories_per_week': None, 'first_story': None, 'created_at': '2022-12-23T17:43:28.547804Z', 'modified_at': '2023-12-30T22:15:08.730577Z', 'pub_country': None, 'pub_state': None, 'primary_language': None, 'media_type': None, 'collection_count': 1}, {'id': 312801, 'name': 'royalfm.net', 'url_search_string': None, 'label': 'royalfm.net', 'homepage': 'http://royalfm.net', 'notes': None, 'platform': 'online_news', 'stories_per_week': None, 'first_story': None, 'created_at': '2022-12-23T17:43:28.547804Z', 'modified_at': '2023-12-30T22:15:09.390668Z', 'pub_country': None, 'pub_state': None, 'primary_language': None, 'media_type': None, 'collection_count': 1}]\n"
     ]
    }
   ],
   "source": [
    "print(sources)"
   ]
  },
  {
   "cell_type": "code",
   "execution_count": null,
   "metadata": {
    "id": "T0cZKO07-g9a"
   },
   "outputs": [],
   "source": []
  },
  {
   "cell_type": "code",
   "execution_count": null,
   "metadata": {
    "id": "lXrDmZ32HkcM"
   },
   "outputs": [],
   "source": []
  },
  {
   "cell_type": "markdown",
   "metadata": {
    "id": "EURpeiTzILS2"
   },
   "source": [
    "# Download for every month"
   ]
  },
  {
   "cell_type": "code",
   "execution_count": 8,
   "metadata": {
    "colab": {
     "base_uri": "https://localhost:8080/",
     "height": 35
    },
    "executionInfo": {
     "elapsed": 25,
     "status": "ok",
     "timestamp": 1743613836589,
     "user": {
      "displayName": "ICTD IITD",
      "userId": "11419946949516230456"
     },
     "user_tz": -330
    },
    "id": "l3Hw0jgwI9Uh",
    "outputId": "347ee03f-5d2d-41eb-abdc-22ff02fa5396"
   },
   "outputs": [
    {
     "data": {
      "application/vnd.google.colaboratory.intrinsic+json": {
       "type": "string"
      },
      "text/plain": [
       "'/content/drive/MyDrive/MediaCloud'"
      ]
     },
     "execution_count": 8,
     "metadata": {},
     "output_type": "execute_result"
    }
   ],
   "source": [
    "pwd"
   ]
  },
  {
   "cell_type": "code",
   "execution_count": 9,
   "metadata": {
    "colab": {
     "base_uri": "https://localhost:8080/"
    },
    "executionInfo": {
     "elapsed": 5613,
     "status": "ok",
     "timestamp": 1743613842204,
     "user": {
      "displayName": "ICTD IITD",
      "userId": "11419946949516230456"
     },
     "user_tz": -330
    },
    "id": "muKvBWfkINMY",
    "outputId": "7b879a37-43f9-4ac6-a51a-ef9fe11eec0d"
   },
   "outputs": [
    {
     "name": "stdout",
     "output_type": "stream",
     "text": [
      "Fetched 1000 stories for 2024-07, Total: 1000\n",
      "Saved 1000 stories to Farmers_Protest/Farmers_Protest_2024_07.csv\n",
      "Fetched 858 stories for 2024-08, Total: 858\n",
      "Saved 858 stories to Farmers_Protest/Farmers_Protest_2024_08.csv\n"
     ]
    }
   ],
   "source": [
    "import datetime as dt\n",
    "import time\n",
    "import csv\n",
    "import os\n",
    "\n",
    "India_NATIONAL_COLLECTION = 34412118\n",
    "my_query = ' \"farmers\" AND (\"protest\" OR \"agitation\" OR \"farm laws\" OR \"MSP\" OR \"march to Delhi\") '\n",
    "\n",
    "# Create output directory if not exists\n",
    "output_dir = \"Farmers_Protest\"\n",
    "os.makedirs(output_dir, exist_ok=True)\n",
    "\n",
    "# Define date range\n",
    "start_date = dt.date(2024, 7, 1)\n",
    "end_date = dt.date(2024, 8, 31)\n",
    "\n",
    "# Function to handle API request with exponential backoff\n",
    "def fetch_stories(month_start, month_end):\n",
    "    all_stories = []\n",
    "    more_stories = True\n",
    "    pagination_token = None\n",
    "    count = 0\n",
    "    retries = 0\n",
    "\n",
    "    while more_stories and count < 1000:\n",
    "        try:\n",
    "            page, pagination_token = search_api.story_list(\n",
    "                my_query, month_start, month_end,\n",
    "                collection_ids=[India_NATIONAL_COLLECTION],\n",
    "                pagination_token=pagination_token\n",
    "            )\n",
    "            all_stories += page\n",
    "            count += len(page)\n",
    "            more_stories = pagination_token is not None and count < 1000\n",
    "            print(f\"Fetched {len(page)} stories for {month_start.strftime('%Y-%m')}, Total: {count}\")\n",
    "\n",
    "            # Adding a small delay to prevent rate limiting\n",
    "            time.sleep(1)\n",
    "            retries = 0  # Reset retries on success\n",
    "        except RuntimeError as e:\n",
    "            print(f\"Error occurred for {month_start.strftime('%Y-%m')}: {e}\")\n",
    "            break\n",
    "        except Exception as ex:\n",
    "            if \"403\" in str(ex) and retries < 5:\n",
    "                wait_time = 2 ** retries  # Exponential backoff\n",
    "                print(f\"403 Error: Retrying in {wait_time} seconds...\")\n",
    "                time.sleep(wait_time)\n",
    "                retries += 1\n",
    "            else:\n",
    "                print(f\"Unexpected error for {month_start.strftime('%Y-%m')}: {ex}\")\n",
    "                break\n",
    "    return all_stories\n",
    "\n",
    "# Iterate through each month in the date range\n",
    "current_date = start_date\n",
    "while current_date <= end_date:\n",
    "    month_start = current_date.replace(day=1)\n",
    "    next_month = (month_start + dt.timedelta(days=32)).replace(day=1)\n",
    "    month_end = next_month - dt.timedelta(days=1)\n",
    "\n",
    "    # Fetch stories with improved error handling\n",
    "    all_stories = fetch_stories(month_start, month_end)\n",
    "\n",
    "    # Save to CSV\n",
    "    if all_stories:\n",
    "        filename = os.path.join(output_dir, f\"Farmers_Protest_{month_start.strftime('%Y_%m')}.csv\")\n",
    "        fieldnames = ['id', 'publish_date', 'title', 'url', 'language', 'media_name', 'media_url', 'indexed_date']\n",
    "\n",
    "        with open(filename, 'w', newline='', encoding='utf-8') as csvfile:\n",
    "            writer = csv.DictWriter(csvfile, fieldnames=fieldnames, extrasaction='ignore')\n",
    "            writer.writeheader()\n",
    "            for s in all_stories:\n",
    "                writer.writerow(s)\n",
    "        print(f\"Saved {len(all_stories)} stories to {filename}\")\n",
    "\n",
    "    # Move to the next month\n",
    "    current_date = next_month\n"
   ]
  },
  {
   "cell_type": "markdown",
   "metadata": {
    "id": "m-EHF5acPvnN"
   },
   "source": [
    "# Merge"
   ]
  },
  {
   "cell_type": "code",
   "execution_count": 7,
   "metadata": {
    "colab": {
     "base_uri": "https://localhost:8080/",
     "height": 0
    },
    "executionInfo": {
     "elapsed": 11,
     "status": "ok",
     "timestamp": 1743614136909,
     "user": {
      "displayName": "ICTD IITD",
      "userId": "11419946949516230456"
     },
     "user_tz": -330
    },
    "id": "vJ0wi8BDJBH7",
    "outputId": "4a285676-5cbb-491e-de43-0c2554a7075e"
   },
   "outputs": [
    {
     "data": {
      "application/vnd.google.colaboratory.intrinsic+json": {
       "type": "string"
      },
      "text/plain": [
       "'/content/drive/MyDrive/MediaCloud'"
      ]
     },
     "execution_count": 7,
     "metadata": {},
     "output_type": "execute_result"
    }
   ],
   "source": [
    "pwd"
   ]
  },
  {
   "cell_type": "code",
   "execution_count": 8,
   "metadata": {
    "colab": {
     "base_uri": "https://localhost:8080/"
    },
    "executionInfo": {
     "elapsed": 7516,
     "status": "ok",
     "timestamp": 1743614144427,
     "user": {
      "displayName": "ICTD IITD",
      "userId": "11419946949516230456"
     },
     "user_tz": -330
    },
    "id": "fIwYr60jQZYp",
    "outputId": "32e64e0b-7433-48ce-af34-a506b43eb273"
   },
   "outputs": [
    {
     "name": "stdout",
     "output_type": "stream",
     "text": [
      "CSV files have been successfully merged into 'Farmers_protest_Final.csv'\n"
     ]
    }
   ],
   "source": [
    "import os\n",
    "import pandas as pd\n",
    "\n",
    "# Define the path to the folder containing the CSV files\n",
    "folder_path = 'Farmers_Protest/temp/'  # Replace with your folder path\n",
    "\n",
    "# List all files in the folder\n",
    "csv_files = [f for f in os.listdir(folder_path) if f.endswith('.csv')]\n",
    "\n",
    "# Initialize an empty list to hold dataframes\n",
    "dfs = []\n",
    "\n",
    "# Iterate over each CSV file, read it, and append the dataframe to the list\n",
    "for file in csv_files:\n",
    "    file_path = os.path.join(folder_path, file)\n",
    "    df = pd.read_csv(file_path)\n",
    "    dfs.append(df)\n",
    "\n",
    "# Concatenate all dataframes into a single dataframe\n",
    "merged_df = pd.concat(dfs, ignore_index=True)\n",
    "\n",
    "# Filter the dataframe to keep only rows where 'language' is 'en'\n",
    "merged_df = merged_df[merged_df['language'] == 'en']\n",
    "\n",
    "# Save the merged dataframe to a new CSV file\n",
    "merged_df.to_csv('Farmers_Protest/Farmers_protest_Final_2024.csv', index=False)\n",
    "\n",
    "print(\"CSV files have been successfully merged into 'Farmers_protest_Final.csv'\")"
   ]
  },
  {
   "cell_type": "code",
   "execution_count": null,
   "metadata": {
    "id": "oP4cogNRQnzw"
   },
   "outputs": [],
   "source": []
  }
 ],
 "metadata": {
  "colab": {
   "collapsed_sections": [
    "dTMHHq2OMOhi",
    "d9p-zrVwWt48",
    "vUrkdU2DYJYq",
    "itdq8Keob6LQ",
    "xXJn8wsUGWx9",
    "uMAi4RYNQJEK",
    "rUtmNPBwe8p5",
    "6wTp7LlEr8EV",
    "ivvn4-j_wTMv",
    "lXtj3OGiDvAF",
    "aid1-0hBxvOI",
    "YA905_ZwyFpv",
    "WlKIY-bd0Nv-",
    "Luhszlz54v_f",
    "Cyq015wf9bCM",
    "AE-5aOUZ-Ezt"
   ],
   "machine_shape": "hm",
   "provenance": []
  },
  "kernelspec": {
   "display_name": "Python 3",
   "name": "python3"
  },
  "language_info": {
   "name": "python"
  }
 },
 "nbformat": 4,
 "nbformat_minor": 0
}
